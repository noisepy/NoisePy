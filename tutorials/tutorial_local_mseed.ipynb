{
 "cells": [
  {
   "cell_type": "markdown",
   "id": "22082cbb",
   "metadata": {},
   "source": [
    "# Local miniSEED Tutorial\n",
    "\n",
    "Noisepy is a python software package to process ambient seismic noise cross correlations. \n",
    "\n",
    "**Publication about this software**:\n",
    "Chengxin Jiang, Marine A. Denolle; NoisePy: A New High‐Performance Python Tool for Ambient‐Noise Seismology. Seismological Research Letters 2020; 91 (3): 1853–1866. doi: https://doi.org/10.1785/0220190364\n",
    "\n",
    "This tutorial will walk you through the basic steps of using NoisePy to compute ambient noise cross correlation functions using single instance workflow."
   ]
  },
  {
   "cell_type": "code",
   "execution_count": null,
   "id": "8a3efa5b",
   "metadata": {},
   "outputs": [],
   "source": [
    "# Uncomment and run this line if the environment doesn't have noisepy already installed:\n",
    "# ! pip install noisepy-seis"
   ]
  },
  {
   "cell_type": "markdown",
   "id": "2437d502",
   "metadata": {},
   "source": [
    "__Warning__: NoisePy uses ```obspy``` as a core Python module to manipulate seismic data. Restart the runtime now for proper installation of ```obspy``` on Colab.\n",
    "\n",
    "This tutorial should be ran after installing the noisepy package. "
   ]
  },
  {
   "cell_type": "markdown",
   "id": "7e832935",
   "metadata": {},
   "source": [
    "## Import necessary modules\n",
    "\n",
    "Then we import the basic modules"
   ]
  },
  {
   "cell_type": "code",
   "execution_count": null,
   "id": "5c87cbc5",
   "metadata": {},
   "outputs": [],
   "source": [
    "import os\n",
    "from noisepy.seis.io.mseedstore import MiniSeedDataStore\n",
    "from noisepy.seis.io.channelcatalog import XMLStationChannelCatalog\n",
    "from noisepy.seis.io.channel_filter_store import channel_filter\n",
    "from datetime import datetime, timezone\n",
    "from datetimerange import DateTimeRange\n",
    "\n",
    "from noisepy.seis.io.datatypes import ConfigParameters, CCMethod, FreqNorm, RmResp, StackMethod, TimeNorm"
   ]
  },
  {
   "cell_type": "markdown",
   "id": "edd8678a",
   "metadata": {},
   "source": [
    "Assume that you have some miniSEED files on your local file system. To use this `MiniSeedDataStore`, it is necessary to organize the file in a specific way. Here, we use SCEDC convention to organize and name miniSEED files. See **Continuous Waveforms** on https://scedc.caltech.edu/data/cloud.html for full details of this naming convention. ⚠️You may also modify the `MiniSeedDataStore` class to fit the naming strategy of your own data. See [source](https://github.com/noisepy/noisepy-io/blob/main/src/noisepy/seis/io/mseedstore.py).\n",
    "\n",
    "Below we show an example of three days of data organized in the SCEDC convention.\n",
    "\n"
   ]
  },
  {
   "cell_type": "code",
   "execution_count": null,
   "id": "ed5590f1",
   "metadata": {},
   "outputs": [],
   "source": [
    "!tree waveforms/"
   ]
  },
  {
   "cell_type": "code",
   "execution_count": null,
   "id": "5162688a",
   "metadata": {},
   "outputs": [],
   "source": [
    "!tree stations/"
   ]
  },
  {
   "cell_type": "code",
   "execution_count": null,
   "id": "6bb5ebfe",
   "metadata": {},
   "outputs": [],
   "source": [
    "STATION_XML = \"./stations/\"\n",
    "DATA = \"./waveforms/\"\n",
    "\n",
    "# timeframe for analysis\n",
    "start = datetime(2019, 9, 1, tzinfo=timezone.utc)\n",
    "end = datetime(2019, 9, 4, tzinfo=timezone.utc)\n",
    "timerange = DateTimeRange(start, end)\n",
    "print(timerange)"
   ]
  },
  {
   "cell_type": "code",
   "execution_count": null,
   "id": "9a2f1826",
   "metadata": {},
   "outputs": [],
   "source": [
    "# Initialize ambient noise workflow configuration\n",
    "config = ConfigParameters() # default config parameters which can be customized\n",
    "\n",
    "config.start_date = start\n",
    "config.end_date = end\n",
    "config.acorr_only = False # only perform auto-correlation or not\n",
    "config.xcorr_only = True # only perform cross-correlation or not\n",
    "\n",
    "config.inc_hours = 24\n",
    "config.sampling_rate = 20  # (int) Sampling rate in Hz of desired processing (it can be different than the data sampling rate)\n",
    "config.cc_len = 3600  # (float) basic unit of data length for fft (sec)\n",
    "config.step = 1800.0  # (float) overlapping between each cc_len (sec)\n",
    "\n",
    "config.ncomp = 1  # 1 or 3 component data (needed to decide whether do rotation)\n",
    "\n",
    "config.stationxml = False  # station.XML file used to remove instrument response for SAC/miniseed data\n",
    "      # If True, the stationXML file is assumed to be provided.\n",
    "config.rm_resp = RmResp.INV  # select 'no' to not remove response and use 'inv' if you use the stationXML,'spectrum',\n",
    "\n",
    "config.freqmin, config.freqmax = 0.05, 2.0  # broad band filtering of the data before cross correlation\n",
    "config.max_over_std = 10  # threshold to remove window of bad signals: set it to 10*9 if prefer not to remove them\n",
    "\n",
    "config.freq_norm = FreqNorm.RMA  # choose between \"rma\" for a soft whitening or \"no\" for no whitening. Pure whitening is not implemented correctly at this point.\n",
    "config.smoothspect_N = 10  # moving window length to smooth spectrum amplitude (points)\n",
    "\n",
    "config.time_norm = TimeNorm.ONE_BIT # 'no' for no normalization, or 'rma', 'one_bit' for normalization in time domain,\n",
    "config.smooth_N = 10  # moving window length for time domain normalization if selected (points)\n",
    "\n",
    "config.cc_method = CCMethod.XCORR # 'xcorr' for pure cross correlation OR 'deconv' for deconvolution;\n",
    "config.substack = True  # True = smaller stacks within the time chunk. False: it will stack over inc_hours\n",
    "config.substack_windows = 1  # how long to stack over (for monitoring purpose)\n",
    "config.maxlag= 200  # lags of cross-correlation to save (sec)"
   ]
  },
  {
   "cell_type": "code",
   "execution_count": null,
   "id": "6ad2778e",
   "metadata": {},
   "outputs": [],
   "source": [
    "config.networks = [\"TX\"]\n",
    "config.stations = [\"*\"]\n",
    "config.channels = [\"HH?\"]\n",
    "\n",
    "catalog = XMLStationChannelCatalog(STATION_XML, path_format='{network}.{name}.xml')\n",
    "raw_store = MiniSeedDataStore(DATA, catalog,\n",
    "                              channel_filter(config.networks, config.stations, config.channels), \n",
    "                              date_range=timerange)"
   ]
  },
  {
   "cell_type": "code",
   "execution_count": null,
   "id": "a1cce306",
   "metadata": {},
   "outputs": [],
   "source": [
    "span = raw_store.get_timespans()\n",
    "print(span)"
   ]
  },
  {
   "cell_type": "code",
   "execution_count": null,
   "id": "67dc1cea",
   "metadata": {},
   "outputs": [],
   "source": [
    "channels = raw_store.get_channels(span[0])\n",
    "print(channels)"
   ]
  },
  {
   "cell_type": "code",
   "execution_count": null,
   "id": "85db0569",
   "metadata": {},
   "outputs": [],
   "source": [
    "raw_store.read_data(span[0], channels[0]).stream"
   ]
  }
 ],
 "metadata": {
  "kernelspec": {
   "display_name": "noisepy",
   "language": "python",
   "name": "noisepy"
  },
  "language_info": {
   "codemirror_mode": {
    "name": "ipython",
    "version": 3
   },
   "file_extension": ".py",
   "mimetype": "text/x-python",
   "name": "python",
   "nbconvert_exporter": "python",
   "pygments_lexer": "ipython3",
   "version": "3.10.14"
  }
 },
 "nbformat": 4,
 "nbformat_minor": 1
}
