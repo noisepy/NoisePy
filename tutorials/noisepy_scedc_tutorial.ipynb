{
  "cells": [
    {
      "attachments": {},
      "cell_type": "markdown",
      "metadata": {
        "id": "PIA2IaqUOeOA"
      },
      "source": [
        "# NoisePy SCEDC Tutorial\n",
        "\n",
        "Noisepy is a python software package to process ambient seismic noise cross correlations. This tutorial aims to introduce the use of noisepy for a toy problem on the SCEDC data. It can be ran locally or on the cloud.\n",
        "\n",
        "\n",
        "The data is stored on AWS S3 as the SCEDC Data Set: https://scedc.caltech.edu/data/getstarted-pds.html\n",
        "\n"
      ]
    },
    {
      "cell_type": "markdown",
      "metadata": {},
      "source": [
        "First, we install the noisepy-seis package"
      ]
    },
    {
      "cell_type": "code",
      "execution_count": 1,
      "metadata": {},
      "outputs": [],
      "source": [
        "# Uncomment and run this line if the environment doesn't have noisepy already installed:\n",
        "# ! pip install noisepy-seis "
      ]
    },
    {
      "cell_type": "markdown",
      "metadata": {},
      "source": [
        "__Warning__: NoisePy uses ```obspy``` as a core Python module to manipulate seismic data. If you use Google Colab, restart the runtime now for proper installation of ```obspy``` on Colab."
      ]
    },
    {
      "cell_type": "markdown",
      "metadata": {
        "id": "WtDb2_y3Oreg"
      },
      "source": [
        "## Import necessary modules\n",
        "\n",
        "Then we import the basic modules"
      ]
    },
    {
      "cell_type": "code",
      "execution_count": 2,
      "metadata": {
        "id": "vceZgD83PnNc"
      },
      "outputs": [
        {
          "name": "stderr",
          "output_type": "stream",
          "text": [
            "/Users/marinedenolle/opt/miniconda3/envs/noisepy/lib/python3.10/site-packages/tqdm/auto.py:21: TqdmWarning: IProgress not found. Please update jupyter and ipywidgets. See https://ipywidgets.readthedocs.io/en/stable/user_install.html\n",
            "  from .autonotebook import tqdm as notebook_tqdm\n"
          ]
        },
        {
          "name": "stdout",
          "output_type": "stream",
          "text": [
            "Using NoisePy version 0.9.72.dev12\n"
          ]
        }
      ],
      "source": [
        "from noisepy.seis import cross_correlate, stack, plotting_modules, __version__       # noisepy core functions\n",
        "from noisepy.seis.asdfstore import ASDFCCStore, ASDFStackStore          # Object to store ASDF data within noisepy\n",
        "from noisepy.seis.scedc_s3store import SCEDCS3DataStore, channel_filter # Object to query SCEDC data from on S3\n",
        "from noisepy.seis.datatypes import ConfigParameters                     # Main configuration object\n",
        "from noisepy.seis.channelcatalog import XMLStationChannelCatalog        # Required stationXML handling object\n",
        "import os\n",
        "from datetime import datetime\n",
        "from datetimerange import DateTimeRange\n",
        "\n",
        "\n",
        "from noisepy.seis.plotting_modules import plot_all_moveout\n",
        "\n",
        "print(f\"Using NoisePy version {__version__}\")\n",
        "\n",
        "path = \"./scedc_data\" \n",
        "\n",
        "os.makedirs(path, exist_ok=True)\n",
        "cc_data_path = os.path.join(path, \"CCF\")\n",
        "stack_data_path = os.path.join(path, \"STACK\")\n",
        "S3_STORAGE_OPTIONS = {\"s3\": {\"anon\": True}}"
      ]
    },
    {
      "cell_type": "markdown",
      "metadata": {
        "id": "pntYzIYGNTn8"
      },
      "source": [
        "We will work with a single day worth of data on SCEDC. The continuous data is organized with a single day and channel per miniseed (https://scedc.caltech.edu/data/cloud.html). For this example, you can choose any year since 2002. We will just cross correlate a single day."
      ]
    },
    {
      "cell_type": "code",
      "execution_count": 3,
      "metadata": {
        "id": "yojR0Z3ALm6K"
      },
      "outputs": [
        {
          "name": "stdout",
          "output_type": "stream",
          "text": [
            "2022-01-01T00:00:00 - 2022-01-03T00:00:00\n"
          ]
        }
      ],
      "source": [
        "# SCEDC S3 bucket common URL characters for that day.\n",
        "S3_DATA = \"s3://scedc-pds/continuous_waveforms/\"\n",
        "# timeframe for analysis\n",
        "start = datetime(2002, 1, 1)\n",
        "end = datetime(2002, 1, 3)\n",
        "timerange = DateTimeRange(start, end)\n",
        "print(timerange)"
      ]
    },
    {
      "cell_type": "markdown",
      "metadata": {
        "id": "E1CC-BljNzus"
      },
      "source": [
        "The station information, including the instrumental response, is stored as stationXML in the following bucket"
      ]
    },
    {
      "cell_type": "code",
      "execution_count": 4,
      "metadata": {
        "id": "mhfgrMPALsYS"
      },
      "outputs": [],
      "source": [
        "S3_STATION_XML = \"s3://scedc-pds/FDSNstationXML/CI/\"            # S3 storage of stationXML\n"
      ]
    },
    {
      "cell_type": "markdown",
      "metadata": {
        "id": "ssaL5fa5IhI7"
      },
      "source": [
        "## Ambient Noise Project Configuration\n",
        "\n",
        "We prepare the configuration of the workflow by declaring and storing parameters into the ``ConfigParameters()`` object and/or editing the ``config.yml`` file.\n"
      ]
    },
    {
      "cell_type": "code",
      "execution_count": 5,
      "metadata": {
        "id": "dIjBD7riIfdJ"
      },
      "outputs": [],
      "source": [
        "# Initialize ambient noise workflow configuration\n",
        "config = ConfigParameters() # default config parameters which can be customized\n"
      ]
    },
    {
      "cell_type": "markdown",
      "metadata": {
        "id": "Tsp7RfC8IwE-"
      },
      "source": [
        "Customize the job parameters below:"
      ]
    },
    {
      "cell_type": "code",
      "execution_count": 6,
      "metadata": {
        "id": "ByEiHRjmIAPB"
      },
      "outputs": [],
      "source": [
        "\n",
        "config.acorr_only = False  # only perform auto-correlation or not\n",
        "config.xcorr_only = True  # only perform cross-correlation or not\n",
        "\n",
        "config.inc_hours = 24 # INC_HOURS is used in hours (integer) as the \n",
        "        #chunk of time that the paralelliztion will work.\n",
        "        # data will be loaded in memory, so reduce memory with smaller \n",
        "        # inc_hours if there are over 400+ stations.\n",
        "        # At regional scale for SCEDC, we can afford 20Hz data and inc_hour \n",
        "        # being a day of data.\n",
        "\n",
        " \n",
        "# pre-processing parameters\n",
        "config.samp_freq= 20  # (int) Sampling rate in Hz of desired processing (it can be different than the data sampling rate)\n",
        "config.cc_len= 3600.0  # (float) basic unit of data length for fft (sec)\n",
        "config.step= 1800.0  # (float) overlapping between each cc_len (sec)\n",
        "\n",
        "config.ncomp = 3  # 1 or 3 component data (needed to decide whether do rotation)\n",
        "\n",
        "config.stationxml= False  # station.XML file used to remove instrument response for SAC/miniseed data\n",
        "      # If True, the stationXML file is assumed to be provided.\n",
        "config.rm_resp= \"inv\"  # select 'no' to not remove response and use 'inv' if you use the stationXML,'spectrum',\n",
        "\n",
        "\n",
        "############## NOISE PRE-PROCESSING ##################\n",
        "config.freqmin,config.freqmax = 0.05,2.0  # broad band filtering of the data before cross correlation\n",
        "config.max_over_std  = 10  # threshold to remove window of bad signals: set it to 10*9 if prefer not to remove them\n",
        "\n",
        "################### SPECTRAL NORMALIZATION ############\n",
        "config.freq_norm= \"rma\"  # choose between \"rma\" for a soft whitening or \"no\" for no whitening. Pure whitening is not implemented correctly at this point.\n",
        "config.smoothspect_N = 10  # moving window length to smooth spectrum amplitude (points)\n",
        "    # here, choose smoothspect_N for the case of a strict whitening (e.g., phase_only)\n",
        "\n",
        "\n",
        "#################### TEMPORAL NORMALIZATION ##########\n",
        "config.time_norm = \"one_bit\"  # 'no' for no normalization, or 'rma', 'one_bit' for normalization in time domain,\n",
        "config.smooth_N= 10  # moving window length for time domain normalization if selected (points)\n",
        "\n",
        "\n",
        "############ cross correlation ##############\n",
        "\n",
        "config.cc_method= \"xcorr\"  # 'xcorr' for pure cross correlation OR 'deconv' for deconvolution;\n",
        "    # FOR \"COHERENCY\" PLEASE set freq_norm to \"rma\", time_norm to \"no\" and cc_method to \"xcorr\"\n",
        "\n",
        "# OUTPUTS:\n",
        "config.substack = True  # True = smaller stacks within the time chunk. False: it will stack over inc_hours\n",
        "config.substack_len = config.cc_len  # how long to stack over (for monitoring purpose): need to be multiples of cc_len\n",
        "    # if substack=True, substack_len=2*cc_len, then you pre-stack every 2 correlation windows.\n",
        "    # for instance: substack=True, substack_len=cc_len means that you keep ALL of the correlations\n",
        "    # if substack=False, the cross correlation will be stacked over the inc_hour window\n",
        "\n",
        "### For monitoring applications ####\n",
        "## we recommend substacking ever 2-4 cross correlations and storing the substacks\n",
        "# e.g. \n",
        "# config.substack = True \n",
        "# config.substack_len = 4* config.cc_len\n",
        "\n",
        "config.maxlag= 200  # lags of cross-correlation to save (sec)"
      ]
    },
    {
      "cell_type": "code",
      "execution_count": 7,
      "metadata": {},
      "outputs": [
        {
          "data": {
            "text/plain": [
              "0"
            ]
          },
          "execution_count": 7,
          "metadata": {},
          "output_type": "execute_result"
        }
      ],
      "source": [
        "# For this tutorial make sure the previous run is empty\n",
        "os.system(f\"rm -rf {cc_data_path}\")\n"
      ]
    },
    {
      "cell_type": "markdown",
      "metadata": {
        "id": "Wwv1QCQhP_0Y"
      },
      "source": [
        "## Step 1: Cross-correlation\n",
        "\n",
        "In this instance, we read directly the data from the scedc bucket into the cross correlation code. We are not attempting to recreate a data store. Therefore we go straight to step 1 of the cross correlations."
      ]
    },
    {
      "cell_type": "markdown",
      "metadata": {},
      "source": [
        "We first declare the data and cross correlation stores"
      ]
    },
    {
      "cell_type": "code",
      "execution_count": 8,
      "metadata": {
        "id": "jq2DKIS9Rl2H"
      },
      "outputs": [],
      "source": [
        "stations = \"RPV,STS,LTP,LGB,WLT,CPP,PDU,CLT,SVD,BBR\".split(\",\") # filter to these stations\n",
        "\n",
        "# stations = \"DGR,DEV,DLA,DNR,FMP,HLL,LGU,LLS,MLS,PDU,PDR,RIN,RIO,RVR,SMS,BBR,CHN,MWC,RIO,BBS,RPV,ADO,DEV\".split(\",\") # filter to these stations\n",
        "catalog = XMLStationChannelCatalog(S3_STATION_XML, storage_options=S3_STORAGE_OPTIONS) # Station catalog\n",
        "raw_store = SCEDCS3DataStore(S3_DATA, catalog, channel_filter(stations, \"BH\"), timerange, storage_options=S3_STORAGE_OPTIONS) # Store for reading raw data from S3 bucket\n",
        "cc_store = ASDFCCStore(cc_data_path,mode=\"w\") # Store for writing CC data"
      ]
    },
    {
      "cell_type": "markdown",
      "metadata": {},
      "source": [
        "get the time range of the data in the data store inventory"
      ]
    },
    {
      "cell_type": "code",
      "execution_count": 9,
      "metadata": {},
      "outputs": [
        {
          "name": "stdout",
          "output_type": "stream",
          "text": [
            "[2022-01-01T00:00:00+0000 - 2022-01-02T00:00:00+0000, 2022-01-02T00:00:00+0000 - 2022-01-03T00:00:00+0000]\n"
          ]
        }
      ],
      "source": [
        "span = raw_store.get_timespans()\n",
        "print(span)"
      ]
    },
    {
      "cell_type": "markdown",
      "metadata": {},
      "source": [
        "Get the channels available during a given time spane"
      ]
    },
    {
      "cell_type": "code",
      "execution_count": 10,
      "metadata": {},
      "outputs": [
        {
          "name": "stderr",
          "output_type": "stream",
          "text": [
            "2023-09-11 09:56:50,978 4314760576 INFO utils.log_raw(): TIMING: 2.8096 secs. for Loading 4035 files from s3://scedc-pds/continuous_waveforms/2022/2022_002/\n",
            "2023-09-11 09:56:51,026 4314760576 INFO utils.log_raw(): TIMING: 0.0481 secs. for Init: 1 timespans and 24 channels\n",
            "2023-09-11 09:56:51,125 11372883968 INFO channelcatalog._get_inventory_from_file(): Reading StationXML file s3://scedc-pds/FDSNstationXML/CI/CI_RPV.xml\n",
            "2023-09-11 09:56:51,250 11490668544 INFO channelcatalog._get_inventory_from_file(): Reading StationXML file s3://scedc-pds/FDSNstationXML/CI/CI_LTP.xml\n",
            "2023-09-11 09:56:51,252 11440189440 INFO channelcatalog._get_inventory_from_file(): Reading StationXML file s3://scedc-pds/FDSNstationXML/CI/CI_PDU.xml\n",
            "2023-09-11 09:56:51,530 11423363072 INFO channelcatalog._get_inventory_from_file(): Reading StationXML file s3://scedc-pds/FDSNstationXML/CI/CI_CLT.xml\n",
            "2023-09-11 09:56:51,531 11389710336 INFO channelcatalog._get_inventory_from_file(): Reading StationXML file s3://scedc-pds/FDSNstationXML/CI/CI_WLT.xml\n",
            "2023-09-11 09:56:51,531 11406536704 INFO channelcatalog._get_inventory_from_file(): Reading StationXML file s3://scedc-pds/FDSNstationXML/CI/CI_BBR.xml\n",
            "2023-09-11 09:56:51,531 11473842176 INFO channelcatalog._get_inventory_from_file(): Reading StationXML file s3://scedc-pds/FDSNstationXML/CI/CI_LGB.xml\n",
            "2023-09-11 09:56:51,537 11457015808 INFO channelcatalog._get_inventory_from_file(): Reading StationXML file s3://scedc-pds/FDSNstationXML/CI/CI_STS.xml\n",
            "2023-09-11 09:57:26,786 4314760576 INFO scedc_s3store.get_channels(): Getting 24 channels for 2022-01-02T00:00:00+0000 - 2022-01-03T00:00:00+0000: [CI.BBR.BHE, CI.BBR.BHN, CI.BBR.BHZ, CI.CLT.BHE, CI.CLT.BHN, CI.CLT.BHZ, CI.LGB.BHE, CI.LGB.BHN, CI.LGB.BHZ, CI.LTP.BHE, CI.LTP.BHN, CI.LTP.BHZ, CI.PDU.BHE, CI.PDU.BHN, CI.PDU.BHZ, CI.RPV.BHE, CI.RPV.BHN, CI.RPV.BHZ, CI.STS.BHE, CI.STS.BHN, CI.STS.BHZ, CI.WLT.BHE, CI.WLT.BHN, CI.WLT.BHZ]\n"
          ]
        },
        {
          "name": "stdout",
          "output_type": "stream",
          "text": [
            "[CI.BBR.BHE, CI.BBR.BHN, CI.BBR.BHZ, CI.CLT.BHE, CI.CLT.BHN, CI.CLT.BHZ, CI.LGB.BHE, CI.LGB.BHN, CI.LGB.BHZ, CI.LTP.BHE, CI.LTP.BHN, CI.LTP.BHZ, CI.PDU.BHE, CI.PDU.BHN, CI.PDU.BHZ, CI.RPV.BHE, CI.RPV.BHN, CI.RPV.BHZ, CI.STS.BHE, CI.STS.BHN, CI.STS.BHZ, CI.WLT.BHE, CI.WLT.BHN, CI.WLT.BHZ]\n"
          ]
        }
      ],
      "source": [
        "channel_list=raw_store.get_channels(span[1])\n",
        "print(channel_list)"
      ]
    },
    {
      "cell_type": "markdown",
      "metadata": {
        "id": "5qsPGkNp9Msx"
      },
      "source": [
        "## Perform the cross correlation\n",
        "The data will be pulled from SCEDC, cross correlated, and stored locally if this notebook is ran locally.\n",
        "If you are re-calculating, we recommend to clear the old ``cc_store``."
      ]
    },
    {
      "cell_type": "code",
      "execution_count": 11,
      "metadata": {
        "id": "49MnDXYp9Msx"
      },
      "outputs": [
        {
          "name": "stderr",
          "output_type": "stream",
          "text": [
            "2023-09-11 09:57:26,799 4314760576 INFO S1_fft_cc_MPI.cross_correlate(): Starting Cross-Correlation with 10 cores\n",
            "2023-09-11 09:57:27,913 4314760576 INFO utils.log_raw(): TIMING: 1.1141 secs. for Loading 4071 files from s3://scedc-pds/continuous_waveforms/2022/2022_001/\n",
            "2023-09-11 09:57:27,961 4314760576 INFO utils.log_raw(): TIMING: 0.0479 secs. for Init: 2 timespans and 48 channels\n",
            "2023-09-11 09:57:27,962 4314760576 INFO scedc_s3store.get_channels(): Getting 24 channels for 2022-01-01T00:00:00+0000 - 2022-01-02T00:00:00+0000: [CI.BBR.BHE, CI.BBR.BHN, CI.BBR.BHZ, CI.CLT.BHE, CI.CLT.BHN, CI.CLT.BHZ, CI.LGB.BHE, CI.LGB.BHN, CI.LGB.BHZ, CI.LTP.BHE, CI.LTP.BHN, CI.LTP.BHZ, CI.PDU.BHE, CI.PDU.BHN, CI.PDU.BHZ, CI.RPV.BHE, CI.RPV.BHN, CI.RPV.BHZ, CI.STS.BHE, CI.STS.BHN, CI.STS.BHZ, CI.WLT.BHE, CI.WLT.BHN, CI.WLT.BHZ]\n",
            "2023-09-11 09:57:27,969 4314760576 INFO utils.log_raw(): TIMING CC Main: 1.1696 secs. for get 24 channels\n",
            "2023-09-11 09:57:27,970 4314760576 INFO S1_fft_cc_MPI.cross_correlate(): Checking for stations already done: 36 pairs\n",
            "2023-09-11 09:57:27,987 4314760576 INFO utils.log_raw(): TIMING CC Main: 0.0173 secs. for check for stations already done\n",
            "2023-09-11 09:57:27,987 4314760576 INFO S1_fft_cc_MPI.cross_correlate(): Still need to process: 8/8 stations, 24/24 channels, 36/36 pairs for 2022-01-01T00:00:00+0000 - 2022-01-02T00:00:00+0000\n",
            "Read channel data. Memory:  1165 MB: 100%|██████████| 24/24 [00:18<00:00,  1.33it/s]\n",
            "2023-09-11 09:57:46,052 4314760576 INFO S1_fft_cc_MPI._filter_channel_data(): Picked 40.0 as the closest sampling frequence to 20. \n",
            "2023-09-11 09:57:46,053 4314760576 INFO S1_fft_cc_MPI._filter_channel_data(): Filtered to 24/24 channels with sampling rate == 40.0\n",
            "2023-09-11 09:57:46,053 4314760576 INFO utils.log_raw(): TIMING CC Main: 18.0663 secs. for Read channel data: 24 channels\n",
            "2023-09-11 09:57:47,938 11392856064 INFO noise_module.preprocess_raw(): removing response for CI.PDU..BHE | 2022-01-01T00:00:00.000000Z - 2022-01-01T23:59:59.950000Z | 20.0 Hz, 1728000 samples using inv\n",
            "2023-09-11 09:57:47,956 11883687936 INFO noise_module.preprocess_raw(): removing response for CI.BBR..BHN | 2022-01-01T00:00:00.000000Z - 2022-01-01T23:59:59.950000Z | 20.0 Hz, 1728000 samples using inv\n",
            "2023-09-11 09:57:47,966 11866861568 INFO noise_module.preprocess_raw(): removing response for CI.BBR..BHZ | 2022-01-01T00:00:00.000000Z - 2022-01-01T23:59:59.950000Z | 20.0 Hz, 1728000 samples using inv\n",
            "2023-09-11 09:57:47,994 11409682432 INFO noise_module.preprocess_raw(): removing response for CI.CLT..BHZ | 2022-01-01T00:00:00.000000Z - 2022-01-01T23:59:59.950000Z | 20.0 Hz, 1728000 samples using inv\n",
            "2023-09-11 09:57:48,031 11443335168 INFO noise_module.preprocess_raw(): removing response for CI.LGB..BHE | 2022-01-01T00:00:00.000000Z - 2022-01-01T23:59:59.950000Z | 20.0 Hz, 1728000 samples using inv\n",
            "2023-09-11 09:57:48,031 11460161536 INFO noise_module.preprocess_raw(): removing response for CI.LGB..BHZ | 2022-01-01T00:00:00.000000Z - 2022-01-01T23:59:59.950000Z | 20.0 Hz, 1728000 samples using inv\n",
            "2023-09-11 09:57:48,032 11850035200 INFO noise_module.preprocess_raw(): removing response for CI.LTP..BHE | 2022-01-01T00:00:00.000000Z - 2022-01-01T23:59:59.950000Z | 20.0 Hz, 1728000 samples using inv\n",
            "2023-09-11 09:57:48,103 11900514304 INFO noise_module.preprocess_raw(): removing response for CI.LTP..BHN | 2022-01-01T00:00:00.000000Z - 2022-01-01T23:59:59.950000Z | 20.0 Hz, 1728000 samples using inv\n",
            "2023-09-11 09:57:48,123 11833208832 INFO noise_module.preprocess_raw(): removing response for CI.CLT..BHE | 2022-01-01T00:00:00.000000Z - 2022-01-01T23:59:59.950000Z | 20.0 Hz, 1728000 samples using inv\n",
            "2023-09-11 09:57:48,124 11426508800 INFO noise_module.preprocess_raw(): removing response for CI.LTP..BHZ | 2022-01-01T00:00:00.000000Z - 2022-01-01T23:59:59.950000Z | 20.0 Hz, 1728000 samples using inv\n",
            "2023-09-11 09:57:48,126 11376029696 INFO noise_module.preprocess_raw(): removing response for CI.PDU..BHN | 2022-01-01T00:00:00.000000Z - 2022-01-01T23:59:59.950000Z | 20.0 Hz, 1728000 samples using inv\n",
            "2023-09-11 09:57:48,158 11917340672 INFO noise_module.preprocess_raw(): removing response for CI.CLT..BHN | 2022-01-01T00:00:00.000000Z - 2022-01-01T23:59:59.950000Z | 20.0 Hz, 1728000 samples using inv\n",
            "2023-09-11 09:57:48,165 11934167040 INFO noise_module.preprocess_raw(): removing response for CI.BBR..BHE | 2022-01-01T00:00:00.000000Z - 2022-01-01T23:59:59.950000Z | 20.0 Hz, 1728000 samples using inv\n",
            "2023-09-11 09:57:48,171 11476987904 INFO noise_module.preprocess_raw(): removing response for CI.LGB..BHN | 2022-01-01T00:00:00.000000Z - 2022-01-01T23:59:59.950000Z | 20.0 Hz, 1728000 samples using inv\n",
            "2023-09-11 09:57:50,654 11883687936 INFO noise_module.preprocess_raw(): removing response for CI.RPV..BHE | 2022-01-01T00:00:00.000000Z - 2022-01-01T23:59:59.950000Z | 20.0 Hz, 1728000 samples using inv\n",
            "2023-09-11 09:57:50,808 11392856064 INFO noise_module.preprocess_raw(): removing response for CI.PDU..BHZ | 2022-01-01T00:00:00.000000Z - 2022-01-01T23:59:59.950000Z | 20.0 Hz, 1728000 samples using inv\n",
            "2023-09-11 09:57:50,877 11443335168 INFO noise_module.preprocess_raw(): removing response for CI.RPV..BHN | 2022-01-01T00:00:00.000000Z - 2022-01-01T23:59:59.950000Z | 20.0 Hz, 1728000 samples using inv\n",
            "2023-09-11 09:57:51,195 11409682432 INFO noise_module.preprocess_raw(): removing response for CI.RPV..BHZ | 2022-01-01T00:00:00.000000Z - 2022-01-01T23:59:59.950000Z | 20.0 Hz, 1728000 samples using inv\n",
            "2023-09-11 09:57:51,523 11426508800 INFO noise_module.preprocess_raw(): removing response for CI.STS..BHE | 2022-01-01T00:00:00.000000Z - 2022-01-01T23:59:59.950000Z | 20.0 Hz, 1728000 samples using inv\n",
            "2023-09-11 09:57:51,585 11866861568 INFO noise_module.preprocess_raw(): removing response for CI.STS..BHZ | 2022-01-01T00:00:00.000000Z - 2022-01-01T23:59:59.950000Z | 20.0 Hz, 1728000 samples using inv\n",
            "2023-09-11 09:57:51,701 11460161536 INFO noise_module.preprocess_raw(): removing response for CI.STS..BHN | 2022-01-01T00:00:00.000000Z - 2022-01-01T23:59:59.950000Z | 20.0 Hz, 1728000 samples using inv\n",
            "2023-09-11 09:57:51,854 11850035200 INFO noise_module.preprocess_raw(): removing response for CI.WLT..BHE | 2022-01-01T00:00:00.000000Z - 2022-01-01T23:59:59.950000Z | 20.0 Hz, 1728000 samples using inv\n",
            "2023-09-11 09:57:51,955 11833208832 INFO noise_module.preprocess_raw(): removing response for CI.WLT..BHZ | 2022-01-01T00:00:00.000000Z - 2022-01-01T23:59:59.950000Z | 20.0 Hz, 1728000 samples using inv\n",
            "2023-09-11 09:57:51,988 11900514304 INFO noise_module.preprocess_raw(): removing response for CI.WLT..BHN | 2022-01-01T00:00:00.000000Z - 2022-01-01T23:59:59.950000Z | 20.0 Hz, 1728000 samples using inv\n",
            "Pre-process. Memory:  3168 MB: 100%|██████████| 24/24 [00:06<00:00,  3.46it/s]\n",
            "2023-09-11 09:57:53,033 4314760576 INFO utils.log_raw(): TIMING CC Main: 6.9805 secs. for Preprocess: 24 channels\n",
            "2023-09-11 09:57:53,034 4314760576 INFO S1_fft_cc_MPI.check_memory(): Require  0.30gb memory for cross correlations\n",
            "Compute ffts. Memory:  3150 MB: 100%|██████████| 24/24 [00:03<00:00,  7.89it/s]\n",
            "2023-09-11 09:57:56,303 4314760576 INFO utils.log_raw(): TIMING CC Main: 3.2688 secs. for Compute FFTs: 24 channels\n",
            "2023-09-11 09:57:56,304 4314760576 INFO S1_fft_cc_MPI.cross_correlate(): Starting CC with 36 station pairs\n",
            "2023-09-11 09:57:56,305 11392856064 ERROR S1_fft_cc_MPI.stations_cross_correlation(): Error processing CI.BBR and CI.LGB for 2022-01-01T00:00:00+0000 - 2022-01-02T00:00:00+0000: Unable to create file (unable to truncate a file which is already open)\n",
            "2023-09-11 09:57:56,305 11409682432 ERROR S1_fft_cc_MPI.stations_cross_correlation(): Error processing CI.BBR and CI.BBR for 2022-01-01T00:00:00+0000 - 2022-01-02T00:00:00+0000: Unable to create file (unable to truncate a file which is already open)\n",
            "2023-09-11 09:57:56,307 11460161536 ERROR S1_fft_cc_MPI.stations_cross_correlation(): Error processing CI.BBR and CI.LTP for 2022-01-01T00:00:00+0000 - 2022-01-02T00:00:00+0000: Unable to create file (unable to truncate a file which is already open)\n",
            "2023-09-11 09:57:56,307 11934167040 ERROR S1_fft_cc_MPI.stations_cross_correlation(): Error processing CI.BBR and CI.PDU for 2022-01-01T00:00:00+0000 - 2022-01-02T00:00:00+0000: Unable to create file (unable to truncate a file which is already open)\n",
            "2023-09-11 09:57:56,307 11850035200 ERROR S1_fft_cc_MPI.stations_cross_correlation(): Error processing CI.BBR and CI.STS for 2022-01-01T00:00:00+0000 - 2022-01-02T00:00:00+0000: Unable to create file (unable to truncate a file which is already open)\n",
            "2023-09-11 09:57:56,307 11833208832 ERROR S1_fft_cc_MPI.stations_cross_correlation(): Error processing CI.BBR and CI.RPV for 2022-01-01T00:00:00+0000 - 2022-01-02T00:00:00+0000: Unable to create file (unable to truncate a file which is already open)\n",
            "2023-09-11 09:57:56,307 11426508800 ERROR S1_fft_cc_MPI.stations_cross_correlation(): Error processing CI.BBR and CI.WLT for 2022-01-01T00:00:00+0000 - 2022-01-02T00:00:00+0000: Unable to create file (unable to truncate a file which is already open)\n",
            "2023-09-11 09:57:56,307 11443335168 ERROR S1_fft_cc_MPI.stations_cross_correlation(): Error processing CI.CLT and CI.CLT for 2022-01-01T00:00:00+0000 - 2022-01-02T00:00:00+0000: Unable to create file (unable to truncate a file which is already open)\n",
            "2023-09-11 09:57:56,308 11376029696 ERROR S1_fft_cc_MPI.stations_cross_correlation(): Error processing CI.CLT and CI.LGB for 2022-01-01T00:00:00+0000 - 2022-01-02T00:00:00+0000: Unable to create file (unable to truncate a file which is already open)\n",
            "2023-09-11 09:57:56,308 11883687936 ERROR S1_fft_cc_MPI.stations_cross_correlation(): Error processing CI.CLT and CI.RPV for 2022-01-01T00:00:00+0000 - 2022-01-02T00:00:00+0000: Unable to create file (unable to truncate a file which is already open)\n",
            "2023-09-11 09:57:56,309 11900514304 ERROR S1_fft_cc_MPI.stations_cross_correlation(): Error processing CI.CLT and CI.STS for 2022-01-01T00:00:00+0000 - 2022-01-02T00:00:00+0000: Unable to create file (unable to truncate a file which is already open)\n",
            "2023-09-11 09:57:56,309 11392856064 ERROR S1_fft_cc_MPI.stations_cross_correlation(): Error processing CI.CLT and CI.WLT for 2022-01-01T00:00:00+0000 - 2022-01-02T00:00:00+0000: Unable to create file (unable to truncate a file which is already open)\n",
            "2023-09-11 09:57:56,309 11476987904 ERROR S1_fft_cc_MPI.stations_cross_correlation(): Error processing CI.CLT and CI.PDU for 2022-01-01T00:00:00+0000 - 2022-01-02T00:00:00+0000: Unable to create file (unable to truncate a file which is already open)\n",
            "2023-09-11 09:57:56,313 11409682432 ERROR S1_fft_cc_MPI.stations_cross_correlation(): Error processing CI.LGB and CI.LTP for 2022-01-01T00:00:00+0000 - 2022-01-02T00:00:00+0000: Unable to create file (unable to truncate a file which is already open)\n",
            "2023-09-11 09:57:56,324 11426508800 ERROR S1_fft_cc_MPI.stations_cross_correlation(): Error processing CI.LGB and CI.WLT for 2022-01-01T00:00:00+0000 - 2022-01-02T00:00:00+0000: Unable to create file (unable to truncate a file which is already open)\n",
            "2023-09-11 09:57:56,363 11476987904 ERROR S1_fft_cc_MPI.stations_cross_correlation(): Error processing CI.PDU and CI.PDU for 2022-01-01T00:00:00+0000 - 2022-01-02T00:00:00+0000: Unable to create file (unable to truncate a file which is already open)\n",
            "2023-09-11 09:57:57,605 11460161536 ERROR S1_fft_cc_MPI.stations_cross_correlation(): Error processing CI.RPV and CI.RPV for 2022-01-01T00:00:00+0000 - 2022-01-02T00:00:00+0000: Unable to create file (unable to truncate a file which is already open)\n",
            "2023-09-11 09:57:57,616 11460161536 ERROR S1_fft_cc_MPI.stations_cross_correlation(): Error processing CI.RPV and CI.STS for 2022-01-01T00:00:00+0000 - 2022-01-02T00:00:00+0000: Unable to create file (unable to truncate a file which is already open)\n",
            "2023-09-11 09:57:57,636 11460161536 ERROR S1_fft_cc_MPI.stations_cross_correlation(): Error processing CI.RPV and CI.WLT for 2022-01-01T00:00:00+0000 - 2022-01-02T00:00:00+0000: Unable to create file (unable to truncate a file which is already open)\n",
            "2023-09-11 09:57:57,668 11460161536 ERROR S1_fft_cc_MPI.stations_cross_correlation(): Error processing CI.STS and CI.STS for 2022-01-01T00:00:00+0000 - 2022-01-02T00:00:00+0000: Unable to create file (unable to truncate a file which is already open)\n",
            "2023-09-11 09:57:57,693 11460161536 ERROR S1_fft_cc_MPI.stations_cross_correlation(): Error processing CI.STS and CI.WLT for 2022-01-01T00:00:00+0000 - 2022-01-02T00:00:00+0000: Unable to create file (unable to truncate a file which is already open)\n",
            "2023-09-11 09:57:57,710 11460161536 ERROR S1_fft_cc_MPI.stations_cross_correlation(): Error processing CI.WLT and CI.WLT for 2022-01-01T00:00:00+0000 - 2022-01-02T00:00:00+0000: Unable to create file (unable to truncate a file which is already open)\n",
            "2023-09-11 09:57:57,968 13411201024 ERROR S1_fft_cc_MPI.save(): Error saving CI.LTP and CI.WLT for 2022-01-01T00:00:00+0000 - 2022-01-02T00:00:00+0000: Unable to create file (unable to truncate a file which is already open)\n",
            "2023-09-11 09:57:58,138 12672413696 ERROR S1_fft_cc_MPI.save(): Error saving CI.LGB and CI.RPV for 2022-01-01T00:00:00+0000 - 2022-01-02T00:00:00+0000: Unable to create file (unable to truncate a file which is already open)\n",
            "2023-09-11 09:57:58,144 11967819776 ERROR S1_fft_cc_MPI.save(): Error saving CI.CLT and CI.LTP for 2022-01-01T00:00:00+0000 - 2022-01-02T00:00:00+0000: Unable to create file (unable to truncate a file which is already open)\n",
            "2023-09-11 09:57:58,157 11995738112 ERROR S1_fft_cc_MPI.save(): Error saving CI.BBR and CI.CLT for 2022-01-01T00:00:00+0000 - 2022-01-02T00:00:00+0000: Unable to create file (unable to truncate a file which is already open)\n",
            "2023-09-11 09:57:58,180 12672413696 ERROR S1_fft_cc_MPI.save(): Error saving CI.LTP and CI.PDU for 2022-01-01T00:00:00+0000 - 2022-01-02T00:00:00+0000: Unable to create file (unable to truncate a file which is already open)\n",
            "2023-09-11 09:57:58,201 11995738112 ERROR S1_fft_cc_MPI.save(): Error saving CI.PDU and CI.STS for 2022-01-01T00:00:00+0000 - 2022-01-02T00:00:00+0000: Unable to create file (unable to truncate a file which is already open)\n",
            "2023-09-11 09:57:58,213 12672413696 ERROR S1_fft_cc_MPI.save(): Error saving CI.LTP and CI.STS for 2022-01-01T00:00:00+0000 - 2022-01-02T00:00:00+0000: Unable to create file (unable to truncate a file which is already open)\n",
            "2023-09-11 09:57:58,248 12672413696 ERROR S1_fft_cc_MPI.save(): Error saving CI.LTP and CI.RPV for 2022-01-01T00:00:00+0000 - 2022-01-02T00:00:00+0000: Unable to create file (unable to truncate a file which is already open)\n",
            "Cross correlation. Memory:  3038 MB: 100%|██████████| 36/36 [00:01<00:00, 18.17it/s]\n",
            "2023-09-11 09:57:58,317 4314760576 INFO utils.log_raw(): TIMING CC Main: 2.0130 secs. for Correlate and write to store: 120 channel pairs\n",
            "2023-09-11 09:57:58,490 4314760576 INFO utils.log_raw(): TIMING CC Main: 31.6910 secs. for Process the chunk of 2022-01-01T00:00:00+0000 - 2022-01-02T00:00:00+0000\n",
            "2023-09-11 09:57:58,491 4314760576 INFO scedc_s3store.get_channels(): Getting 24 channels for 2022-01-02T00:00:00+0000 - 2022-01-03T00:00:00+0000: [CI.BBR.BHE, CI.BBR.BHN, CI.BBR.BHZ, CI.CLT.BHE, CI.CLT.BHN, CI.CLT.BHZ, CI.LGB.BHE, CI.LGB.BHN, CI.LGB.BHZ, CI.LTP.BHE, CI.LTP.BHN, CI.LTP.BHZ, CI.PDU.BHE, CI.PDU.BHN, CI.PDU.BHZ, CI.RPV.BHE, CI.RPV.BHN, CI.RPV.BHZ, CI.STS.BHE, CI.STS.BHN, CI.STS.BHZ, CI.WLT.BHE, CI.WLT.BHN, CI.WLT.BHZ]\n",
            "2023-09-11 09:57:58,498 4314760576 INFO utils.log_raw(): TIMING CC Main: 0.0069 secs. for get 24 channels\n",
            "2023-09-11 09:57:58,498 4314760576 INFO S1_fft_cc_MPI.cross_correlate(): Checking for stations already done: 36 pairs\n",
            "2023-09-11 09:57:58,514 4314760576 INFO utils.log_raw(): TIMING CC Main: 0.0163 secs. for check for stations already done\n",
            "2023-09-11 09:57:58,515 4314760576 INFO S1_fft_cc_MPI.cross_correlate(): Still need to process: 8/8 stations, 24/24 channels, 36/36 pairs for 2022-01-02T00:00:00+0000 - 2022-01-03T00:00:00+0000\n",
            "Read channel data. Memory:  3145 MB: 100%|██████████| 24/24 [00:32<00:00,  1.36s/it]\n",
            "2023-09-11 09:58:31,066 4314760576 INFO S1_fft_cc_MPI._filter_channel_data(): Picked 40.0 as the closest sampling frequence to 20. \n",
            "2023-09-11 09:58:31,066 4314760576 INFO S1_fft_cc_MPI._filter_channel_data(): Filtered to 24/24 channels with sampling rate == 40.0\n",
            "2023-09-11 09:58:31,066 4314760576 INFO utils.log_raw(): TIMING CC Main: 32.5519 secs. for Read channel data: 24 channels\n",
            "2023-09-11 09:58:32,584 11443335168 INFO noise_module.preprocess_raw(): removing response for CI.LGB..BHN | 2022-01-02T00:00:00.000000Z - 2022-01-02T23:59:59.950000Z | 20.0 Hz, 1728000 samples using inv\n",
            "2023-09-11 09:58:32,697 11850035200 INFO noise_module.preprocess_raw(): removing response for CI.PDU..BHE | 2022-01-02T00:00:00.000000Z - 2022-01-02T23:59:59.950000Z | 20.0 Hz, 1728000 samples using inv\n",
            "2023-09-11 09:58:32,796 11833208832 INFO noise_module.preprocess_raw(): removing response for CI.LTP..BHE | 2022-01-02T00:00:00.000000Z - 2022-01-02T23:59:59.950000Z | 20.0 Hz, 1728000 samples using inv\n",
            "2023-09-11 09:58:32,964 11409682432 INFO noise_module.preprocess_raw(): removing response for CI.BBR..BHE | 2022-01-02T00:00:00.000000Z - 2022-01-02T23:59:59.950000Z | 20.0 Hz, 1728000 samples using inv\n",
            "2023-09-11 09:58:33,034 11866861568 INFO noise_module.preprocess_raw(): removing response for CI.BBR..BHN | 2022-01-02T00:00:00.000000Z - 2022-01-02T23:59:59.950000Z | 20.0 Hz, 1728000 samples using inv\n",
            "2023-09-11 09:58:33,091 11476987904 INFO noise_module.preprocess_raw(): removing response for CI.LGB..BHZ | 2022-01-02T00:00:00.000000Z - 2022-01-02T23:59:59.950000Z | 20.0 Hz, 1728000 samples using inv\n",
            "2023-09-11 09:58:33,097 11426508800 INFO noise_module.preprocess_raw(): removing response for CI.CLT..BHN | 2022-01-02T00:00:00.000000Z - 2022-01-02T23:59:59.950000Z | 20.0 Hz, 1728000 samples using inv\n",
            "2023-09-11 09:58:33,108 11934167040 INFO noise_module.preprocess_raw(): removing response for CI.BBR..BHZ | 2022-01-02T00:00:00.000000Z - 2022-01-02T23:59:59.950000Z | 20.0 Hz, 1728000 samples using inv\n",
            "2023-09-11 09:58:33,120 11460161536 INFO noise_module.preprocess_raw(): removing response for CI.CLT..BHE | 2022-01-02T00:00:00.000000Z - 2022-01-02T23:59:59.950000Z | 20.0 Hz, 1728000 samples using inv\n",
            "2023-09-11 09:58:33,125 11376029696 INFO noise_module.preprocess_raw(): removing response for CI.PDU..BHN | 2022-01-02T00:00:00.000000Z - 2022-01-02T23:59:59.950000Z | 20.0 Hz, 1728000 samples using inv\n",
            "2023-09-11 09:58:33,160 11917340672 INFO noise_module.preprocess_raw(): removing response for CI.LGB..BHE | 2022-01-02T00:00:00.000000Z - 2022-01-02T23:59:59.950000Z | 20.0 Hz, 1728000 samples using inv\n",
            "2023-09-11 09:58:33,164 11392856064 INFO noise_module.preprocess_raw(): removing response for CI.CLT..BHZ | 2022-01-02T00:00:00.000000Z - 2022-01-02T23:59:59.950000Z | 20.0 Hz, 1728000 samples using inv\n",
            "2023-09-11 09:58:33,168 11883687936 INFO noise_module.preprocess_raw(): removing response for CI.LTP..BHZ | 2022-01-02T00:00:00.000000Z - 2022-01-02T23:59:59.950000Z | 20.0 Hz, 1728000 samples using inv\n",
            "2023-09-11 09:58:33,194 11900514304 INFO noise_module.preprocess_raw(): removing response for CI.LTP..BHN | 2022-01-02T00:00:00.000000Z - 2022-01-02T23:59:59.950000Z | 20.0 Hz, 1728000 samples using inv\n",
            "2023-09-11 09:58:34,763 11443335168 INFO noise_module.preprocess_raw(): removing response for CI.PDU..BHZ | 2022-01-02T00:00:00.000000Z - 2022-01-02T23:59:59.950000Z | 20.0 Hz, 1728000 samples using inv\n",
            "2023-09-11 09:58:35,481 11850035200 INFO noise_module.preprocess_raw(): removing response for CI.RPV..BHE | 2022-01-02T00:00:00.000000Z - 2022-01-02T23:59:59.950000Z | 20.0 Hz, 1728000 samples using inv\n",
            "2023-09-11 09:58:35,625 11833208832 INFO noise_module.preprocess_raw(): removing response for CI.RPV..BHN | 2022-01-02T00:00:00.000000Z - 2022-01-02T23:59:59.950000Z | 20.0 Hz, 1728000 samples using inv\n",
            "2023-09-11 09:58:36,940 11866861568 INFO noise_module.preprocess_raw(): removing response for CI.STS..BHE | 2022-01-02T00:00:00.000000Z - 2022-01-02T23:59:59.950000Z | 20.0 Hz, 1728000 samples using inv\n",
            "2023-09-11 09:58:36,998 11476987904 INFO noise_module.preprocess_raw(): removing response for CI.STS..BHZ | 2022-01-02T00:00:00.000000Z - 2022-01-02T23:59:59.950000Z | 20.0 Hz, 1728000 samples using inv\n",
            "2023-09-11 09:58:37,081 11426508800 INFO noise_module.preprocess_raw(): removing response for CI.STS..BHN | 2022-01-02T00:00:00.000000Z - 2022-01-02T23:59:59.950000Z | 20.0 Hz, 1728000 samples using inv\n",
            "2023-09-11 09:58:37,191 11392856064 INFO noise_module.preprocess_raw(): removing response for CI.WLT..BHE | 2022-01-02T00:00:00.000000Z - 2022-01-02T23:59:59.950000Z | 20.0 Hz, 1728000 samples using inv\n",
            "2023-09-11 09:58:37,218 11409682432 INFO noise_module.preprocess_raw(): removing response for CI.RPV..BHZ | 2022-01-02T00:00:00.000000Z - 2022-01-02T23:59:59.950000Z | 20.0 Hz, 1728000 samples using inv\n",
            "2023-09-11 09:58:37,317 11376029696 INFO noise_module.preprocess_raw(): removing response for CI.WLT..BHN | 2022-01-02T00:00:00.000000Z - 2022-01-02T23:59:59.950000Z | 20.0 Hz, 1728000 samples using inv\n",
            "2023-09-11 09:58:37,373 11460161536 INFO noise_module.preprocess_raw(): removing response for CI.WLT..BHZ | 2022-01-02T00:00:00.000000Z - 2022-01-02T23:59:59.950000Z | 20.0 Hz, 1728000 samples using inv\n",
            "Pre-process. Memory:  4087 MB: 100%|██████████| 24/24 [00:07<00:00,  3.28it/s]\n",
            "2023-09-11 09:58:38,413 4314760576 INFO utils.log_raw(): TIMING CC Main: 7.3465 secs. for Preprocess: 24 channels\n",
            "2023-09-11 09:58:38,413 4314760576 INFO S1_fft_cc_MPI.check_memory(): Require  0.30gb memory for cross correlations\n",
            "Compute ffts. Memory:  3849 MB: 100%|██████████| 24/24 [00:02<00:00,  8.44it/s]\n",
            "2023-09-11 09:58:41,479 4314760576 INFO utils.log_raw(): TIMING CC Main: 3.0659 secs. for Compute FFTs: 24 channels\n",
            "2023-09-11 09:58:41,480 4314760576 INFO S1_fft_cc_MPI.cross_correlate(): Starting CC with 36 station pairs\n",
            "2023-09-11 09:58:41,481 11409682432 ERROR S1_fft_cc_MPI.stations_cross_correlation(): Error processing CI.BBR and CI.LGB for 2022-01-02T00:00:00+0000 - 2022-01-03T00:00:00+0000: Unable to create file (unable to truncate a file which is already open)\n",
            "2023-09-11 09:58:41,482 11833208832 ERROR S1_fft_cc_MPI.stations_cross_correlation(): Error processing CI.BBR and CI.CLT for 2022-01-02T00:00:00+0000 - 2022-01-03T00:00:00+0000: Unable to create file (unable to truncate a file which is already open)\n",
            "2023-09-11 09:58:41,482 11426508800 ERROR S1_fft_cc_MPI.stations_cross_correlation(): Error processing CI.BBR and CI.LTP for 2022-01-02T00:00:00+0000 - 2022-01-03T00:00:00+0000: Unable to create file (unable to truncate a file which is already open)\n",
            "2023-09-11 09:58:41,483 11850035200 ERROR S1_fft_cc_MPI.stations_cross_correlation(): Error processing CI.BBR and CI.PDU for 2022-01-02T00:00:00+0000 - 2022-01-03T00:00:00+0000: Unable to create file (unable to truncate a file which is already open)\n",
            "2023-09-11 09:58:41,483 11376029696 ERROR S1_fft_cc_MPI.stations_cross_correlation(): Error processing CI.BBR and CI.RPV for 2022-01-02T00:00:00+0000 - 2022-01-03T00:00:00+0000: Unable to create file (unable to truncate a file which is already open)\n",
            "2023-09-11 09:58:41,483 11460161536 ERROR S1_fft_cc_MPI.stations_cross_correlation(): Error processing CI.BBR and CI.STS for 2022-01-02T00:00:00+0000 - 2022-01-03T00:00:00+0000: Unable to create file (unable to truncate a file which is already open)\n",
            "2023-09-11 09:58:41,484 11917340672 ERROR S1_fft_cc_MPI.stations_cross_correlation(): Error processing CI.BBR and CI.WLT for 2022-01-02T00:00:00+0000 - 2022-01-03T00:00:00+0000: Unable to create file (unable to truncate a file which is already open)\n",
            "2023-09-11 09:58:41,484 11392856064 ERROR S1_fft_cc_MPI.stations_cross_correlation(): Error processing CI.CLT and CI.PDU for 2022-01-02T00:00:00+0000 - 2022-01-03T00:00:00+0000: Unable to create file (unable to truncate a file which is already open)\n",
            "2023-09-11 09:58:41,484 11443335168 ERROR S1_fft_cc_MPI.stations_cross_correlation(): Error processing CI.CLT and CI.STS for 2022-01-02T00:00:00+0000 - 2022-01-03T00:00:00+0000: Unable to create file (unable to truncate a file which is already open)\n",
            "2023-09-11 09:58:41,485 11476987904 ERROR S1_fft_cc_MPI.stations_cross_correlation(): Error processing CI.CLT and CI.LGB for 2022-01-02T00:00:00+0000 - 2022-01-03T00:00:00+0000: Unable to create file (unable to truncate a file which is already open)\n",
            "2023-09-11 09:58:41,485 11866861568 ERROR S1_fft_cc_MPI.stations_cross_correlation(): Error processing CI.CLT and CI.LTP for 2022-01-02T00:00:00+0000 - 2022-01-03T00:00:00+0000: Unable to create file (unable to truncate a file which is already open)\n",
            "2023-09-11 09:58:41,485 11934167040 ERROR S1_fft_cc_MPI.stations_cross_correlation(): Error processing CI.CLT and CI.RPV for 2022-01-02T00:00:00+0000 - 2022-01-03T00:00:00+0000: Unable to create file (unable to truncate a file which is already open)\n",
            "2023-09-11 09:58:41,491 11426508800 ERROR S1_fft_cc_MPI.stations_cross_correlation(): Error processing CI.LGB and CI.LTP for 2022-01-02T00:00:00+0000 - 2022-01-03T00:00:00+0000: Unable to create file (unable to truncate a file which is already open)\n",
            "2023-09-11 09:58:41,519 11392856064 ERROR S1_fft_cc_MPI.stations_cross_correlation(): Error processing CI.LTP and CI.LTP for 2022-01-02T00:00:00+0000 - 2022-01-03T00:00:00+0000: Unable to create file (unable to truncate a file which is already open)\n",
            "2023-09-11 09:58:41,561 11476987904 ERROR S1_fft_cc_MPI.stations_cross_correlation(): Error processing CI.LTP and CI.RPV for 2022-01-02T00:00:00+0000 - 2022-01-03T00:00:00+0000: Unable to create file (unable to truncate a file which is already open)\n",
            "2023-09-11 09:58:41,625 11476987904 ERROR S1_fft_cc_MPI.stations_cross_correlation(): Error processing CI.PDU and CI.STS for 2022-01-02T00:00:00+0000 - 2022-01-03T00:00:00+0000: Unable to create file (unable to truncate a file which is already open)\n",
            "2023-09-11 09:58:42,757 11883687936 ERROR S1_fft_cc_MPI.stations_cross_correlation(): Error processing CI.RPV and CI.RPV for 2022-01-02T00:00:00+0000 - 2022-01-03T00:00:00+0000: Unable to create file (unable to truncate a file which is already open)\n",
            "2023-09-11 09:58:42,786 11883687936 ERROR S1_fft_cc_MPI.stations_cross_correlation(): Error processing CI.RPV and CI.STS for 2022-01-02T00:00:00+0000 - 2022-01-03T00:00:00+0000: Unable to create file (unable to truncate a file which is already open)\n",
            "2023-09-11 09:58:42,814 15564828672 ERROR S1_fft_cc_MPI.save(): Error saving CI.CLT and CI.CLT for 2022-01-02T00:00:00+0000 - 2022-01-03T00:00:00+0000: Unable to create file (unable to truncate a file which is already open)\n",
            "2023-09-11 09:58:42,825 11900514304 ERROR S1_fft_cc_MPI.stations_cross_correlation(): Error processing CI.STS and CI.STS for 2022-01-02T00:00:00+0000 - 2022-01-03T00:00:00+0000: Unable to create file (unable to truncate a file which is already open)\n",
            "2023-09-11 09:58:42,825 11883687936 ERROR S1_fft_cc_MPI.stations_cross_correlation(): Error processing CI.RPV and CI.WLT for 2022-01-02T00:00:00+0000 - 2022-01-03T00:00:00+0000: Unable to create file (unable to truncate a file which is already open)\n",
            "2023-09-11 09:58:42,839 15564828672 ERROR S1_fft_cc_MPI.save(): Error saving CI.LGB and CI.LGB for 2022-01-02T00:00:00+0000 - 2022-01-03T00:00:00+0000: Unable to create file (unable to truncate a file which is already open)\n",
            "2023-09-11 09:58:42,852 11833208832 ERROR S1_fft_cc_MPI.stations_cross_correlation(): Error processing CI.STS and CI.WLT for 2022-01-02T00:00:00+0000 - 2022-01-03T00:00:00+0000: Unable to create file (unable to truncate a file which is already open)\n",
            "2023-09-11 09:58:42,861 15581655040 ERROR S1_fft_cc_MPI.save(): Error saving CI.PDU and CI.PDU for 2022-01-02T00:00:00+0000 - 2022-01-03T00:00:00+0000: Unable to create file (unable to truncate a file which is already open)\n",
            "2023-09-11 09:58:42,913 15581655040 ERROR S1_fft_cc_MPI.save(): Error saving CI.LGB and CI.WLT for 2022-01-02T00:00:00+0000 - 2022-01-03T00:00:00+0000: Unable to create file (unable to truncate a file which is already open)\n",
            "2023-09-11 09:58:42,951 15564828672 ERROR S1_fft_cc_MPI.save(): Error saving CI.PDU and CI.WLT for 2022-01-02T00:00:00+0000 - 2022-01-03T00:00:00+0000: Unable to create file (unable to truncate a file which is already open)\n",
            "2023-09-11 09:58:42,970 15581655040 ERROR S1_fft_cc_MPI.save(): Error saving CI.LTP and CI.WLT for 2022-01-02T00:00:00+0000 - 2022-01-03T00:00:00+0000: Unable to create file (unable to truncate a file which is already open)\n",
            "2023-09-11 09:58:43,208 15548002304 ERROR S1_fft_cc_MPI.save(): Error saving CI.PDU and CI.RPV for 2022-01-02T00:00:00+0000 - 2022-01-03T00:00:00+0000: Unable to create file (unable to truncate a file which is already open)\n",
            "2023-09-11 09:58:43,221 15581655040 ERROR S1_fft_cc_MPI.save(): Error saving CI.LGB and CI.RPV for 2022-01-02T00:00:00+0000 - 2022-01-03T00:00:00+0000: Unable to create file (unable to truncate a file which is already open)\n",
            "2023-09-11 09:58:43,222 15548002304 ERROR S1_fft_cc_MPI.save(): Error saving CI.LGB and CI.STS for 2022-01-02T00:00:00+0000 - 2022-01-03T00:00:00+0000: Unable to create file (unable to truncate a file which is already open)\n",
            "Cross correlation. Memory:  3070 MB: 100%|██████████| 36/36 [00:01<00:00, 19.60it/s]\n",
            "2023-09-11 09:58:43,321 15564828672 ERROR S1_fft_cc_MPI.save(): Error saving CI.LGB and CI.PDU for 2022-01-02T00:00:00+0000 - 2022-01-03T00:00:00+0000: Unable to create file (unable to truncate a file which is already open)\n",
            "2023-09-11 09:58:43,342 4314760576 INFO utils.log_raw(): TIMING CC Main: 1.8621 secs. for Correlate and write to store: 120 channel pairs\n",
            "2023-09-11 09:58:43,521 4314760576 INFO utils.log_raw(): TIMING CC Main: 45.0308 secs. for Process the chunk of 2022-01-02T00:00:00+0000 - 2022-01-03T00:00:00+0000\n",
            "2023-09-11 09:58:43,522 4314760576 INFO utils.log_raw(): TIMING CC Main: 76.7234 secs. for Step 1 in total with 10 cores\n"
          ]
        }
      ],
      "source": [
        "cross_correlate(raw_store, config, cc_store)"
      ]
    },
    {
      "cell_type": "markdown",
      "metadata": {
        "id": "GMeH9BslQSSJ"
      },
      "source": [
        "The cross correlations are saved as a single file for each channel pair and each increment of inc_hours. We now will stack all the cross correlations over all time chunk and look at all station pairs results.\n",
        "\n",
        "## Step 2: Stack the cross correlation\n",
        "\n",
        "We  now create the stack stores. Because this tutorial runs locally, we will use an ASDF stack store to output the data. ASDF is a data container in HDF5 that is used in full waveform modeling and inversion. H5 behaves well locally. \n",
        "\n",
        "Each station pair will have 1 H5 file with all components of the cross correlations. While this produces **many** H5 files, it has come down to the noisepy team's favorite option: \n",
        "1. the thread-safe installation of HDF5 is not trivial\n",
        "2. the choice of grouping station pairs within a single file is not flexible to a broad audience of users."
      ]
    },
    {
      "cell_type": "code",
      "execution_count": 12,
      "metadata": {
        "id": "cd32ntmAVx-z"
      },
      "outputs": [],
      "source": [
        "# open a new cc store in read-only mode since we will be doing parallel access for stacking\n",
        "cc_store = ASDFCCStore(cc_data_path, mode=\"r\")\n",
        "stack_store = ASDFStackStore(stack_data_path)"
      ]
    },
    {
      "cell_type": "markdown",
      "metadata": {},
      "source": [
        "## Configure the stacking\n",
        "\n",
        "There are various methods for optimal stacking. We refern to Yang et al (2022) for a discussion and comparison of the methods:\n",
        "\n",
        "Yang X, Bryan J, Okubo K, Jiang C, Clements T, Denolle MA. Optimal stacking of noise cross-correlation functions. Geophysical Journal International. 2023 Mar;232(3):1600-18. https://doi.org/10.1093/gji/ggac410\n",
        "\n",
        "Users have the choice to implement *linear*, phase weighted stacks *pws* (Schimmel et al, 1997), *robust* stacking (Yang et al, 2022), *acf* autocovariance filter (Nakata et al, 2019), *nroot* stacking. Users may choose the stacking method of their choice by entering the strings in ``config.stack_method``.\n",
        "\n",
        "If chosen *all*, the current code only ouputs *linear*, *pws*, *robust* since *nroot* is less common and *acf* is computationally expensive.\n"
      ]
    },
    {
      "cell_type": "code",
      "execution_count": 13,
      "metadata": {},
      "outputs": [],
      "source": [
        "config.stack_method = \"linear\""
      ]
    },
    {
      "cell_type": "code",
      "execution_count": 14,
      "metadata": {},
      "outputs": [
        {
          "name": "stdout",
          "output_type": "stream",
          "text": [
            "['_get_channel_pair', '_get_station_pair', 'append', 'contains', 'datasets', 'get_station_pairs', 'get_timespans', 'read_correlations']\n"
          ]
        }
      ],
      "source": [
        "method_list = [method for method in dir(cc_store) if method.startswith('__') is False]\n",
        "print(method_list)\n"
      ]
    },
    {
      "cell_type": "code",
      "execution_count": 15,
      "metadata": {},
      "outputs": [
        {
          "data": {
            "text/plain": [
              "[(CI.LGB, CI.STS), (CI.WLT, CI.WLT)]"
            ]
          },
          "execution_count": 15,
          "metadata": {},
          "output_type": "execute_result"
        }
      ],
      "source": [
        "cc_store.get_station_pairs()"
      ]
    },
    {
      "cell_type": "code",
      "execution_count": 16,
      "metadata": {},
      "outputs": [
        {
          "name": "stderr",
          "output_type": "stream",
          "text": [
            "2023-09-11 09:58:43,569 4314760576 INFO S2_stacking.initializer(): Station pairs: [(CI.LGB, CI.STS), (CI.WLT, CI.WLT)], timespans:[2022-01-01T00:00:00+0000 - 2022-01-02T00:00:00+0000, 2022-01-02T00:00:00+0000 - 2022-01-03T00:00:00+0000]\n",
            "Stacking Pairs:   0%|          | 0/2 [00:00<?, ?it/s]2023-09-11 09:58:45,315 4384343424 WARNING asdfstore.read_correlations(): No data available for 2022-01-01T00:00:00+0000 - 2022-01-02T00:00:00+0000/CI.WLT_CI.WLT\n",
            "2023-09-11 09:58:45,315 4384343424 WARNING S2_stacking.validate_pairs(): continue! not enough cross components for auto-correlation (CI.WLT, CI.WLT) in 2022-01-01T00:00:00+0000 - 2022-01-02T00:00:00+0000\n",
            "2023-09-11 09:58:45,317 4384343424 WARNING S2_stacking.validate_pairs(): continue! not enough cross components for auto-correlation (CI.WLT, CI.WLT) in 2022-01-02T00:00:00+0000 - 2022-01-03T00:00:00+0000\n",
            "2023-09-11 09:58:45,317 4384343424 INFO utils.log_raw(): TIMING: 0.0035 secs. for loading CCF data\n",
            "Stacking Pairs. Memory:  2525 MB:  50%|█████     | 1/2 [00:01<00:01,  1.72s/it]2023-09-11 09:58:45,323 4339090816 WARNING S2_stacking.validate_pairs(): continue! not enough cross components for cross-correlation (CI.LGB, CI.STS) in 2022-01-01T00:00:00+0000 - 2022-01-02T00:00:00+0000\n",
            "2023-09-11 09:58:45,323 4339090816 WARNING asdfstore.read_correlations(): No data available for 2022-01-02T00:00:00+0000 - 2022-01-03T00:00:00+0000/CI.LGB_CI.STS\n",
            "2023-09-11 09:58:45,324 4339090816 WARNING S2_stacking.validate_pairs(): continue! not enough cross components for cross-correlation (CI.LGB, CI.STS) in 2022-01-02T00:00:00+0000 - 2022-01-03T00:00:00+0000\n",
            "2023-09-11 09:58:45,324 4339090816 INFO utils.log_raw(): TIMING: 0.0097 secs. for loading CCF data\n",
            "2023-09-11 09:58:45,325 4339090816 INFO utils.log_raw(): TIMING: 0.0015 secs. for stack/rotate all station pairs (CI.LGB, CI.STS)\n",
            "Stacking Pairs. Memory:  2525 MB: 100%|██████████| 2/2 [00:01<00:00,  1.15it/s]\n",
            "2023-09-11 09:58:45,327 4314760576 INFO utils.log_raw(): TIMING: 1.7595 secs. for step 2 in total\n"
          ]
        }
      ],
      "source": [
        "stack(cc_store, stack_store, config)"
      ]
    },
    {
      "cell_type": "markdown",
      "metadata": {
        "id": "jQ-ey7uX9Msx"
      },
      "source": [
        "## QC_1 of the cross correlations for Imaging\n",
        "We now explore the quality of the cross correlations. We plot the moveout of the cross correlations, filtered in some frequency band."
      ]
    },
    {
      "cell_type": "code",
      "execution_count": 17,
      "metadata": {},
      "outputs": [
        {
          "data": {
            "text/plain": [
              "[(CI.LGB, CI.STS), (CI.WLT, CI.WLT)]"
            ]
          },
          "execution_count": 17,
          "metadata": {},
          "output_type": "execute_result"
        }
      ],
      "source": [
        "cc_store.get_station_pairs()"
      ]
    },
    {
      "cell_type": "code",
      "execution_count": 18,
      "metadata": {
        "id": "QKSeQpk7WKlW"
      },
      "outputs": [
        {
          "name": "stderr",
          "output_type": "stream",
          "text": [
            "2023-09-11 09:58:45,344 4314760576 WARNING asdfstore.read(): Not data available for CI.LGB_CI.STS/Allstack_linear/ZZ\n",
            "2023-09-11 09:58:45,345 4314760576 ERROR plotting_modules.plot_all_moveout(): No data available for plotting Allstack_linear/ZZ\n"
          ]
        }
      ],
      "source": [
        "plot_all_moveout(stack_store, 'Allstack_linear', 0.1, 0.2, 'ZZ', 1)"
      ]
    }
  ],
  "metadata": {
    "@webio": {
      "lastCommId": null,
      "lastKernelId": null
    },
    "colab": {
      "provenance": []
    },
    "gpuClass": "standard",
    "kernelspec": {
      "display_name": "Python 3",
      "language": "python",
      "name": "python3"
    },
    "language_info": {
      "codemirror_mode": {
        "name": "ipython",
        "version": 3
      },
      "file_extension": ".py",
      "mimetype": "text/x-python",
      "name": "python",
      "nbconvert_exporter": "python",
      "pygments_lexer": "ipython3",
      "version": "3.10.12"
    }
  },
  "nbformat": 4,
  "nbformat_minor": 0
}
