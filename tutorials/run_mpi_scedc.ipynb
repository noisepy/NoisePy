{
 "cells": [
  {
   "cell_type": "code",
   "execution_count": null,
   "metadata": {},
   "outputs": [],
   "source": [
    "from noisepy.seis import cross_correlate, stack       # noisepy core functions\n",
    "from noisepy.seis.io import plotting_modules\n",
    "from noisepy.seis.io.asdfstore import ASDFCCStore                          # Object to store ASDF data within noisepy\n",
    "from noisepy.seis.io.s3store import SCEDCS3DataStore # Object to query SCEDC data from on S3\n",
    "from noisepy.seis.io.channel_filter_store import channel_filter\n",
    "from noisepy.seis.io.datatypes import ConfigParameters, FreqNorm           # Main configuration object\n",
    "from noisepy.seis.io.channelcatalog import XMLStationChannelCatalog        # Required stationXML handling object\n",
    "import os\n",
    "import glob\n",
    "from datetime import datetime\n",
    "from datetimerange import DateTimeRange\n",
    "import mpi4py\n",
    "import pandas as pd\n",
    "\n",
    "\n",
    "# create directory to store data locally\n",
    "path = \"~/s3tmp/data\"\n",
    "# path = \"../../data/\" # for local runs\n",
    "os.makedirs(path, exist_ok=True)\n",
    "cc_data_path = os.path.join(path, \"CCF\")\n",
    "stack_data_path = os.path.join(path, \"STACK\")\n",
    "os.makedirs(cc_data_path, exist_ok=True)\n",
    "os.makedirs(stack_data_path, exist_ok=True)\n",
    "freq_norm = FreqNorm.RMA\n",
    "cc_store = ASDFCCStore(cc_data_path) # Store for writing CC data\n",
    "\n",
    "\n",
    "DATE_FORMAT = \"%Y_%m_%d\""
   ]
  },
  {
   "cell_type": "code",
   "execution_count": null,
   "metadata": {},
   "outputs": [],
   "source": [
    "nproc = 3"
   ]
  },
  {
   "cell_type": "markdown",
   "metadata": {},
   "source": [
    "Read the station information"
   ]
  },
  {
   "cell_type": "code",
   "execution_count": null,
   "metadata": {},
   "outputs": [],
   "source": [
    "sta=\",\".join(list(pd.read_csv(\"full_socal.csv\")[\"station\"]))\n",
    "print(sta)"
   ]
  },
  {
   "cell_type": "code",
   "execution_count": null,
   "metadata": {},
   "outputs": [],
   "source": [
    "\n",
    "\n",
    "start = datetime(2002, 1, 2)\n",
    "end = datetime(2002, 1, 4)\n",
    "range = DateTimeRange(start, end)\n",
    "print(range)\n",
    "\n",
    "date_start=start.strftime(DATE_FORMAT)\n",
    "date_end=end.strftime(DATE_FORMAT)\n",
    "print(date_start)"
   ]
  },
  {
   "cell_type": "code",
   "execution_count": null,
   "metadata": {},
   "outputs": [],
   "source": [
    "print((f'mpiexec -n {nproc} noisepy cross_correlate \\\n",
    "--raw_data_path s3://scedc-pds/continuous_waveforms/ \\\n",
    "--xml_path s3://scedc-pds/FDSNstationXML/CI/ \\\n",
    " --ccf_path {cc_data_path} --freq_norm {freq_norm} --stations \"SBC,RIO,DEV\" \\\n",
    "--start {date_start} --end {date_end}'))"
   ]
  },
  {
   "cell_type": "code",
   "execution_count": null,
   "metadata": {},
   "outputs": [],
   "source": [
    "os.system(f'mpiexec -n {nproc} noisepy cross_correlate \\\n",
    "--raw_data_path s3://scedc-pds/continuous_waveforms/ \\\n",
    "--xml_path s3://scedc-pds/FDSNstationXML/CI/ \\\n",
    " --ccf_path {cc_data_path} --freq_norm {freq_norm} --stations \"SBC,RIO,DEV\" \\\n",
    "--start {date_start} --end {date_end}')"
   ]
  }
 ],
 "metadata": {
  "kernelspec": {
   "display_name": "Python 3 (ipykernel)",
   "language": "python",
   "name": "python3"
  },
  "language_info": {
   "codemirror_mode": {
    "name": "ipython",
    "version": 3
   },
   "file_extension": ".py",
   "mimetype": "text/x-python",
   "name": "python",
   "nbconvert_exporter": "python",
   "pygments_lexer": "ipython3",
   "version": "3.8.16"
  }
 },
 "nbformat": 4,
 "nbformat_minor": 2
}
