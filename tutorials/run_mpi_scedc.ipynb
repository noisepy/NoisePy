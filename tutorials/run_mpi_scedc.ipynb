{
 "cells": [
  {
   "cell_type": "code",
   "execution_count": 15,
   "metadata": {},
   "outputs": [],
   "source": [
    "from noisepy.seis import cross_correlate, stack, plotting_modules       # noisepy core functions\n",
    "from noisepy.seis.asdfstore import ASDFCCStore                          # Object to store ASDF data within noisepy\n",
    "from noisepy.seis.scedc_s3store import SCEDCS3DataStore, channel_filter # Object to query SCEDC data from on S3\n",
    "from noisepy.seis.datatypes import ConfigParameters                     # Main configuration object\n",
    "from noisepy.seis.channelcatalog import XMLStationChannelCatalog        # Required stationXML handling object\n",
    "import os\n",
    "import glob\n",
    "from datetime import datetime\n",
    "from datetimerange import DateTimeRange\n",
    "import mpi4py\n",
    "import pandas as pd\n",
    "\n",
    "\n",
    "# create directory to store data locally\n",
    "path = \"~/s3tmp/data\"\n",
    "# path = \"../../data/\" # for local runs\n",
    "os.makedirs(path, exist_ok=True)\n",
    "cc_data_path = os.path.join(path, \"CCF\")\n",
    "stack_data_path = os.path.join(path, \"STACK\")\n",
    "os.makedirs(cc_data_path, exist_ok=True)\n",
    "os.makedirs(stack_data_path, exist_ok=True)\n",
    "freq_norm=\"rma\"\n",
    "cc_store = ASDFCCStore(cc_data_path) # Store for writing CC data\n",
    "\n",
    "\n",
    "DATE_FORMAT = \"%Y_%m_%d\""
   ]
  },
  {
   "cell_type": "code",
   "execution_count": 4,
   "metadata": {},
   "outputs": [],
   "source": [
    "nproc = 3"
   ]
  },
  {
   "cell_type": "markdown",
   "metadata": {},
   "source": [
    "Read the station information"
   ]
  },
  {
   "cell_type": "code",
   "execution_count": 5,
   "metadata": {},
   "outputs": [
    {
     "name": "stdout",
     "output_type": "stream",
     "text": [
      "ACP,ADO,AGM,AGO,ALP,APL,ARV,ASP,AVC,AVM,BAC,BAI,BAK,BAR,BBR,BBS,BC3,BCW,BEL,BFS,BHP,BLA2,BLC,BLY,BOM,BOR,BRE,BTP,BUE,CAC,CAR,CBC,CBC,CBC,CBC,CCA,CCC,CDD,CDM,CFD,CFS,CFT,CGO,CHF,CHI,CHK,CHN,CHR,CIA,CJM,CJV2,CKP,CLC,CLI2,CLO,CLT,COA,COK2,CPO,CPT2,CRF,CRF,CRG,CRN,CRR,CSH,CSL,CSL,CTC,CTW,CVW,CWC,CWP,CYP,CZN,DAN,DAW,DEC,DEV,DGR,DJJ,DJJB,DLA,DNR,DPP,DRE,DSC,DTC,DTC,DTP,DZA,EDW2,ELS2,EML,EMS,EOC,ERR,ERR,ESI2,ESI2,FDR,FHO,FIG,FMO,FMP,FON,FOX2,FRK,FRM,FUL,FUR,FUR,GATR,GCC,GFF,GFS,GLA,GMA,GMR,GOR,GOU,GR2,GRA,GSA,GSC,GVR,HAR,HAY,HDH,HDH,HEC,HIW,HLL,HLN,HMT2,HOL,HYS,IDO,IDQ,IDY,IKP,IMP,IPT,IRG5,IRM,ISA,IVY,JEM,JNH2,JPLS,JRC2,JTH,JVA,KIK,KML,KYV,LAF,LAT,LBW1,LBW2,LCG,LCP,LDF,LDR,LEO,LFP,LGB,LJR,LKH,LLS,LMH,LMR2,LMS,LMY,LOC,LPC,LRL,LRR2,LTP,LUC2,LUG,LUS,LVO,LVY,LVY,LYP,MAG,MCT,MES,MGE,MIK,MIKB,MIS,MLAC,MLS,MMC,MMC,MNO,MOP,MOR,MPI,MPM,MPP,MRS,MSC,MSJ,MTA,MTG,MTP,MUR,MWC,NBS,NCH,NEE2,NEN,NJQ,NOT,NPN,NSS2,NWH,NWH,OAT,OCP,OGC,OLI,OLP,OSI,PALA,PASC,PDE,PDM,PDR,PDU,PDW,PDW,PER,PGA,PHL,PLM,PLS,PMD,POB2,POR,PSD,PSR,PTD,PUT,QAD,QLC,QUG,RAG,RCR,RCT,RCU,RCU,RFR,RHC2,RHR,RIN,RINB,RIO,RKMO,RMM,RPV,RRX,RSB,RSI,RSS,RUN,RUS,RVR,RXH,SAL,SAN,SBB2,SBC,SBI,SBPX,SCI2,SCZ2,SDD,SDG,SDR,SES,SGL,SHO,SHO,SHU,SIL,SIL,SLA,SLB,SLH,SLM,SLR,SLV,SMF2,SMI,SMM,SMR,SMT,SMV,SMW,SNCC,SNO,SNR,SOC,SPF,SPG2,SQC,SRA,SRI,SRN,SRT,SSS,SSS,STC,STG,STS,SVD,SWP,SWP,SWS,SYN,SYP,SYP,TA2,TEH,TEJ,TER2,TFT,THC,THM,TIN,TJR,TOR,TOW2,TPO,TUQ,USB,USC,VCP,VCS,VDJ,VES,VLO,VLY,VOG,VTV,WAS2,WBM,WBP,WBS,WCS2,WES,WGR,WHF,WLH2,WLS2,WLT,WMD,WMF,WNM,WNS,WOR,WRC2,WRV2,WSS,WTT2,WVP2,WWC,WWF,YEG2,YUC,YUH2\n"
     ]
    }
   ],
   "source": [
    "sta=\",\".join(list(pd.read_csv(\"full_socal.csv\")[\"station\"]))\n",
    "print(sta)"
   ]
  },
  {
   "cell_type": "code",
   "execution_count": 12,
   "metadata": {},
   "outputs": [
    {
     "name": "stdout",
     "output_type": "stream",
     "text": [
      "2002-01-02T00:00:00 - 2002-01-04T00:00:00\n",
      "2002_01_02\n"
     ]
    }
   ],
   "source": [
    "\n",
    "\n",
    "start = datetime(2002, 1, 2)\n",
    "end = datetime(2002, 1, 4)\n",
    "range = DateTimeRange(start, end)\n",
    "print(range)\n",
    "\n",
    "date_start=start.strftime(DATE_FORMAT)\n",
    "date_end=end.strftime(DATE_FORMAT)\n",
    "print(date_start)"
   ]
  },
  {
   "cell_type": "code",
   "execution_count": 16,
   "metadata": {},
   "outputs": [
    {
     "name": "stdout",
     "output_type": "stream",
     "text": [
      "mpiexec -n 3 noisepy cross_correlate --raw_data_path s3://scedc-pds/continuous_waveforms/ --xml_path s3://scedc-pds/FDSNstationXML/CI/  --ccf_path ~/s3tmp/data/CCF --freq_norm rma --stations \"SBC,RIO,DEV\" --start 2002_01_02 --end 2002_01_04\n"
     ]
    }
   ],
   "source": [
    "print((f'mpiexec -n {nproc} noisepy cross_correlate \\\n",
    "--raw_data_path s3://scedc-pds/continuous_waveforms/ \\\n",
    "--xml_path s3://scedc-pds/FDSNstationXML/CI/ \\\n",
    " --ccf_path {cc_data_path} --freq_norm {freq_norm} --stations \"SBC,RIO,DEV\" \\\n",
    "--start {date_start} --end {date_end}'))"
   ]
  },
  {
   "cell_type": "code",
   "execution_count": 17,
   "metadata": {},
   "outputs": [
    {
     "data": {
      "text/plain": [
       "256"
      ]
     },
     "execution_count": 17,
     "metadata": {},
     "output_type": "execute_result"
    }
   ],
   "source": [
    "os.system(f'mpiexec -n {nproc} noisepy cross_correlate \\\n",
    "--raw_data_path s3://scedc-pds/continuous_waveforms/ \\\n",
    "--xml_path s3://scedc-pds/FDSNstationXML/CI/ \\\n",
    " --ccf_path {cc_data_path} --freq_norm {freq_norm} --stations \"SBC,RIO,DEV\" \\\n",
    "--start {date_start} --end {date_end}')"
   ]
  }
 ],
 "metadata": {
  "kernelspec": {
   "display_name": "Python 3 (ipykernel)",
   "language": "python",
   "name": "python3"
  },
  "language_info": {
   "codemirror_mode": {
    "name": "ipython",
    "version": 3
   },
   "file_extension": ".py",
   "mimetype": "text/x-python",
   "name": "python",
   "nbconvert_exporter": "python",
   "pygments_lexer": "ipython3",
   "version": "3.8.16"
  }
 },
 "nbformat": 4,
 "nbformat_minor": 2
}
