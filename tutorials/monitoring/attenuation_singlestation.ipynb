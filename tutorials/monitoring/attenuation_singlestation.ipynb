{
 "cells": [
  {
   "cell_type": "markdown",
   "id": "58f7c398",
   "metadata": {},
   "source": [
    "# Welcome to the Tutorial measuring intrinsic absorption parameter!\n",
    "\n",
    "This Notebook calculate the scattering & intrinsic absorption parameters of the Rayleigh waves following the instruction proposed by Hirose et al. (2019).\n",
    "\n",
    "## **Publication about this script**:\n",
    "Hirose, T., Nakahara, H., & Nishimura, T. (2019). A passive estimation method of scattering and intrinsic absorption parameters from envelopes of seismic ambient noise cross‐correlation functions. Geophysical Research Letters, 46(7), 3634-3642. https://doi.org/10.1029/2018GL080553\n",
    "\n",
    "Hirose, T., Ueda, H., & Fujita, E. (2022). Scattering and intrinsic absorption parameters of Rayleigh waves at 18 active volcanoes in Japan inferred using seismic interferometry. Bulletin of Volcanology, 84(3), 34. https://doi.org/10.1007/s00445-022-01536-w\n",
    "\n",
    "### This notebook demonstrates single-station measurements\n",
    "\n",
    "Step: <br>\n",
    "0) Data preparing and filtering <br> 1) Calculation of mean-squared (MS) envelopes --> observed energy densities (Eobs) <br> \n",
    "2) Calculation of synthesized energy densities (Esyn) via a grid search <br>\n",
    "3) Determination of best-fit parameters: intrinsic absorption parameter *b* (for single station)<br>"
   ]
  },
  {
   "cell_type": "code",
   "execution_count": null,
   "id": "ed367f70",
   "metadata": {},
   "outputs": [],
   "source": [
    "import os\n",
    "import sys\n",
    "import glob\n",
    "import obspy\n",
    "import numpy as np\n",
    "\n",
    "import matplotlib.cm as cm\n",
    "import matplotlib.pyplot as plt\n",
    "import pyasdf\n",
    "import scipy\n",
    "import math\n",
    "\n",
    "from obspy.signal.filter import bandpass\n",
    "from noisepy.seis.application_modules.esyn_utils import *\n",
    "from noisepy.seis.noise_module import mad"
   ]
  },
  {
   "cell_type": "markdown",
   "id": "b6f9e81d",
   "metadata": {},
   "source": [
    "### Step 0 ---  Data preparing and filtering "
   ]
  },
  {
   "cell_type": "code",
   "execution_count": null,
   "id": "ea154d07",
   "metadata": {},
   "outputs": [],
   "source": [
    "# detremine the h5 file for processing\n",
    "path=\"../example_data/\"\n",
    "sfiles = sorted(glob.glob(os.path.join(path, 'CI.ADO_CI.ADO.h5')))\n",
    "print(\"The h5 file: \",sfiles)\n",
    "sta_pair=sfiles[0].split(path)[1].split(\".h5\")[0]\n",
    "print(\"Processed station pair: \",sta_pair)"
   ]
  },
  {
   "cell_type": "code",
   "execution_count": null,
   "id": "42a5f808",
   "metadata": {},
   "outputs": [],
   "source": [
    "# detremine the component for processing\n",
    "comp_arr = [\"EN\",\"EZ\",\"NZ\"] \n",
    "num_cmp=len(comp_arr)\n",
    "fnum=len(sfiles)\n",
    "print(fnum, num_cmp )"
   ]
  },
  {
   "cell_type": "code",
   "execution_count": null,
   "id": "69ed54c8",
   "metadata": {},
   "outputs": [],
   "source": [
    "# information of the input data:  lagtime (lag), sampling rate (samp)\n",
    "lag=200 \n",
    "samp=20\n",
    "leng=int(lag*samp*2+1)\n",
    "npts=leng\n",
    "print(\"Lag-time: \",lag,\", sampling rate: \",samp,\", total data length in points: \",leng)"
   ]
  },
  {
   "cell_type": "code",
   "execution_count": null,
   "id": "c045328e",
   "metadata": {},
   "outputs": [],
   "source": [
    "def plot_waveforms(ncmp,wav,fname,comp_arr):\n",
    "    fig, ax = plt.subplots(1,ncmp, figsize=(16,3), sharex=False)\n",
    "    \n",
    "    for n in range(ncmp):\n",
    "        absy=max(wav[n][1], key=abs)\n",
    "        ax[n].set_ylim(absy*-1,absy)\n",
    "        ax[n].plot(wav[n][0],wav[n][1])\n",
    "        ax[n].set_xlabel(\"time [s]\")\n",
    "        ax[n].set_title(fname+\" \"+comp_arr[n])\n",
    "    fig.tight_layout()\n",
    "    plt.show()"
   ]
  },
  {
   "cell_type": "code",
   "execution_count": null,
   "id": "1a3ebcc4",
   "metadata": {},
   "outputs": [],
   "source": [
    "# Ready to read in h5 file\n",
    "stackf=np.ndarray((fnum,num_cmp,2,leng))  \n",
    "print(stackf.shape)\n",
    "vdist=np.zeros((fnum,1))  # S-R distance array\n",
    "fname=[]                  # file name array\n",
    "\n",
    "aa=0\n",
    "# loop through each station-pair\n",
    "for sfile in sfiles:\n",
    "    ncmp=0\n",
    "    sta_pair=sfile.split(path)[1].split(\".h5\")[0]\n",
    "    fname.append(sta_pair)\n",
    "    for ccomp in comp_arr:        \n",
    "        print(aa, sfile, fname,ccomp)\n",
    "        # read stacked waveforms\n",
    "        if ( read_pyasdf(sfile,ccomp) == None):\n",
    "            continue\n",
    "        dist,dt, tvec,sdata = read_pyasdf(sfile,ccomp) # read waveform from pyasdf \n",
    "        stackf[aa][ncmp]=[tvec,sdata]\n",
    "        vdist[aa]=dist\n",
    "        ncmp=ncmp+1\n",
    "    plot_waveforms(num_cmp,stackf[aa],fname[aa],comp_arr)\n",
    "    \n",
    "    aa=aa+1\n",
    "fnum=len(fname)\n"
   ]
  },
  {
   "cell_type": "code",
   "execution_count": null,
   "id": "225e782a",
   "metadata": {},
   "outputs": [],
   "source": [
    "def plot_filtered_waveforms(freq,tt,wav,fname):\n",
    "    nfreq = len(freq) - 1\n",
    "    fig, ax = plt.subplots(1,nfreq, figsize=(16,3), sharex=False)\n",
    "    \n",
    "    for fb in range(nfreq):\n",
    "        fmin=freq[fb]\n",
    "        fmax=freq[fb+1]\n",
    "        absy=max(wav[fb], key=abs)\n",
    "        #absx=max(tt, key=abs)\n",
    "        #ax[fb].set_xlim(absx*-1,absx)\n",
    "        ax[fb].set_ylim(absy*-1,absy)\n",
    "        ax[fb].plot(tt,wav[fb], \"k-\", linewidth=0.2)\n",
    "        #ax[fb].plot(wav_fold[0],wav_fold[fb+1], \"b-\", linewidth=1)\n",
    "        ax[fb].set_xlabel(\"Time [s]\")\n",
    "        ax[fb].set_ylabel(\"Amplitude\")\n",
    "        ax[fb].set_title( \"%s   %s   @%4.2f-%4.2f Hz\" % ( fname,ccomp,fmin,fmax ) )\n",
    "    \n",
    "    fig.tight_layout()\n",
    "    plt.show()"
   ]
  },
  {
   "cell_type": "markdown",
   "id": "12acf76a",
   "metadata": {},
   "source": [
    "### Step 1 --- Calculation of mean-squared (MS) envelopes --> observed energy densities (***Eobs***)\n",
    "--> normalized MS envelope is referred to as the observed energy density Eobs "
   ]
  },
  {
   "cell_type": "code",
   "execution_count": null,
   "id": "50ace094",
   "metadata": {},
   "outputs": [],
   "source": [
    "freq = [0.5, 1, 2,4]  # targeted frequency band for waveform monitoring\n",
    "nfreq = len(freq) - 1\n",
    "\n",
    "MSE=np.ndarray((fnum,num_cmp,nfreq+1,npts)) # filtered two-side averaged stack CF\n",
    "\n",
    "for aa in range (fnum):\n",
    "    dafbp=np.ndarray((nfreq,npts))\n",
    "      \n",
    "    for ncmp in range (len(comp_arr)):\n",
    "        ccomp=comp_arr[ncmp]\n",
    "        print(fname[aa],ccomp)\n",
    "        \n",
    "        for fb in range(nfreq):\n",
    "            fmin=freq[fb]\n",
    "            fmax=freq[fb+1]\n",
    "            tt = np.arange(0, npts) * dt\n",
    "            data = stackf[aa][ncmp][1]\n",
    "            dafbp[fb] = bandpass(data, fmin, fmax, int(1 / dt), corners=4, zerophase=True)\n",
    "        \n",
    "        MSE[aa][ncmp]=[stackf[aa][ncmp][0],dafbp[0],dafbp[1],dafbp[2]] \n",
    "        plot_filtered_waveforms(freq,stackf[aa][ncmp][0],dafbp,fname[aa])\n",
    "\n"
   ]
  },
  {
   "cell_type": "code",
   "execution_count": null,
   "id": "df86d6aa",
   "metadata": {},
   "outputs": [],
   "source": [
    "def plot_envelope(comp_arr,freq,msv,msv_mean,fname,vdist):\n",
    "    \n",
    "    nfreq = len(freq) - 1\n",
    "    ncmp = len(comp_arr)\n",
    "    \n",
    "    fig, ax = plt.subplots(ncmp+1,nfreq, figsize=(16,10), sharex=False)   \n",
    "    for n in  range(len(comp_arr)):\n",
    "        \n",
    "        for fb in range(nfreq):\n",
    "            fmin=freq[fb]\n",
    "            fmax=freq[fb+1]    \n",
    "            ax[n,fb].plot(msv[n][0][:], msv[n][fb+1], \"k-\", linewidth=0.5)\n",
    "            ax[n,fb].set_title(\"%s   %.2fkm  %s   @%4.2f-%4.2f Hz\" % (fname,vdist,comp_arr[n],fmin,fmax))\n",
    "            ax[n,fb].set_xlabel(\"Time [s]\")\n",
    "            ax[n,fb].set_ylabel(\"Amplitude\")\n",
    "            \n",
    "    for fb in range(nfreq):\n",
    "        fmin=freq[fb]\n",
    "        fmax=freq[fb+1]\n",
    "        ax[-1,fb].plot(msv_mean[0], msv_mean[fb+1], \"b-\", linewidth=1)\n",
    "        ax[-1,fb].set_title(\" Mean Squared Value %.2fkm  @%4.2f-%4.2f Hz\" % (vdist,fmin,fmax))\n",
    "        ax[-1,fb].set_xlabel(\"Time [s]\")\n",
    "        ax[-1,fb].set_ylabel(\"Amplitude\")            \n",
    "\n",
    "    plt.tight_layout()   \n",
    "    plt.show()            \n",
    "            "
   ]
  },
  {
   "cell_type": "code",
   "execution_count": null,
   "id": "d00a24e6",
   "metadata": {},
   "outputs": [],
   "source": [
    "# get the mean-squared value on each componet and also the average waveform\n",
    "msv=np.ndarray((fnum,num_cmp,nfreq+1,npts))\n",
    "msv_mean=np.ndarray((fnum,nfreq+1,npts))\n",
    "msv[:][:][:][:]=0.\n",
    "msv_mean[:][:][:]=0.\n",
    "\n",
    "winlen=[8,4,2]   # smoothing window lengths corresponding to the frequency bands\n",
    "for aa in range(fnum):\n",
    "\n",
    "    for ncmp in  range(len(comp_arr)):\n",
    "        ccomp=comp_arr[ncmp]\n",
    "        msv[aa][ncmp][0]=MSE[aa][ncmp][0][:]\n",
    "        for fb in range(nfreq):\n",
    "            data=MSE[aa][ncmp][fb+1][:]\n",
    "            fmin=freq[fb]\n",
    "            fmax=freq[fb+1]\n",
    "            \n",
    "            para = { 'winlen':winlen[fb], 'dt':dt , 'npts': len(data)}\n",
    "            msv[aa][ncmp][fb+1]=get_smooth(data, para)\n",
    "            \n",
    "            msv[aa][ncmp][fb+1]=msv[aa][ncmp][fb+1]/np.max(msv[aa][ncmp][fb+1])  # self-normalized \n",
    "    \n",
    "    # get average waveforms from components\n",
    "    msv_mean[aa][0]=msv[aa][0][0][:]\n",
    "    for fb in range(nfreq):\n",
    "        fmin=freq[fb]\n",
    "        fmax=freq[fb+1]\n",
    "        for ncmp in range(len(comp_arr)):\n",
    "            msv_mean[aa][fb+1]+=msv[aa][ncmp][fb+1][:]\n",
    "        msv_mean[aa][fb+1]=msv_mean[aa][fb+1]/len(comp_arr)\n",
    "        \n",
    "    plot_envelope(comp_arr,freq,msv[aa],msv_mean[aa],fname[aa],vdist[aa])\n"
   ]
  },
  {
   "cell_type": "code",
   "execution_count": null,
   "id": "d7c80e1a",
   "metadata": {},
   "outputs": [],
   "source": [
    "def plot_fmsv_waveforms(freq,wav,fname,noise_level,twin):\n",
    "    nfreq = len(freq) - 1\n",
    "    fig, ax = plt.subplots(1,nfreq, figsize=(16,3), sharex=False)\n",
    "    \n",
    "    for fb in range(nfreq):\n",
    "        fmin=freq[fb]\n",
    "        fmax=freq[fb+1]\n",
    "        absy=1 #max(wav[fb], key=abs)\n",
    "        ax[fb].plot([wav[0][0],wav[0][-1]],[noise_level[fb],noise_level[fb]],c='blue',marker='.',ls='--', linewidth=2)\n",
    "        \n",
    "        ax[fb].plot([twin[fb][0],twin[fb][0]],[-0.1,absy],c='orange',marker='.',ls='--', linewidth=2)\n",
    "        ax[fb].plot([twin[fb][1],twin[fb][1]],[-0.1,absy],c='orange',marker='.',ls='--', linewidth=2)\n",
    "        ax[fb].set_yscale('log', base=10)\n",
    "        ax[fb].plot(wav[0],wav[fb+1], \"k-\", linewidth=0.5)\n",
    "        ax[fb].set_xlabel(\"Time [s]\")\n",
    "        ax[fb].set_ylabel(\"Amplitude in log-scale\")\n",
    "        ax[fb].set_title( \"%s   @%4.2f-%4.2f Hz\" % ( fname,fmin,fmax ) )\n",
    "    fig.tight_layout()\n",
    "    plt.show()"
   ]
  },
  {
   "cell_type": "code",
   "execution_count": null,
   "id": "fc84ac3a",
   "metadata": {},
   "outputs": [],
   "source": [
    "# get symmetric waveforms and determine the measuring window based on noise level (here is using 3 times of mad)\n",
    "indx = npts // 2                      # half-side number of points\n",
    "data_sym=np.ndarray((nfreq,indx+1)) # two-side averaged stack CF\n",
    "fmsv_mean=np.ndarray((fnum,nfreq+1,indx+1))\n",
    "\n",
    "# noise level setting\n",
    "ratio=3\n",
    "level=np.ndarray((fnum,nfreq,1))\n",
    "twinbe=np.ndarray((fnum,nfreq,2))\n",
    "\n",
    "for aa in range (fnum):\n",
    "    for fb in range(nfreq):\n",
    "        fmin=freq[fb]\n",
    "        fmax=freq[fb+1]            # stack positive and negative lags  \n",
    "        sym=get_symmetric(msv_mean[aa][fb+1],indx)\n",
    "        data_sym[fb]=sym\n",
    "        Val_mad=mad(sym)\n",
    "        level[aa][fb]=Val_mad*ratio\n",
    "        \n",
    "        for pt in range(len(sym)):\n",
    "            if (sym[pt] < float(level[aa][fb])):\n",
    "                twinbe[aa][fb][0]=int((1/fmin)*5)\n",
    "                twinbe[aa][fb][1]=int(msv[aa][0][0][indx+pt])\n",
    "                print(aa,fb,pt,sym[pt],level[aa][fb],twinbe[aa][fb])\n",
    "                break\n",
    "    fmsv_mean[aa]=[msv[aa][0][0][indx:],data_sym[0],data_sym[1],data_sym[2]]\n",
    "    plot_fmsv_waveforms(freq,fmsv_mean[aa],fname[aa],level[aa],twinbe[aa])\n",
    "\n"
   ]
  },
  {
   "cell_type": "markdown",
   "id": "64cb2132",
   "metadata": {},
   "source": [
    "### Step 2 --- Calculation of synthesized energy densities (***Esyn***) via a grid search \n",
    "### #The 2-D radiative transfer equation for scalar waves  ***(Shang and Gao 1988; Sato 1993)***\n",
    "Assuming isotropic scattering and source radiation in infinite medium to calculate ***synthesized energy densities  Esyn*** :"
   ]
  },
  {
   "attachments": {
    "image-2.png": {
     "image/png": "[encoded data removed]"
    }
   },
   "cell_type": "markdown",
   "id": "7edc1730",
   "metadata": {},
   "source": [
    " ![image-2.png](attachment:image-2.png)"
   ]
  },
  {
   "cell_type": "markdown",
   "id": "7fd29983",
   "metadata": {},
   "source": [
    "* l scattering mean free paths \n",
    "* c is the Rayleigh wave velocity\n",
    "* r is the distance between the source and receiver\n",
    "* H is the Heaviside function"
   ]
  },
  {
   "cell_type": "markdown",
   "id": "8f06cd85",
   "metadata": {},
   "source": [
    "The sum of squared residuals (SSR) between *Eobs and Esyn* was calculated, and the values of the parameters l and b that minimize SSR through the grid search were determined. <br>\n",
    "\n",
    "\n",
    "An energy density with the spatially homogeneous intrinsic absorption is obtained by multiplying e^-bt with the right-hand-side of Equation (1), where ***b is intrinsic absorption parameter***\n"
   ]
  },
  {
   "attachments": {
    "image-3.png": {
     "image/png": "[encoded data removed]"
    }
   },
   "cell_type": "markdown",
   "id": "d771c52c",
   "metadata": {},
   "source": [
    "*Here i is the number of time windows and j is the number of station pairs.* from Hirose et al. (2022)  --> ![image-3.png](attachment:image-3.png)"
   ]
  },
  {
   "cell_type": "code",
   "execution_count": null,
   "id": "35c58624",
   "metadata": {},
   "outputs": [],
   "source": [
    "def plot_fitting_curves(mean_free,intrinsic_b,tt,Eobs,Esyn,fname,dist,twin):\n",
    "    numb=len(intrinsic_b)\n",
    "    plt.figure(figsize=(8,2))\n",
    "    for nb in range(numb):\n",
    "    \n",
    "        plt.yscale('log', base=10)\n",
    "        #plt.xlim(0,120) \n",
    "        pymin=np.min(Eobs[nb][:-2]/2)\n",
    "        pymax=np.max(Eobs[nb][:-2]*2)\n",
    "        plt.ylim( pymin , pymax )\n",
    "        plt.plot( tt, Eobs[nb], \"k-\", linewidth=0.5)\n",
    "        plt.plot( tt, Esyn[nb], \"b-\", linewidth=1)\n",
    "        plt.plot([twin[0],twin[0],twin[-1],twin[-1],twin[0]],[pymin, pymax,pymax,pymin,pymin],\"r\", linewidth=2)\n",
    "\n",
    "    plt.title(\"%s  %.2fkm   @%4.2f-%4.2f Hz, mean_free: %.2f  b: %.2f~%.2f\"\n",
    "            % ( fname,dist,fmin,fmax,mean_free,y[0],y[-1]))\n",
    "    plt.xlabel(\"Time [s]\")\n",
    "    plt.ylabel(\"Energy density Amplitude\")\n",
    "    plt.tight_layout()   \n",
    "    plt.show()\n",
    "                    "
   ]
  },
  {
   "cell_type": "code",
   "execution_count": null,
   "id": "a60eedf8",
   "metadata": {},
   "outputs": [],
   "source": [
    "cvel=[2.6, 2.0, 1.8]    # Rayleigh wave velocities over the freqency bands\n",
    "mfpx=np.zeros(1)        # mean_free_path search array\n",
    "intby=np.zeros(30)      # intrinsic_b search array\n"
   ]
  },
  {
   "cell_type": "code",
   "execution_count": null,
   "id": "c9d6f840",
   "metadata": {},
   "outputs": [],
   "source": [
    "# getting the sum of squared residuals (SSR) between Eobs and Esyn  \n",
    "SSR_final=np.ndarray((len(mfpx),len(intby)))\n",
    "SSR_final[:][:]=0.\n",
    "\n",
    "SSR=np.ndarray((nfreq,len(mfpx),len(intby)))\n",
    "SSR[:][:][:]=0.\n",
    "\n",
    "for fb in range(nfreq):\n",
    "    fmin=freq[fb]\n",
    "    fmax=freq[fb+1]\n",
    "    c=cvel[fb]\n",
    "    SSR_final[:][:]=0.\n",
    "    vdist[:]=0.000001  # To avoid zero value at denominator\n",
    "    \n",
    "    # parameters for getting the sum of squared residuals (SSR) between Eobs and Esyn \n",
    "    para={ 'fb':fb, 'vdist':vdist, 'npts':npts, 'dt':dt, 'cvel':c, \\\n",
    "        'mfp':mfpx, 'intb':intby,'twin':twinbe, 'fmsv':fmsv_mean }\n",
    "    # call function get_SSR\n",
    "    SSR_final, mfpx, intby = get_SSR(fnum, para )\n",
    "    \n",
    "    SSR[fb]=SSR_final\n"
   ]
  },
  {
   "cell_type": "markdown",
   "id": "d030bf23",
   "metadata": {},
   "source": [
    "### Step 3 --- Determination of best-fit parameters "
   ]
  },
  {
   "cell_type": "code",
   "execution_count": null,
   "id": "0e7f4bd2",
   "metadata": {},
   "outputs": [],
   "source": [
    "def plot_fitting_result(mean_free,intrinsic_b,tt,Eobs,Esyn,fname,dist,twin,fmin,fmax):\n",
    "    plt.figure(figsize=(6,2))\n",
    "    plt.yscale('log', base=10)\n",
    "\n",
    "    pymax=np.max(Eobs[:-2]*5)\n",
    "    pymin=10**(-6)\n",
    "    plt.ylim( pymin , pymax )\n",
    "    plt.plot( tt, Eobs, \"k-\", linewidth=1)\n",
    "    plt.plot( tt, Esyn, \"b--\", linewidth=1)\n",
    "    plt.plot([twin[0],twin[0],twin[-1],twin[-1],twin[0]],[pymin, pymax,pymax,pymin,pymin],\"r\", linewidth=2)\n",
    "\n",
    "    plt.title(\"%s  %.2fkm   @%4.2f-%4.2f Hz, intrinsic b: %.2f\"\n",
    "            % ( fname,dist,fmin,fmax,intrinsic_b))\n",
    "    plt.xlabel(\"Time [s]\")\n",
    "    plt.ylabel(\"Energy density Amp\")\n",
    "    plt.tight_layout()   \n",
    "    plt.show()\n",
    "                    "
   ]
  },
  {
   "cell_type": "code",
   "execution_count": null,
   "id": "beda26dc",
   "metadata": {},
   "outputs": [],
   "source": [
    "# getting the optimal value from the SSR\n",
    "result_intb=np.ndarray((nfreq))\n",
    "result_mfp=np.ndarray((nfreq))\n",
    "\n",
    "Eobs=np.ndarray((nfreq,npts//2+1))\n",
    "Esyn=np.ndarray((nfreq,npts//2+1))\n",
    "aa=0\n",
    "r=np.take(vdist[aa],0)+0.000001\n",
    "for fb in range(nfreq): \n",
    "    fmin=freq[fb]\n",
    "    fmax=freq[fb+1]\n",
    "\n",
    "    # parameters for getting optimal value from the sum of squared residuals (SSR) between Eobs and Esyn \n",
    "    para={ 'fb':fb, 'fmin':fmin, 'fmax':fmax, 'vdist':vdist, 'npts':npts, 'dt':dt, 'cvel':c, 'filenum':aa, \\\n",
    "        'mfp':mfpx, 'intb':intby,'twin':twinbe, 'fmsv':fmsv_mean, 'SSR':SSR , 'sta':sta_pair}\n",
    "    # call function get_optimal\n",
    "    result_intb[fb], result_mfp[fb], Eobs[fb], Esyn[fb] = get_optimal(fnum,para)\n",
    "    \n",
    "    plot_fitting_result(result_mfp[fb],result_intb[fb],fmsv_mean[aa][0][:],\n",
    "                        Eobs[fb],Esyn[fb],sta_pair,vdist[aa],twinbe[aa][fb],fmin,fmax)\n"
   ]
  },
  {
   "cell_type": "markdown",
   "id": "d0f8ab81",
   "metadata": {},
   "source": [
    "## Plotting SSR (for inter-station measurement)"
   ]
  },
  {
   "cell_type": "code",
   "execution_count": null,
   "id": "374cf19a",
   "metadata": {},
   "outputs": [],
   "source": [
    "def plot_grid_searching(sta_pair,freq,SSR):\n",
    "    nfreq=len(freq)-1\n",
    "    \n",
    "    fig, ax = plt.subplots(1,nfreq, figsize=(16,4), sharex=False)\n",
    "    \n",
    "    for fb in range(nfreq): \n",
    "        fmin=freq[fb]\n",
    "        fmax=freq[fb+1]\n",
    "\n",
    "        loc=np.where(SSR[fb].T == np.amin(SSR[fb].T))\n",
    "        #locx=list(zip(loc[0], loc[1]))\n",
    "        print(\"%4.2f-%4.2f Hz \" % (fmin,fmax),\"loc \",loc)\n",
    "        ymin=y[loc[0]]\n",
    "        xmin=x[loc[1]]\n",
    "        print(\" intrinsic_b %.2f \" % ymin,\"mean_free: %.2f \" % xmin)\n",
    "        result_intb[fb]=ymin\n",
    "        result_mfp[fb]=xmin\n",
    "\n",
    "        grid = SSR[fb].T\n",
    "        im=ax[fb].imshow(grid,extent=(x.min(), x.max(), y.max(), y.min()), aspect='auto',cmap = 'viridis_r',interpolation='spline16' )\n",
    "        #im=ax[fb].imshow(grid,aspect='auto',cmap = 'viridis_r' )\n",
    "        im.set_clim(1,1.3)    \n",
    "        cb=plt.colorbar(im,extend='max')\n",
    "        cb.set_label('SSR/SSR_min', rotation=90, labelpad=14)\n",
    "        ax[fb].set_title(\"%s  SSR  @%4.2f-%4.2f Hz\" % (sta_pair,fmin,fmax) )\n",
    "        ax[fb].set_xlabel(\"mean free path\")\n",
    "        ax[fb].set_ylabel(\"intrinsic_b\")\n",
    "        ax[fb].invert_yaxis()\n",
    "        ax[fb].plot(xmin,ymin,\"+\", markersize=20, color='red')\n",
    "\n",
    "    plt.tight_layout() \n",
    "    plt.show()     \n",
    "    \n"
   ]
  },
  {
   "cell_type": "code",
   "execution_count": null,
   "id": "73654905",
   "metadata": {},
   "outputs": [],
   "source": [
    "#plot_grid_searching(sta_pair,freq,SSR)\n"
   ]
  },
  {
   "cell_type": "code",
   "execution_count": null,
   "id": "a6b364c4",
   "metadata": {},
   "outputs": [],
   "source": []
  },
  {
   "cell_type": "code",
   "execution_count": null,
   "id": "6681804f",
   "metadata": {},
   "outputs": [],
   "source": []
  }
 ],
 "metadata": {
  "kernelspec": {
   "display_name": "noisepy",
   "language": "python",
   "name": "python3"
  },
  "language_info": {
   "codemirror_mode": {
    "name": "ipython",
    "version": 3
   },
   "file_extension": ".py",
   "mimetype": "text/x-python",
   "name": "python",
   "nbconvert_exporter": "python",
   "pygments_lexer": "ipython3",
   "version": "3.10.13"
  }
 },
 "nbformat": 4,
 "nbformat_minor": 5
}
