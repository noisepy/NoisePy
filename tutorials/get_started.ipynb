{
 "cells": [
  {
   "cell_type": "markdown",
   "metadata": {
    "id": "PIA2IaqUOeOA"
   },
   "source": [
    "# Welcome to the NoisePy Colab Tutorial!\n",
    "\n",
    "This tutorial will walk you through the basic steps of using NoisePy to compute ambient noise cross correlation functions.\n"
   ]
  },
  {
   "cell_type": "markdown",
   "metadata": {
    "id": "FaKuajVCOo2r"
   },
   "source": [
    "First, we install the noisepy-seis package"
   ]
  },
  {
   "cell_type": "code",
   "execution_count": 1,
   "metadata": {
    "id": "rR860zaZPZGH"
   },
   "outputs": [],
   "source": [
    "# Uncomment and run this line if the environment doesn't have noisepy already installed:\n",
    "# ! pip install noisepy-seis "
   ]
  },
  {
   "cell_type": "markdown",
   "metadata": {
    "id": "_QvfrDdZOv12"
   },
   "source": [
    "__Warning__: NoisePy uses ```obspy``` as a core Python module to manipulate seismic data. Restart the runtime now for proper installation of ```obspy``` on Colab."
   ]
  },
  {
   "cell_type": "markdown",
   "metadata": {
    "id": "WtDb2_y3Oreg"
   },
   "source": [
    "Then we import the basic modules"
   ]
  },
  {
   "cell_type": "code",
   "execution_count": 2,
   "metadata": {
    "id": "vceZgD83PnNc"
   },
   "outputs": [
    {
     "name": "stderr",
     "output_type": "stream",
     "text": [
      "/Users/marinedenolle/opt/miniconda3/envs/noisepy/lib/python3.10/site-packages/tqdm/auto.py:21: TqdmWarning: IProgress not found. Please update jupyter and ipywidgets. See https://ipywidgets.readthedocs.io/en/stable/user_install.html\n",
      "  from .autonotebook import tqdm as notebook_tqdm\n"
     ]
    },
    {
     "name": "stdout",
     "output_type": "stream",
     "text": [
      "Using NoisePy version 0.9.72.dev12\n"
     ]
    }
   ],
   "source": [
    "from noisepy.seis import download, cross_correlate, stack, plotting_modules, __version__\n",
    "from noisepy.seis.asdfstore import ASDFRawDataStore, ASDFCCStore, ASDFStackStore\n",
    "from noisepy.seis.datatypes import ConfigParameters\n",
    "from dateutil.parser import isoparse\n",
    "import os\n",
    "print(f\"Using NoisePy version {__version__}\")\n",
    "\n",
    "path = \"./get_started_data\"\n",
    "\n",
    "os.makedirs(path,exist_ok=True)\n",
    "raw_data_path = os.path.join(path, \"RAW_DATA\")\n",
    "cc_data_path = os.path.join(path, \"CCF\")\n",
    "stack_data_path = os.path.join(path, \"STACK\")"
   ]
  },
  {
   "attachments": {},
   "cell_type": "markdown",
   "metadata": {},
   "source": [
    "## Ambient Noise Project Configuration\n",
    "\n",
    "We store the metadata information about the ambient noise cross correlation workflow in a ConfigParameters() object. We first initialize it, then we tune the parameters for this cross correlation."
   ]
  },
  {
   "cell_type": "code",
   "execution_count": 3,
   "metadata": {},
   "outputs": [],
   "source": [
    "config = ConfigParameters() # default config parameters which can be customized\n",
    "config.inc_hours = 12\n",
    "config.samp_freq= 20  # (int) Sampling rate in Hz of desired processing (it can be different than the data sampling rate)\n",
    "config.cc_len= 3600.0  # (float) basic unit of data length for fft (sec)\n",
    "    # criteria for data selection\n",
    "config.ncomp = 3  # 1 or 3 component data (needed to decide whether do rotation)\n",
    "\n",
    "\n",
    "config.acorr_only = False  # only perform auto-correlation or not\n",
    "config.xcorr_only = True  # only perform cross-correlation or not\n",
    "\n",
    "config.inc_hours = 12 # if the data is first \n",
    "\n",
    "config.lamin = 31       # min latitude\n",
    "config.lamax = 42       # max latitude\n",
    "config.lomin = -124     # min longitude\n",
    "config.lomax = -115     # max longitude\n",
    "config.net_list = [\"*\"] # look for all network codes\n",
    "\n",
    "\n",
    "\n",
    " # pre-processing parameters\n",
    "config.step= 1800.0  # (float) overlapping between each cc_len (sec)\n",
    "config.stationxml= False  # station.XML file used to remove instrument response for SAC/miniseed data\n",
    "config.rm_resp= \"inv\"  # select 'no' to not remove response and use 'inv' if you use the stationXML,'spectrum',\n",
    "config.freqmin = 0.05\n",
    "config.freqmax = 2.0\n",
    "config.max_over_std  = 10  # threshold to remove window of bad signals: set it to 10*9 if prefer not to remove them\n",
    "\n",
    "# TEMPORAL and SPECTRAL NORMALISATION\n",
    "config.freq_norm= \"rma\"  # choose between \"rma\" for a soft whitenning or \"no\" for no whitening. Pure whitening is not implemented correctly at this point.\n",
    "config.smoothspect_N = 10  # moving window length to smooth spectrum amplitude (points)\n",
    "    # here, choose smoothspect_N for the case of a strict whitening (e.g., phase_only)\n",
    "\n",
    "config.time_norm = \"no\"  # 'no' for no normalization, or 'rma', 'one_bit' for normalization in time domain,\n",
    "    # TODO: change time_norm option from \"no\" to \"None\"\n",
    "config.smooth_N= 10  # moving window length for time domain normalization if selected (points)\n",
    "\n",
    "config.cc_method= \"xcorr\"  # 'xcorr' for pure cross correlation OR 'deconv' for deconvolution;\n",
    "    # FOR \"COHERENCY\" PLEASE set freq_norm to \"rma\", time_norm to \"no\" and cc_method to \"xcorr\"\n",
    "\n",
    "# OUTPUTS:\n",
    "config.substack = True  # True = smaller stacks within the time chunk. False: it will stack over inc_hours\n",
    "config.substack_len = config.cc_len  # how long to stack over (for monitoring purpose): need to be multiples of cc_len\n",
    "    # if substack=True, substack_len=2*cc_len, then you pre-stack every 2 correlation windows.\n",
    "    # for instance: substack=True, substack_len=cc_len means that you keep ALL of the correlations\n",
    "\n",
    "config.maxlag= 200  # lags of cross-correlation to save (sec)\n",
    "config.substack = True"
   ]
  },
  {
   "attachments": {},
   "cell_type": "markdown",
   "metadata": {
    "id": "c5JaBXKpO_Oi"
   },
   "source": [
    "## Step 0: download data\n",
    "\n",
    "\n",
    "This step will download data using obspy and save them into ASDF files locally. The data will be stored for each time chunk defined in hours by inc_hours.\n",
    "\n",
    "The download will clean up the raw data by detrending, removing the mean, bandpassing (broadly), removing the instrumental response, merging gaps, ignoring too-gappy data.\n",
    "\n",
    "Use the function ```download``` with the following arguments: \n",
    "* ```path```:where to put the data\n",
    "* ```config```: configuration settings, in particular:\n",
    "    * ```channel```: list of the seismic channels to download, and example is shown below\n",
    "    * ```stations```: list of the seismic stations, it can be \"\\*\" (not \"all\") \n",
    "    * ```start_time```\n",
    "    * ```end_time```\n",
    "* ```client_url_key```: the string for FDSN clients\n"
   ]
  },
  {
   "cell_type": "code",
   "execution_count": 4,
   "metadata": {
    "id": "fwJNnRURPxfW"
   },
   "outputs": [
    {
     "name": "stderr",
     "output_type": "stream",
     "text": [
      "2023-09-10 15:11:26,414 4302980480 INFO S0A_download_ASDF_MPI.download(): Download\n",
      "        From: 2019-02-01T00:00:00.000000Z\n",
      "        To: 2019-02-02T00:00:00.000000Z\n",
      "        Stations: ['A*']\n",
      "        Channels: ['BHE', 'BHN', 'BHZ']\n",
      "        \n",
      "2023-09-10 15:11:30,849 4302980480 INFO S0A_download_ASDF_MPI.download(): Fetched inventory\n",
      "2023-09-10 15:11:30,850 4302980480 INFO utils.log_raw(): TIMING: 4.4360 secs. for Getting inventory\n",
      "2023-09-10 15:11:31,042 11073040384 WARNING S0A_download_ASDF_MPI.download_stream(): <class 'obspy.clients.fdsn.header.FDSNInternalServerException'>/Service responds: Internal server error\n",
      "HTTP Status code: 500\n",
      "Detailed response of server:\n",
      "\n",
      " for get_waveforms(ADO.BHN)\n",
      "2023-09-10 15:11:31,042 11089866752 WARNING S0A_download_ASDF_MPI.download_stream(): <class 'obspy.clients.fdsn.header.FDSNInternalServerException'>/Service responds: Internal server error\n",
      "HTTP Status code: 500\n",
      "Detailed response of server:\n",
      "\n",
      " for get_waveforms(ADO.BHZ)\n",
      "2023-09-10 15:11:31,048 11106693120 WARNING S0A_download_ASDF_MPI.download_stream(): <class 'obspy.clients.fdsn.header.FDSNInternalServerException'>/Service responds: Internal server error\n",
      "HTTP Status code: 500\n",
      "Detailed response of server:\n",
      "\n",
      " for get_waveforms(ALP.BHE)\n",
      "2023-09-10 15:11:31,050 11324747776 WARNING S0A_download_ASDF_MPI.download_stream(): <class 'obspy.clients.fdsn.header.FDSNInternalServerException'>/Service responds: Internal server error\n",
      "HTTP Status code: 500\n",
      "Detailed response of server:\n",
      "\n",
      " for get_waveforms(ARV.BHN)\n",
      "2023-09-10 15:11:31,053 11341574144 WARNING S0A_download_ASDF_MPI.download_stream(): <class 'obspy.clients.fdsn.header.FDSNInternalServerException'>/Service responds: Internal server error\n",
      "HTTP Status code: 500\n",
      "Detailed response of server:\n",
      "\n",
      " for get_waveforms(ARV.BHZ)\n",
      "2023-09-10 15:11:31,053 11307921408 WARNING S0A_download_ASDF_MPI.download_stream(): <class 'obspy.clients.fdsn.header.FDSNInternalServerException'>/Service responds: Internal server error\n",
      "HTTP Status code: 500\n",
      "Detailed response of server:\n",
      "\n",
      " for get_waveforms(ARV.BHE)\n",
      "2023-09-10 15:11:31,055 11375226880 WARNING S0A_download_ASDF_MPI.download_stream(): <class 'obspy.clients.fdsn.header.FDSNInternalServerException'>/Service responds: Internal server error\n",
      "HTTP Status code: 500\n",
      "Detailed response of server:\n",
      "\n",
      " for get_waveforms(AVM.BHN)\n",
      "2023-09-10 15:11:31,056 11291095040 WARNING S0A_download_ASDF_MPI.download_stream(): <class 'obspy.clients.fdsn.header.FDSNInternalServerException'>/Service responds: Internal server error\n",
      "HTTP Status code: 500\n",
      "Detailed response of server:\n",
      "\n",
      " for get_waveforms(ALP.BHZ)\n",
      "2023-09-10 15:11:31,058 11123519488 WARNING S0A_download_ASDF_MPI.download_stream(): <class 'obspy.clients.fdsn.header.FDSNInternalServerException'>/Service responds: Internal server error\n",
      "HTTP Status code: 500\n",
      "Detailed response of server:\n",
      "\n",
      " for get_waveforms(ALP.BHN)\n",
      "2023-09-10 15:11:31,163 11392053248 WARNING S0A_download_ASDF_MPI.download_stream(): <class 'obspy.clients.fdsn.header.FDSNInternalServerException'>/Service responds: Internal server error\n",
      "HTTP Status code: 500\n",
      "Detailed response of server:\n",
      "\n",
      " for get_waveforms(AVM.BHZ)\n",
      "2023-09-10 15:11:31,179 11089866752 WARNING S0A_download_ASDF_MPI.download_stream(): <class 'obspy.clients.fdsn.header.FDSNInternalServerException'>/Service responds: Internal server error\n",
      "HTTP Status code: 500\n",
      "Detailed response of server:\n",
      "\n",
      " for get_waveforms(ADO.BHZ)\n",
      "2023-09-10 15:11:31,179 11324747776 WARNING S0A_download_ASDF_MPI.download_stream(): <class 'obspy.clients.fdsn.header.FDSNInternalServerException'>/Service responds: Internal server error\n",
      "HTTP Status code: 500\n",
      "Detailed response of server:\n",
      "\n",
      " for get_waveforms(ARV.BHN)\n",
      "2023-09-10 15:11:31,179 11341574144 WARNING S0A_download_ASDF_MPI.download_stream(): <class 'obspy.clients.fdsn.header.FDSNInternalServerException'>/Service responds: Internal server error\n",
      "HTTP Status code: 500\n",
      "Detailed response of server:\n",
      "\n",
      " for get_waveforms(ARV.BHZ)\n",
      "2023-09-10 15:11:31,179 11106693120 WARNING S0A_download_ASDF_MPI.download_stream(): <class 'obspy.clients.fdsn.header.FDSNInternalServerException'>/Service responds: Internal server error\n",
      "HTTP Status code: 500\n",
      "Detailed response of server:\n",
      "\n",
      " for get_waveforms(ALP.BHE)\n",
      "2023-09-10 15:11:31,179 11307921408 WARNING S0A_download_ASDF_MPI.download_stream(): <class 'obspy.clients.fdsn.header.FDSNInternalServerException'>/Service responds: Internal server error\n",
      "HTTP Status code: 500\n",
      "Detailed response of server:\n",
      "\n",
      " for get_waveforms(ARV.BHE)\n",
      "2023-09-10 15:11:31,180 11073040384 WARNING S0A_download_ASDF_MPI.download_stream(): <class 'obspy.clients.fdsn.header.FDSNInternalServerException'>/Service responds: Internal server error\n",
      "HTTP Status code: 500\n",
      "Detailed response of server:\n",
      "\n",
      " for get_waveforms(ADO.BHN)\n",
      "2023-09-10 15:11:31,180 11375226880 WARNING S0A_download_ASDF_MPI.download_stream(): <class 'obspy.clients.fdsn.header.FDSNInternalServerException'>/Service responds: Internal server error\n",
      "HTTP Status code: 500\n",
      "Detailed response of server:\n",
      "\n",
      " for get_waveforms(AVM.BHN)\n",
      "2023-09-10 15:11:31,279 11123519488 WARNING S0A_download_ASDF_MPI.download_stream(): <class 'obspy.clients.fdsn.header.FDSNInternalServerException'>/Service responds: Internal server error\n",
      "HTTP Status code: 500\n",
      "Detailed response of server:\n",
      "\n",
      " for get_waveforms(ALP.BHN)\n",
      "2023-09-10 15:11:31,291 11392053248 WARNING S0A_download_ASDF_MPI.download_stream(): <class 'obspy.clients.fdsn.header.FDSNInternalServerException'>/Service responds: Internal server error\n",
      "HTTP Status code: 500\n",
      "Detailed response of server:\n",
      "\n",
      " for get_waveforms(AVM.BHZ)\n",
      "2023-09-10 15:11:31,294 11291095040 WARNING S0A_download_ASDF_MPI.download_stream(): <class 'obspy.clients.fdsn.header.FDSNInternalServerException'>/Service responds: Internal server error\n",
      "HTTP Status code: 500\n",
      "Detailed response of server:\n",
      "\n",
      " for get_waveforms(ALP.BHZ)\n",
      "2023-09-10 15:11:31,311 11341574144 WARNING S0A_download_ASDF_MPI.download_stream(): <class 'obspy.clients.fdsn.header.FDSNInternalServerException'>/Service responds: Internal server error\n",
      "HTTP Status code: 500\n",
      "Detailed response of server:\n",
      "\n",
      " for get_waveforms(ARV.BHZ)\n",
      "2023-09-10 15:11:31,311 11324747776 WARNING S0A_download_ASDF_MPI.download_stream(): <class 'obspy.clients.fdsn.header.FDSNInternalServerException'>/Service responds: Internal server error\n",
      "HTTP Status code: 500\n",
      "Detailed response of server:\n",
      "\n",
      " for get_waveforms(ARV.BHN)\n",
      "2023-09-10 15:11:31,311 11089866752 WARNING S0A_download_ASDF_MPI.download_stream(): <class 'obspy.clients.fdsn.header.FDSNInternalServerException'>/Service responds: Internal server error\n",
      "HTTP Status code: 500\n",
      "Detailed response of server:\n",
      "\n",
      " for get_waveforms(ADO.BHZ)\n",
      "2023-09-10 15:11:31,312 11106693120 WARNING S0A_download_ASDF_MPI.download_stream(): <class 'obspy.clients.fdsn.header.FDSNInternalServerException'>/Service responds: Internal server error\n",
      "HTTP Status code: 500\n",
      "Detailed response of server:\n",
      "\n",
      " for get_waveforms(ALP.BHE)\n",
      "2023-09-10 15:11:31,315 11073040384 WARNING S0A_download_ASDF_MPI.download_stream(): <class 'obspy.clients.fdsn.header.FDSNInternalServerException'>/Service responds: Internal server error\n",
      "HTTP Status code: 500\n",
      "Detailed response of server:\n",
      "\n",
      " for get_waveforms(ADO.BHN)\n",
      "2023-09-10 15:11:31,420 11123519488 WARNING S0A_download_ASDF_MPI.download_stream(): <class 'obspy.clients.fdsn.header.FDSNInternalServerException'>/Service responds: Internal server error\n",
      "HTTP Status code: 500\n",
      "Detailed response of server:\n",
      "\n",
      " for get_waveforms(ALP.BHN)\n",
      "2023-09-10 15:11:31,422 11392053248 WARNING S0A_download_ASDF_MPI.download_stream(): <class 'obspy.clients.fdsn.header.FDSNInternalServerException'>/Service responds: Internal server error\n",
      "HTTP Status code: 500\n",
      "Detailed response of server:\n",
      "\n",
      " for get_waveforms(AVM.BHZ)\n",
      "2023-09-10 15:11:31,432 11291095040 WARNING S0A_download_ASDF_MPI.download_stream(): <class 'obspy.clients.fdsn.header.FDSNInternalServerException'>/Service responds: Internal server error\n",
      "HTTP Status code: 500\n",
      "Detailed response of server:\n",
      "\n",
      " for get_waveforms(ALP.BHZ)\n",
      "2023-09-10 15:11:31,451 11106693120 WARNING S0A_download_ASDF_MPI.download_stream(): <class 'obspy.clients.fdsn.header.FDSNInternalServerException'>/Service responds: Internal server error\n",
      "HTTP Status code: 500\n",
      "Detailed response of server:\n",
      "\n",
      " for get_waveforms(ALP.BHE)\n",
      "2023-09-10 15:11:31,453 11341574144 WARNING S0A_download_ASDF_MPI.download_stream(): <class 'obspy.clients.fdsn.header.FDSNInternalServerException'>/Service responds: Internal server error\n",
      "HTTP Status code: 500\n",
      "Detailed response of server:\n",
      "\n",
      " for get_waveforms(ARV.BHZ)\n",
      "2023-09-10 15:11:31,455 11324747776 WARNING S0A_download_ASDF_MPI.download_stream(): <class 'obspy.clients.fdsn.header.FDSNInternalServerException'>/Service responds: Internal server error\n",
      "HTTP Status code: 500\n",
      "Detailed response of server:\n",
      "\n",
      " for get_waveforms(ARV.BHN)\n",
      "2023-09-10 15:11:31,456 11073040384 WARNING S0A_download_ASDF_MPI.download_stream(): <class 'obspy.clients.fdsn.header.FDSNInternalServerException'>/Service responds: Internal server error\n",
      "HTTP Status code: 500\n",
      "Detailed response of server:\n",
      "\n",
      " for get_waveforms(ADO.BHN)\n",
      "2023-09-10 15:11:31,457 11089866752 WARNING S0A_download_ASDF_MPI.download_stream(): <class 'obspy.clients.fdsn.header.FDSNInternalServerException'>/Service responds: Internal server error\n",
      "HTTP Status code: 500\n",
      "Detailed response of server:\n",
      "\n",
      " for get_waveforms(ADO.BHZ)\n",
      "2023-09-10 15:11:31,579 11123519488 WARNING S0A_download_ASDF_MPI.download_stream(): <class 'obspy.clients.fdsn.header.FDSNInternalServerException'>/Service responds: Internal server error\n",
      "HTTP Status code: 500\n",
      "Detailed response of server:\n",
      "\n",
      " for get_waveforms(ALP.BHN)\n",
      "2023-09-10 15:11:31,579 11291095040 WARNING S0A_download_ASDF_MPI.download_stream(): <class 'obspy.clients.fdsn.header.FDSNInternalServerException'>/Service responds: Internal server error\n",
      "HTTP Status code: 500\n",
      "Detailed response of server:\n",
      "\n",
      " for get_waveforms(ALP.BHZ)\n",
      "2023-09-10 15:11:31,588 11106693120 WARNING S0A_download_ASDF_MPI.download_stream(): <class 'obspy.clients.fdsn.header.FDSNInternalServerException'>/Service responds: Internal server error\n",
      "HTTP Status code: 500\n",
      "Detailed response of server:\n",
      "\n",
      " for get_waveforms(ALP.BHE)\n",
      "2023-09-10 15:11:31,589 11106693120 WARNING S0A_download_ASDF_MPI.download_stream(): Could not download data for 2019-02-01T00:00:00.000000Z-2019-02-01T12:00:00.000000Z/ALP.BHE\n",
      "2023-09-10 15:11:31,600 11073040384 WARNING S0A_download_ASDF_MPI.download_stream(): <class 'obspy.clients.fdsn.header.FDSNInternalServerException'>/Service responds: Internal server error\n",
      "HTTP Status code: 500\n",
      "Detailed response of server:\n",
      "\n",
      " for get_waveforms(ADO.BHN)\n",
      "2023-09-10 15:11:31,600 11324747776 WARNING S0A_download_ASDF_MPI.download_stream(): <class 'obspy.clients.fdsn.header.FDSNInternalServerException'>/Service responds: Internal server error\n",
      "HTTP Status code: 500\n",
      "Detailed response of server:\n",
      "\n",
      " for get_waveforms(ARV.BHN)\n",
      "2023-09-10 15:11:31,600 11073040384 WARNING S0A_download_ASDF_MPI.download_stream(): Could not download data for 2019-02-01T00:00:00.000000Z-2019-02-01T12:00:00.000000Z/ADO.BHN\n",
      "2023-09-10 15:11:31,601 11324747776 WARNING S0A_download_ASDF_MPI.download_stream(): Could not download data for 2019-02-01T00:00:00.000000Z-2019-02-01T12:00:00.000000Z/ARV.BHN\n",
      "2023-09-10 15:11:31,723 11123519488 WARNING S0A_download_ASDF_MPI.download_stream(): <class 'obspy.clients.fdsn.header.FDSNInternalServerException'>/Service responds: Internal server error\n",
      "HTTP Status code: 500\n",
      "Detailed response of server:\n",
      "\n",
      " for get_waveforms(ALP.BHN)\n",
      "2023-09-10 15:11:31,793 11123519488 WARNING S0A_download_ASDF_MPI.download_stream(): Could not download data for 2019-02-01T00:00:00.000000Z-2019-02-01T12:00:00.000000Z/ALP.BHN\n",
      "2023-09-10 15:11:31,864 11341574144 WARNING S0A_download_ASDF_MPI.download_stream(): <class 'obspy.clients.fdsn.header.FDSNInternalServerException'>/Service responds: Internal server error\n",
      "HTTP Status code: 500\n",
      "Detailed response of server:\n",
      "\n",
      " for get_waveforms(ARV.BHZ)\n",
      "2023-09-10 15:11:31,865 11341574144 WARNING S0A_download_ASDF_MPI.download_stream(): Could not download data for 2019-02-01T00:00:00.000000Z-2019-02-01T12:00:00.000000Z/ARV.BHZ\n",
      "2023-09-10 15:11:31,970 11358400512 INFO noise_module.preprocess_raw(): removing response for CI.AVM..BHE | 2019-02-01T00:00:00.000000Z - 2019-02-01T11:59:59.950000Z | 20.0 Hz, 864000 samples using inv\n",
      "2023-09-10 15:11:32,432 11307921408 INFO noise_module.preprocess_raw(): removing response for CI.ARV..BHE | 2019-02-01T00:00:00.000000Z - 2019-02-01T11:59:59.950000Z | 20.0 Hz, 864000 samples using inv\n",
      "2023-09-10 15:11:32,565 11392053248 WARNING S0A_download_ASDF_MPI.download_stream(): <class 'obspy.clients.fdsn.header.FDSNInternalServerException'>/Service responds: Internal server error\n",
      "HTTP Status code: 500\n",
      "Detailed response of server:\n",
      "\n",
      " for get_waveforms(AVM.BHZ)\n",
      "2023-09-10 15:11:32,668 4302980480 INFO S0A_download_ASDF_MPI.download(): Downloaded BHE/bhe_00\n",
      "2023-09-10 15:11:32,711 11291095040 WARNING S0A_download_ASDF_MPI.download_stream(): <class 'obspy.clients.fdsn.header.FDSNInternalServerException'>/Service responds: Internal server error\n",
      "HTTP Status code: 500\n",
      "Detailed response of server:\n",
      "\n",
      " for get_waveforms(ALP.BHZ)\n",
      "2023-09-10 15:11:32,711 11291095040 WARNING S0A_download_ASDF_MPI.download_stream(): Could not download data for 2019-02-01T00:00:00.000000Z-2019-02-01T12:00:00.000000Z/ALP.BHZ\n",
      "2023-09-10 15:11:32,893 4302980480 INFO S0A_download_ASDF_MPI.download(): Downloaded BHE/bhe_00\n",
      "2023-09-10 15:11:33,317 11375226880 INFO noise_module.preprocess_raw(): removing response for CI.AVM..BHN | 2019-02-01T00:00:00.000000Z - 2019-02-01T11:59:59.950000Z | 20.0 Hz, 864000 samples using inv\n",
      "2023-09-10 15:11:33,632 11056214016 INFO noise_module.preprocess_raw(): removing response for CI.ADO..BHE | 2019-02-01T00:00:00.000000Z - 2019-02-01T11:59:59.950000Z | 20.0 Hz, 864000 samples using inv\n",
      "2023-09-10 15:11:34,287 4302980480 INFO S0A_download_ASDF_MPI.download(): Downloaded BHN/bhn_00\n",
      "2023-09-10 15:11:34,361 11089866752 INFO noise_module.preprocess_raw(): removing response for CI.ADO..BHZ | 2019-02-01T00:00:00.000000Z - 2019-02-01T11:59:59.950000Z | 20.0 Hz, 864000 samples using inv\n",
      "2023-09-10 15:11:34,432 11392053248 INFO noise_module.preprocess_raw(): removing response for CI.AVM..BHZ | 2019-02-01T00:00:00.000000Z - 2019-02-01T11:59:59.950000Z | 20.0 Hz, 864000 samples using inv\n",
      "2023-09-10 15:11:34,529 4302980480 INFO S0A_download_ASDF_MPI.download(): Downloaded BHE/bhe_00\n",
      "2023-09-10 15:11:34,849 4302980480 INFO S0A_download_ASDF_MPI.download(): Downloaded BHZ/bhz_00\n",
      "2023-09-10 15:11:35,049 4302980480 INFO S0A_download_ASDF_MPI.download(): Downloaded BHZ/bhz_00\n",
      "2023-09-10 15:11:35,590 11307921408 WARNING S0A_download_ASDF_MPI.download_stream(): <class 'obspy.clients.fdsn.header.FDSNInternalServerException'>/Service responds: Internal server error\n",
      "HTTP Status code: 500\n",
      "Detailed response of server:\n",
      "\n",
      " for get_waveforms(ARV.BHN)\n",
      "2023-09-10 15:11:35,590 11375226880 WARNING S0A_download_ASDF_MPI.download_stream(): <class 'obspy.clients.fdsn.header.FDSNInternalServerException'>/Service responds: Internal server error\n",
      "HTTP Status code: 500\n",
      "Detailed response of server:\n",
      "\n",
      " for get_waveforms(ARV.BHZ)\n",
      "2023-09-10 15:11:35,591 11358400512 WARNING S0A_download_ASDF_MPI.download_stream(): <class 'obspy.clients.fdsn.header.FDSNInternalServerException'>/Service responds: Internal server error\n",
      "HTTP Status code: 500\n",
      "Detailed response of server:\n",
      "\n",
      " for get_waveforms(ALP.BHZ)\n",
      "2023-09-10 15:11:35,592 11056214016 WARNING S0A_download_ASDF_MPI.download_stream(): <class 'obspy.clients.fdsn.header.FDSNInternalServerException'>/Service responds: Internal server error\n",
      "HTTP Status code: 500\n",
      "Detailed response of server:\n",
      "\n",
      " for get_waveforms(AVM.BHE)\n",
      "2023-09-10 15:11:35,592 11106693120 WARNING S0A_download_ASDF_MPI.download_stream(): <class 'obspy.clients.fdsn.header.FDSNInternalServerException'>/Service responds: Internal server error\n",
      "HTTP Status code: 500\n",
      "Detailed response of server:\n",
      "\n",
      " for get_waveforms(ADO.BHE)\n",
      "2023-09-10 15:11:35,592 11089866752 WARNING S0A_download_ASDF_MPI.download_stream(): <class 'obspy.clients.fdsn.header.FDSNInternalServerException'>/Service responds: Internal server error\n",
      "HTTP Status code: 500\n",
      "Detailed response of server:\n",
      "\n",
      " for get_waveforms(AVM.BHN)\n",
      "2023-09-10 15:11:35,592 11341574144 WARNING S0A_download_ASDF_MPI.download_stream(): <class 'obspy.clients.fdsn.header.FDSNInternalServerException'>/Service responds: Internal server error\n",
      "HTTP Status code: 500\n",
      "Detailed response of server:\n",
      "\n",
      " for get_waveforms(ALP.BHN)\n",
      "2023-09-10 15:11:35,592 11324747776 WARNING S0A_download_ASDF_MPI.download_stream(): <class 'obspy.clients.fdsn.header.FDSNInternalServerException'>/Service responds: Internal server error\n",
      "HTTP Status code: 500\n",
      "Detailed response of server:\n",
      "\n",
      " for get_waveforms(ADO.BHZ)\n",
      "2023-09-10 15:11:35,784 11392053248 WARNING S0A_download_ASDF_MPI.download_stream(): <class 'obspy.clients.fdsn.header.FDSNInternalServerException'>/Service responds: Internal server error\n",
      "HTTP Status code: 500\n",
      "Detailed response of server:\n",
      "\n",
      " for get_waveforms(AVM.BHZ)\n",
      "2023-09-10 15:11:35,785 11291095040 WARNING S0A_download_ASDF_MPI.download_stream(): <class 'obspy.clients.fdsn.header.FDSNInternalServerException'>/Service responds: Internal server error\n",
      "HTTP Status code: 500\n",
      "Detailed response of server:\n",
      "\n",
      " for get_waveforms(ARV.BHE)\n",
      "2023-09-10 15:11:35,794 11307921408 WARNING S0A_download_ASDF_MPI.download_stream(): <class 'obspy.clients.fdsn.header.FDSNInternalServerException'>/Service responds: Internal server error\n",
      "HTTP Status code: 500\n",
      "Detailed response of server:\n",
      "\n",
      " for get_waveforms(ARV.BHN)\n",
      "2023-09-10 15:11:35,802 11106693120 WARNING S0A_download_ASDF_MPI.download_stream(): <class 'obspy.clients.fdsn.header.FDSNInternalServerException'>/Service responds: Internal server error\n",
      "HTTP Status code: 500\n",
      "Detailed response of server:\n",
      "\n",
      " for get_waveforms(ADO.BHE)\n",
      "2023-09-10 15:11:35,802 11324747776 WARNING S0A_download_ASDF_MPI.download_stream(): <class 'obspy.clients.fdsn.header.FDSNInternalServerException'>/Service responds: Internal server error\n",
      "HTTP Status code: 500\n",
      "Detailed response of server:\n",
      "\n",
      " for get_waveforms(ADO.BHZ)\n",
      "2023-09-10 15:11:35,806 11358400512 WARNING S0A_download_ASDF_MPI.download_stream(): <class 'obspy.clients.fdsn.header.FDSNInternalServerException'>/Service responds: Internal server error\n",
      "HTTP Status code: 500\n",
      "Detailed response of server:\n",
      "\n",
      " for get_waveforms(ALP.BHZ)\n",
      "2023-09-10 15:11:35,806 11375226880 WARNING S0A_download_ASDF_MPI.download_stream(): <class 'obspy.clients.fdsn.header.FDSNInternalServerException'>/Service responds: Internal server error\n",
      "HTTP Status code: 500\n",
      "Detailed response of server:\n",
      "\n",
      " for get_waveforms(ARV.BHZ)\n",
      "2023-09-10 15:11:35,807 11089866752 WARNING S0A_download_ASDF_MPI.download_stream(): <class 'obspy.clients.fdsn.header.FDSNInternalServerException'>/Service responds: Internal server error\n",
      "HTTP Status code: 500\n",
      "Detailed response of server:\n",
      "\n",
      " for get_waveforms(AVM.BHN)\n",
      "2023-09-10 15:11:35,894 11056214016 WARNING S0A_download_ASDF_MPI.download_stream(): <class 'obspy.clients.fdsn.header.FDSNInternalServerException'>/Service responds: Internal server error\n",
      "HTTP Status code: 500\n",
      "Detailed response of server:\n",
      "\n",
      " for get_waveforms(AVM.BHE)\n",
      "2023-09-10 15:11:35,899 11341574144 WARNING S0A_download_ASDF_MPI.download_stream(): <class 'obspy.clients.fdsn.header.FDSNInternalServerException'>/Service responds: Internal server error\n",
      "HTTP Status code: 500\n",
      "Detailed response of server:\n",
      "\n",
      " for get_waveforms(ALP.BHN)\n",
      "2023-09-10 15:11:35,936 11307921408 WARNING S0A_download_ASDF_MPI.download_stream(): <class 'obspy.clients.fdsn.header.FDSNInternalServerException'>/Service responds: Internal server error\n",
      "HTTP Status code: 500\n",
      "Detailed response of server:\n",
      "\n",
      " for get_waveforms(ARV.BHN)\n",
      "2023-09-10 15:11:35,938 11291095040 WARNING S0A_download_ASDF_MPI.download_stream(): <class 'obspy.clients.fdsn.header.FDSNInternalServerException'>/Service responds: Internal server error\n",
      "HTTP Status code: 500\n",
      "Detailed response of server:\n",
      "\n",
      " for get_waveforms(ARV.BHE)\n",
      "2023-09-10 15:11:35,944 11324747776 WARNING S0A_download_ASDF_MPI.download_stream(): <class 'obspy.clients.fdsn.header.FDSNInternalServerException'>/Service responds: Internal server error\n",
      "HTTP Status code: 500\n",
      "Detailed response of server:\n",
      "\n",
      " for get_waveforms(ADO.BHZ)\n",
      "2023-09-10 15:11:35,944 11106693120 WARNING S0A_download_ASDF_MPI.download_stream(): <class 'obspy.clients.fdsn.header.FDSNInternalServerException'>/Service responds: Internal server error\n",
      "HTTP Status code: 500\n",
      "Detailed response of server:\n",
      "\n",
      " for get_waveforms(ADO.BHE)\n",
      "2023-09-10 15:11:35,956 11089866752 WARNING S0A_download_ASDF_MPI.download_stream(): <class 'obspy.clients.fdsn.header.FDSNInternalServerException'>/Service responds: Internal server error\n",
      "HTTP Status code: 500\n",
      "Detailed response of server:\n",
      "\n",
      " for get_waveforms(AVM.BHN)\n",
      "2023-09-10 15:11:36,017 11375226880 WARNING S0A_download_ASDF_MPI.download_stream(): <class 'obspy.clients.fdsn.header.FDSNInternalServerException'>/Service responds: Internal server error\n",
      "HTTP Status code: 500\n",
      "Detailed response of server:\n",
      "\n",
      " for get_waveforms(ARV.BHZ)\n",
      "2023-09-10 15:11:36,050 11056214016 WARNING S0A_download_ASDF_MPI.download_stream(): <class 'obspy.clients.fdsn.header.FDSNInternalServerException'>/Service responds: Internal server error\n",
      "HTTP Status code: 500\n",
      "Detailed response of server:\n",
      "\n",
      " for get_waveforms(AVM.BHE)\n",
      "2023-09-10 15:11:36,070 11341574144 WARNING S0A_download_ASDF_MPI.download_stream(): <class 'obspy.clients.fdsn.header.FDSNInternalServerException'>/Service responds: Internal server error\n",
      "HTTP Status code: 500\n",
      "Detailed response of server:\n",
      "\n",
      " for get_waveforms(ALP.BHN)\n",
      "2023-09-10 15:11:36,083 11307921408 WARNING S0A_download_ASDF_MPI.download_stream(): <class 'obspy.clients.fdsn.header.FDSNInternalServerException'>/Service responds: Internal server error\n",
      "HTTP Status code: 500\n",
      "Detailed response of server:\n",
      "\n",
      " for get_waveforms(ARV.BHN)\n",
      "2023-09-10 15:11:36,083 11291095040 WARNING S0A_download_ASDF_MPI.download_stream(): <class 'obspy.clients.fdsn.header.FDSNInternalServerException'>/Service responds: Internal server error\n",
      "HTTP Status code: 500\n",
      "Detailed response of server:\n",
      "\n",
      " for get_waveforms(ARV.BHE)\n",
      "2023-09-10 15:11:36,086 11324747776 WARNING S0A_download_ASDF_MPI.download_stream(): <class 'obspy.clients.fdsn.header.FDSNInternalServerException'>/Service responds: Internal server error\n",
      "HTTP Status code: 500\n",
      "Detailed response of server:\n",
      "\n",
      " for get_waveforms(ADO.BHZ)\n",
      "2023-09-10 15:11:36,103 11106693120 WARNING S0A_download_ASDF_MPI.download_stream(): <class 'obspy.clients.fdsn.header.FDSNInternalServerException'>/Service responds: Internal server error\n",
      "HTTP Status code: 500\n",
      "Detailed response of server:\n",
      "\n",
      " for get_waveforms(ADO.BHE)\n",
      "2023-09-10 15:11:36,189 11375226880 WARNING S0A_download_ASDF_MPI.download_stream(): <class 'obspy.clients.fdsn.header.FDSNInternalServerException'>/Service responds: Internal server error\n",
      "HTTP Status code: 500\n",
      "Detailed response of server:\n",
      "\n",
      " for get_waveforms(ARV.BHZ)\n",
      "2023-09-10 15:11:36,204 11056214016 WARNING S0A_download_ASDF_MPI.download_stream(): <class 'obspy.clients.fdsn.header.FDSNInternalServerException'>/Service responds: Internal server error\n",
      "HTTP Status code: 500\n",
      "Detailed response of server:\n",
      "\n",
      " for get_waveforms(AVM.BHE)\n",
      "2023-09-10 15:11:36,244 11341574144 WARNING S0A_download_ASDF_MPI.download_stream(): <class 'obspy.clients.fdsn.header.FDSNInternalServerException'>/Service responds: Internal server error\n",
      "HTTP Status code: 500\n",
      "Detailed response of server:\n",
      "\n",
      " for get_waveforms(ALP.BHN)\n",
      "2023-09-10 15:11:36,247 11291095040 WARNING S0A_download_ASDF_MPI.download_stream(): <class 'obspy.clients.fdsn.header.FDSNInternalServerException'>/Service responds: Internal server error\n",
      "HTTP Status code: 500\n",
      "Detailed response of server:\n",
      "\n",
      " for get_waveforms(ARV.BHE)\n",
      "2023-09-10 15:11:36,248 11324747776 WARNING S0A_download_ASDF_MPI.download_stream(): <class 'obspy.clients.fdsn.header.FDSNInternalServerException'>/Service responds: Internal server error\n",
      "HTTP Status code: 500\n",
      "Detailed response of server:\n",
      "\n",
      " for get_waveforms(ADO.BHZ)\n",
      "2023-09-10 15:11:36,251 11324747776 WARNING S0A_download_ASDF_MPI.download_stream(): Could not download data for 2019-02-01T12:00:00.000000Z-2019-02-02T00:00:00.000000Z/ADO.BHZ\n",
      "2023-09-10 15:11:36,254 11106693120 WARNING S0A_download_ASDF_MPI.download_stream(): <class 'obspy.clients.fdsn.header.FDSNInternalServerException'>/Service responds: Internal server error\n",
      "HTTP Status code: 500\n",
      "Detailed response of server:\n",
      "\n",
      " for get_waveforms(ADO.BHE)\n",
      "2023-09-10 15:11:36,255 11106693120 WARNING S0A_download_ASDF_MPI.download_stream(): Could not download data for 2019-02-01T12:00:00.000000Z-2019-02-02T00:00:00.000000Z/ADO.BHE\n",
      "2023-09-10 15:11:36,340 11375226880 WARNING S0A_download_ASDF_MPI.download_stream(): <class 'obspy.clients.fdsn.header.FDSNInternalServerException'>/Service responds: Internal server error\n",
      "HTTP Status code: 500\n",
      "Detailed response of server:\n",
      "\n",
      " for get_waveforms(ARV.BHZ)\n",
      "2023-09-10 15:11:36,342 11375226880 WARNING S0A_download_ASDF_MPI.download_stream(): Could not download data for 2019-02-01T12:00:00.000000Z-2019-02-02T00:00:00.000000Z/ARV.BHZ\n",
      "2023-09-10 15:11:36,414 11341574144 WARNING S0A_download_ASDF_MPI.download_stream(): <class 'obspy.clients.fdsn.header.FDSNInternalServerException'>/Service responds: Internal server error\n",
      "HTTP Status code: 500\n",
      "Detailed response of server:\n",
      "\n",
      " for get_waveforms(ALP.BHN)\n",
      "2023-09-10 15:11:36,420 11341574144 WARNING S0A_download_ASDF_MPI.download_stream(): Could not download data for 2019-02-01T12:00:00.000000Z-2019-02-02T00:00:00.000000Z/ALP.BHN\n",
      "2023-09-10 15:11:36,414 11291095040 WARNING S0A_download_ASDF_MPI.download_stream(): <class 'obspy.clients.fdsn.header.FDSNInternalServerException'>/Service responds: Internal server error\n",
      "HTTP Status code: 500\n",
      "Detailed response of server:\n",
      "\n",
      " for get_waveforms(ARV.BHE)\n",
      "2023-09-10 15:11:36,423 11291095040 WARNING S0A_download_ASDF_MPI.download_stream(): Could not download data for 2019-02-01T12:00:00.000000Z-2019-02-02T00:00:00.000000Z/ARV.BHE\n",
      "2023-09-10 15:11:38,346 11392053248 INFO noise_module.preprocess_raw(): removing response for CI.AVM..BHZ | 2019-02-01T11:59:59.950000Z - 2019-02-01T23:59:59.950000Z | 20.0 Hz, 864001 samples using inv\n",
      "2023-09-10 15:11:38,461 11089866752 INFO noise_module.preprocess_raw(): removing response for CI.AVM..BHN | 2019-02-01T11:59:59.950000Z - 2019-02-01T23:59:59.950000Z | 20.0 Hz, 864001 samples using inv\n",
      "2023-09-10 15:11:39,225 11307921408 INFO noise_module.preprocess_raw(): removing response for CI.ARV..BHN | 2019-02-01T11:59:59.950000Z - 2019-02-01T23:59:59.950000Z | 20.0 Hz, 864001 samples using inv\n",
      "2023-09-10 15:11:39,232 11056214016 INFO noise_module.preprocess_raw(): removing response for CI.AVM..BHE | 2019-02-01T11:59:59.950000Z - 2019-02-01T23:59:59.950000Z | 20.0 Hz, 864001 samples using inv\n",
      "2023-09-10 15:11:39,347 11358400512 INFO noise_module.preprocess_raw(): removing response for CI.ALP..BHZ | 2019-02-01T11:59:59.950000Z - 2019-02-01T23:59:59.950000Z | 20.0 Hz, 864001 samples using inv\n",
      "2023-09-10 15:11:39,421 4302980480 INFO S0A_download_ASDF_MPI.download(): Downloaded BHZ/bhz_00\n",
      "2023-09-10 15:11:39,616 11123519488 INFO noise_module.preprocess_raw(): removing response for CI.ALP..BHE | 2019-02-01T11:59:59.950000Z - 2019-02-01T23:59:59.950000Z | 20.0 Hz, 864001 samples using inv\n",
      "2023-09-10 15:11:39,635 11073040384 INFO noise_module.preprocess_raw(): removing response for CI.ADO..BHN | 2019-02-01T11:59:59.950000Z - 2019-02-01T23:59:59.950000Z | 20.0 Hz, 864001 samples using inv\n",
      "2023-09-10 15:11:39,749 4302980480 INFO S0A_download_ASDF_MPI.download(): Downloaded BHN/bhn_00\n",
      "2023-09-10 15:11:40,035 4302980480 INFO S0A_download_ASDF_MPI.download(): Downloaded BHN/bhn_00\n",
      "2023-09-10 15:11:40,239 4302980480 INFO S0A_download_ASDF_MPI.download(): Downloaded BHE/bhe_00\n",
      "2023-09-10 15:11:40,426 4302980480 INFO S0A_download_ASDF_MPI.download(): Downloaded BHZ/bhz_00\n",
      "2023-09-10 15:11:40,613 4302980480 INFO S0A_download_ASDF_MPI.download(): Downloaded BHE/bhe_00\n",
      "2023-09-10 15:11:40,809 4302980480 INFO S0A_download_ASDF_MPI.download(): Downloaded BHN/bhn_00\n",
      "2023-09-10 15:11:41,011 4302980480 INFO utils.log_raw(): TIMING: 14.5971 secs. for Total Download\n"
     ]
    }
   ],
   "source": [
    "config.stations = [\"A*\"]\n",
    "config.channels =  [\"BHE\",\"BHN\",\"BHZ\"]\n",
    "config.start_date =  isoparse(\"2019-02-01\")\n",
    "config.end_date = isoparse(\"2019-02-02\")\n",
    "\n",
    "# Download data locally. Enters raw data path, channel types, stations, config, and fdsn server.\n",
    "download(raw_data_path, config)"
   ]
  },
  {
   "cell_type": "markdown",
   "metadata": {},
   "source": [
    "List the files that were downloaded, just to make sure !"
   ]
  },
  {
   "cell_type": "code",
   "execution_count": 5,
   "metadata": {
    "id": "klpx413Ty8zK"
   },
   "outputs": [
    {
     "name": "stdout",
     "output_type": "stream",
     "text": [
      "['station.csv', '2019_02_01_00_00_00T2019_02_01_12_00_00.h5', '2019_02_01_12_00_00T2019_02_02_00_00_00.h5']\n"
     ]
    }
   ],
   "source": [
    "print(os.listdir(raw_data_path))"
   ]
  },
  {
   "cell_type": "markdown",
   "metadata": {},
   "source": [
    "Plot the raw data, make sure it's noise!"
   ]
  },
  {
   "cell_type": "code",
   "execution_count": 6,
   "metadata": {
    "id": "To29cLijWzdQ"
   },
   "outputs": [],
   "source": [
    "file = os.path.join(raw_data_path, \"2019_02_01_00_00_00T2019_02_01_12_00_00.h5\")\n",
    "plotting_modules.plot_waveform(file,'CI','ADO',0.01,0.4) # this function takes for input: filename, network, station, freqmin, freqmax for a bandpass filter"
   ]
  },
  {
   "attachments": {},
   "cell_type": "markdown",
   "metadata": {
    "id": "Wwv1QCQhP_0Y"
   },
   "source": [
    "## Step 1: Cross-correlation\n",
    "\n",
    "This step will perform the cross correlation. For each time chunk, it will read the data, perform classic ambient noise pre-processing (time and frequency normalization), FFT, cross correlation, substacking, saving cross correlations in to a temp ASDF file (this is not fast and will be improved).\n"
   ]
  },
  {
   "cell_type": "code",
   "execution_count": 7,
   "metadata": {},
   "outputs": [
    {
     "data": {
      "text/plain": [
       "0"
      ]
     },
     "execution_count": 7,
     "metadata": {},
     "output_type": "execute_result"
    }
   ],
   "source": [
    "# For this tutorial make sure the previous run is empty\n",
    "os.system(f\"rm -rf {cc_data_path}\")"
   ]
  },
  {
   "cell_type": "code",
   "execution_count": 8,
   "metadata": {
    "id": "jq2DKIS9Rl2H"
   },
   "outputs": [
    {
     "name": "stdout",
     "output_type": "stream",
     "text": [
      "client_url_key='SCEDC' start_date=datetime.datetime(2019, 2, 1, 0, 0) end_date=datetime.datetime(2019, 2, 2, 0, 0) samp_freq=20 single_freq=True cc_len=3600.0 lamin=31 lamax=42 lomin=-124 lomax=-115 down_list=False net_list=['*'] stations=['A*'] channels=['BHE', 'BHN', 'BHZ'] step=1800.0 freqmin=0.05 freqmax=2.0 freq_norm='rma' time_norm='no' cc_method='xcorr' smooth_N=10 smoothspect_N=10 substack=True substack_len=3600.0 maxlag=200 inc_hours=12 max_over_std=10 ncomp=3 stationxml=False rm_resp='inv' rm_resp_out='VEL' respdir='./get_started_data/RAW_DATA/../resp' acorr_only=False xcorr_only=True stack_method=<StackMethod.LINEAR: 'linear'> keep_substack=False rotation=True correction=False correction_csv=None storage_options=defaultdict(<class 'dict'>, {})\n"
     ]
    }
   ],
   "source": [
    "config.freq_norm = \"rma\"\n",
    "raw_store = ASDFRawDataStore(raw_data_path) # Store for reading raw data\n",
    "cc_store = ASDFCCStore(cc_data_path) # Store for writing CC data\n",
    "\n",
    "# print the configuration parameters. Some are chosen by default but we cab modify them\n",
    "print(config)"
   ]
  },
  {
   "cell_type": "markdown",
   "metadata": {},
   "source": [
    "Perform the cross correlation"
   ]
  },
  {
   "cell_type": "code",
   "execution_count": 9,
   "metadata": {},
   "outputs": [
    {
     "name": "stderr",
     "output_type": "stream",
     "text": [
      "2023-09-10 15:11:41,069 4302980480 INFO S1_fft_cc_MPI.cross_correlate(): Starting Cross-Correlation with 10 cores\n",
      "2023-09-10 15:11:41,088 4302980480 INFO utils.log_raw(): TIMING CC Main: 0.0181 secs. for get 6 channels\n",
      "2023-09-10 15:11:41,089 4302980480 INFO S1_fft_cc_MPI.cross_correlate(): Checking for stations already done: 6 pairs\n",
      "2023-09-10 15:11:41,093 4302980480 INFO utils.log_raw(): TIMING CC Main: 0.0043 secs. for check for stations already done\n",
      "2023-09-10 15:11:41,094 4302980480 INFO S1_fft_cc_MPI.cross_correlate(): Still need to process: 3/3 stations, 6/6 channels, 6/6 pairs for 2019-02-01T00:00:00+0000 - 2019-02-01T12:00:00+0000\n",
      "Read channel data. Memory:  1026 MB: 100%|██████████| 6/6 [00:00<00:00, 24.08it/s]\n",
      "2023-09-10 15:11:41,359 4302980480 INFO S1_fft_cc_MPI._filter_channel_data(): Picked 20.0 as the closest sampling frequence to 20. \n",
      "2023-09-10 15:11:41,359 4302980480 INFO S1_fft_cc_MPI._filter_channel_data(): Filtered to 6/6 channels with sampling rate == 20.0\n",
      "2023-09-10 15:11:41,360 4302980480 INFO utils.log_raw(): TIMING CC Main: 0.2666 secs. for Read channel data: 6 channels\n",
      "2023-09-10 15:11:41,654 11291095040 INFO noise_module.preprocess_raw(): removing response for CI.AVM..BHE | 2019-02-01T00:00:00.000000Z - 2019-02-01T12:00:00.000000Z | 20.0 Hz, 864001 samples using inv\n",
      "2023-09-10 15:11:41,665 11056214016 INFO noise_module.preprocess_raw(): removing response for CI.ADO..BHE | 2019-02-01T00:00:00.000000Z - 2019-02-01T12:00:00.000000Z | 20.0 Hz, 864001 samples using inv\n",
      "2023-09-10 15:11:41,691 11089866752 INFO noise_module.preprocess_raw(): removing response for CI.ADO..BHZ | 2019-02-01T00:00:00.000000Z - 2019-02-01T12:00:00.000000Z | 20.0 Hz, 864001 samples using inv\n",
      "2023-09-10 15:11:41,698 11106693120 INFO noise_module.preprocess_raw(): removing response for CI.ARV..BHE | 2019-02-01T00:00:00.000000Z - 2019-02-01T12:00:00.000000Z | 20.0 Hz, 864001 samples using inv\n",
      "2023-09-10 15:11:41,703 11123519488 INFO noise_module.preprocess_raw(): removing response for CI.AVM..BHN | 2019-02-01T00:00:00.000000Z - 2019-02-01T12:00:00.000000Z | 20.0 Hz, 864001 samples using inv\n",
      "2023-09-10 15:11:41,703 11073040384 INFO noise_module.preprocess_raw(): removing response for CI.AVM..BHZ | 2019-02-01T00:00:00.000000Z - 2019-02-01T12:00:00.000000Z | 20.0 Hz, 864001 samples using inv\n",
      "Pre-process. Memory:  1087 MB: 100%|██████████| 6/6 [00:01<00:00,  5.94it/s]\n",
      "2023-09-10 15:11:42,374 4302980480 INFO utils.log_raw(): TIMING CC Main: 1.0144 secs. for Preprocess: 6 channels\n",
      "2023-09-10 15:11:42,375 4302980480 INFO S1_fft_cc_MPI.check_memory(): Require  0.04gb memory for cross correlations\n",
      "Compute ffts. Memory:  1136 MB: 100%|██████████| 6/6 [00:00<00:00, 15.67it/s]\n",
      "2023-09-10 15:11:42,815 4302980480 INFO utils.log_raw(): TIMING CC Main: 0.4397 secs. for Compute FFTs: 6 channels\n",
      "2023-09-10 15:11:42,821 4302980480 INFO S1_fft_cc_MPI.cross_correlate(): Starting CC with 6 station pairs\n",
      "Cross correlation. Memory:  1234 MB: 100%|██████████| 6/6 [00:00<00:00, 17.70it/s]\n",
      "2023-09-10 15:11:43,182 4302980480 INFO utils.log_raw(): TIMING CC Main: 0.3614 secs. for Correlate and write to store: 21 channel pairs\n",
      "2023-09-10 15:11:43,230 4302980480 INFO utils.log_raw(): TIMING CC Main: 2.1597 secs. for Process the chunk of 2019-02-01T00:00:00+0000 - 2019-02-01T12:00:00+0000\n",
      "2023-09-10 15:11:43,249 4302980480 INFO utils.log_raw(): TIMING CC Main: 0.0189 secs. for get 7 channels\n",
      "2023-09-10 15:11:43,250 4302980480 INFO S1_fft_cc_MPI.cross_correlate(): Checking for stations already done: 10 pairs\n",
      "2023-09-10 15:11:43,255 4302980480 INFO utils.log_raw(): TIMING CC Main: 0.0046 secs. for check for stations already done\n",
      "2023-09-10 15:11:43,255 4302980480 INFO S1_fft_cc_MPI.cross_correlate(): Still need to process: 4/4 stations, 7/7 channels, 10/10 pairs for 2019-02-01T12:00:00+0000 - 2019-02-02T00:00:00+0000\n",
      "Read channel data. Memory:  1235 MB: 100%|██████████| 7/7 [00:00<00:00, 26.56it/s]\n",
      "2023-09-10 15:11:43,521 4302980480 INFO S1_fft_cc_MPI._filter_channel_data(): Picked 20.0 as the closest sampling frequence to 20. \n",
      "2023-09-10 15:11:43,521 4302980480 INFO S1_fft_cc_MPI._filter_channel_data(): Filtered to 7/7 channels with sampling rate == 20.0\n",
      "2023-09-10 15:11:43,521 4302980480 INFO utils.log_raw(): TIMING CC Main: 0.2667 secs. for Read channel data: 7 channels\n",
      "2023-09-10 15:11:43,724 11291095040 INFO noise_module.preprocess_raw(): removing response for CI.AVM..BHN | 2019-02-01T12:00:00.000000Z - 2019-02-02T00:00:00.000000Z | 20.0 Hz, 864001 samples using inv\n",
      "2023-09-10 15:11:43,742 12267122688 INFO noise_module.preprocess_raw(): removing response for CI.ADO..BHN | 2019-02-01T12:00:00.000000Z - 2019-02-02T00:00:00.000000Z | 20.0 Hz, 864001 samples using inv\n",
      "2023-09-10 15:11:43,744 11056214016 INFO noise_module.preprocess_raw(): removing response for CI.ARV..BHN | 2019-02-01T12:00:00.000000Z - 2019-02-02T00:00:00.000000Z | 20.0 Hz, 864001 samples using inv\n",
      "2023-09-10 15:11:43,760 11073040384 INFO noise_module.preprocess_raw(): removing response for CI.ALP..BHE | 2019-02-01T12:00:00.000000Z - 2019-02-02T00:00:00.000000Z | 20.0 Hz, 864001 samples using inv\n",
      "2023-09-10 15:11:43,774 11089866752 INFO noise_module.preprocess_raw(): removing response for CI.ALP..BHZ | 2019-02-01T12:00:00.000000Z - 2019-02-02T00:00:00.000000Z | 20.0 Hz, 864001 samples using inv\n",
      "2023-09-10 15:11:43,778 11106693120 INFO noise_module.preprocess_raw(): removing response for CI.AVM..BHE | 2019-02-01T12:00:00.000000Z - 2019-02-02T00:00:00.000000Z | 20.0 Hz, 864001 samples using inv\n",
      "2023-09-10 15:11:43,794 11123519488 INFO noise_module.preprocess_raw(): removing response for CI.AVM..BHZ | 2019-02-01T12:00:00.000000Z - 2019-02-02T00:00:00.000000Z | 20.0 Hz, 864001 samples using inv\n",
      "Pre-process. Memory:  1381 MB: 100%|██████████| 7/7 [00:00<00:00,  7.28it/s]\n",
      "2023-09-10 15:11:44,491 4302980480 INFO utils.log_raw(): TIMING CC Main: 0.9702 secs. for Preprocess: 7 channels\n",
      "2023-09-10 15:11:44,492 4302980480 INFO S1_fft_cc_MPI.check_memory(): Require  0.04gb memory for cross correlations\n",
      "Compute ffts. Memory:  1429 MB: 100%|██████████| 7/7 [00:00<00:00, 18.06it/s]\n",
      "2023-09-10 15:11:44,942 4302980480 INFO utils.log_raw(): TIMING CC Main: 0.4502 secs. for Compute FFTs: 7 channels\n",
      "2023-09-10 15:11:44,943 4302980480 INFO S1_fft_cc_MPI.cross_correlate(): Starting CC with 10 station pairs\n",
      "Cross correlation. Memory:  1451 MB: 100%|██████████| 10/10 [00:00<00:00, 36.37it/s] \n",
      "2023-09-10 15:11:45,387 4302980480 INFO utils.log_raw(): TIMING CC Main: 0.4440 secs. for Correlate and write to store: 28 channel pairs\n",
      "2023-09-10 15:11:45,432 4302980480 INFO utils.log_raw(): TIMING CC Main: 2.2017 secs. for Process the chunk of 2019-02-01T12:00:00+0000 - 2019-02-02T00:00:00+0000\n",
      "2023-09-10 15:11:45,433 4302980480 INFO utils.log_raw(): TIMING CC Main: 4.3638 secs. for Step 1 in total with 10 cores\n"
     ]
    }
   ],
   "source": [
    "cross_correlate(raw_store, config, cc_store)"
   ]
  },
  {
   "attachments": {},
   "cell_type": "markdown",
   "metadata": {},
   "source": [
    "Plot a single set of the cross correlation"
   ]
  },
  {
   "cell_type": "code",
   "execution_count": 10,
   "metadata": {
    "id": "pWcrfWO8W1tH"
   },
   "outputs": [
    {
     "name": "stderr",
     "output_type": "stream",
     "text": [
      "2023-09-10 15:11:45,446 4302980480 WARNING asdfstore.read_correlations(): No data available for 2019-02-01T00:00:00+0000 - 2019-02-01T12:00:00+0000/CI.ALP_CI.ARV\n",
      "2023-09-10 15:11:45,447 4302980480 ERROR plotting_modules.plot_substack_cc(): No data available for plotting in 2019-02-01T00:00:00+0000 - 2019-02-01T12:00:00+0000/(CI.ALP, CI.ARV)\n"
     ]
    }
   ],
   "source": [
    "timespans = cc_store.get_timespans()\n",
    "plotting_modules.plot_substack_cc(cc_store, timespans[0], 0.1, 1, 200, False)"
   ]
  },
  {
   "attachments": {},
   "cell_type": "markdown",
   "metadata": {
    "id": "GMeH9BslQSSJ"
   },
   "source": [
    "## Step 2: Stack the cross correlation\n",
    "\n",
    "This combines the time-chunked ASDF files to stack over each time chunk and at each station pair."
   ]
  },
  {
   "cell_type": "code",
   "execution_count": 11,
   "metadata": {
    "id": "cd32ntmAVx-z"
   },
   "outputs": [
    {
     "name": "stderr",
     "output_type": "stream",
     "text": [
      "2023-09-10 15:11:45,455 4302980480 INFO S2_stacking.initializer(): Station pairs: [(CI.ALP, CI.ARV), (CI.ALP, CI.ALP), (CI.ADO, CI.ARV), (CI.ADO, CI.ADO), (CI.ALP, CI.AVM), (CI.ADO, CI.ALP), (CI.AVM, CI.AVM), (CI.ARV, CI.ARV), (CI.ADO, CI.AVM), (CI.ARV, CI.AVM)], timespans:[2019-02-01T00:00:00+0000 - 2019-02-01T12:00:00+0000, 2019-02-01T12:00:00+0000 - 2019-02-02T00:00:00+0000]\n",
      "Stacking Pairs:   0%|          | 0/10 [00:00<?, ?it/s]2023-09-10 15:11:48,567 4337485184 WARNING asdfstore.read_correlations(): No data available for 2019-02-01T00:00:00+0000 - 2019-02-01T12:00:00+0000/CI.ALP_CI.ALP\n",
      "2023-09-10 15:11:48,567 4337485184 WARNING S2_stacking.validate_pairs(): continue! not enough cross components for auto-correlation (CI.ALP, CI.ALP) in 2019-02-01T00:00:00+0000 - 2019-02-01T12:00:00+0000\n",
      "2023-09-10 15:11:48,580 4337485184 WARNING S2_stacking.validate_pairs(): continue! not enough cross components for auto-correlation (CI.ALP, CI.ALP) in 2019-02-01T12:00:00+0000 - 2019-02-02T00:00:00+0000\n",
      "2023-09-10 15:11:48,581 4337485184 INFO utils.log_raw(): TIMING: 0.0145 secs. for loading CCF data\n",
      "Stacking Pairs. Memory:  1450 MB:  10%|█         | 1/10 [00:02<00:25,  2.80s/it]2023-09-10 15:11:48,805 4338697600 WARNING S2_stacking.validate_pairs(): continue! not enough cross components for cross-correlation (CI.ADO, CI.ARV) in 2019-02-01T00:00:00+0000 - 2019-02-01T12:00:00+0000\n",
      "2023-09-10 15:11:48,807 4338697600 WARNING S2_stacking.validate_pairs(): continue! not enough cross components for cross-correlation (CI.ADO, CI.ARV) in 2019-02-01T12:00:00+0000 - 2019-02-02T00:00:00+0000\n",
      "2023-09-10 15:11:48,807 4338697600 INFO utils.log_raw(): TIMING: 0.0075 secs. for loading CCF data\n",
      "2023-09-10 15:11:48,808 4338697600 INFO utils.log_raw(): TIMING: 0.0013 secs. for stack/rotate all station pairs (CI.ADO, CI.ARV)\n",
      "Stacking Pairs. Memory:  1450 MB:  20%|██        | 2/10 [00:03<00:10,  1.28s/it]2023-09-10 15:11:48,851 4342891904 WARNING asdfstore.read_correlations(): No data available for 2019-02-01T00:00:00+0000 - 2019-02-01T12:00:00+0000/CI.ADO_CI.ALP\n",
      "2023-09-10 15:11:48,851 4342891904 WARNING S2_stacking.validate_pairs(): continue! not enough cross components for cross-correlation (CI.ADO, CI.ALP) in 2019-02-01T00:00:00+0000 - 2019-02-01T12:00:00+0000\n",
      "2023-09-10 15:11:48,854 4342891904 WARNING S2_stacking.validate_pairs(): continue! not enough cross components for cross-correlation (CI.ADO, CI.ALP) in 2019-02-01T12:00:00+0000 - 2019-02-02T00:00:00+0000\n",
      "2023-09-10 15:11:48,854 4342891904 INFO utils.log_raw(): TIMING: 0.0045 secs. for loading CCF data\n",
      "2023-09-10 15:11:48,855 4342891904 INFO utils.log_raw(): TIMING: 0.0009 secs. for stack/rotate all station pairs (CI.ADO, CI.ALP)\n",
      "Stacking Pairs. Memory:  1450 MB:  30%|███       | 3/10 [00:03<00:08,  1.28s/it]2023-09-10 15:11:48,864 4311467392 WARNING S2_stacking.validate_pairs(): continue! not enough cross components for auto-correlation (CI.ARV, CI.ARV) in 2019-02-01T00:00:00+0000 - 2019-02-01T12:00:00+0000\n",
      "2023-09-10 15:11:48,866 4311467392 WARNING S2_stacking.validate_pairs(): continue! not enough cross components for auto-correlation (CI.ARV, CI.ARV) in 2019-02-01T12:00:00+0000 - 2019-02-02T00:00:00+0000\n",
      "2023-09-10 15:11:48,866 4311467392 INFO utils.log_raw(): TIMING: 0.0084 secs. for loading CCF data\n",
      "Stacking Pairs. Memory:  1450 MB:  40%|████      | 4/10 [00:03<00:07,  1.28s/it]2023-09-10 15:11:48,906 4375381376 WARNING asdfstore.read_correlations(): No data available for 2019-02-01T00:00:00+0000 - 2019-02-01T12:00:00+0000/CI.ALP_CI.ARV\n",
      "2023-09-10 15:11:48,906 4375381376 WARNING S2_stacking.validate_pairs(): continue! not enough cross components for cross-correlation (CI.ALP, CI.ARV) in 2019-02-01T00:00:00+0000 - 2019-02-01T12:00:00+0000\n",
      "2023-09-10 15:11:48,912 4375381376 WARNING S2_stacking.validate_pairs(): continue! not enough cross components for cross-correlation (CI.ALP, CI.ARV) in 2019-02-01T12:00:00+0000 - 2019-02-02T00:00:00+0000\n",
      "2023-09-10 15:11:48,912 4375381376 INFO utils.log_raw(): TIMING: 0.0072 secs. for loading CCF data\n",
      "2023-09-10 15:11:48,913 4375381376 INFO utils.log_raw(): TIMING: 0.0010 secs. for stack/rotate all station pairs (CI.ALP, CI.ARV)\n",
      "Stacking Pairs. Memory:  1450 MB:  50%|█████     | 5/10 [00:03<00:01,  2.57it/s]2023-09-10 15:11:48,919 4306978176 WARNING asdfstore.read_correlations(): No data available for 2019-02-01T00:00:00+0000 - 2019-02-01T12:00:00+0000/CI.ALP_CI.AVM\n",
      "2023-09-10 15:11:48,919 4306978176 WARNING S2_stacking.validate_pairs(): continue! not enough cross components for cross-correlation (CI.ALP, CI.AVM) in 2019-02-01T00:00:00+0000 - 2019-02-01T12:00:00+0000\n",
      "2023-09-10 15:11:48,925 4336059776 INFO utils.log_raw(): TIMING: 0.0282 secs. for loading CCF data\n",
      "2023-09-10 15:11:48,930 4306978176 WARNING S2_stacking.validate_pairs(): continue! not enough cross components for cross-correlation (CI.ALP, CI.AVM) in 2019-02-01T12:00:00+0000 - 2019-02-02T00:00:00+0000\n",
      "2023-09-10 15:11:48,930 4306978176 INFO utils.log_raw(): TIMING: 0.0143 secs. for loading CCF data\n",
      "2023-09-10 15:11:48,931 4306978176 INFO utils.log_raw(): TIMING: 0.0010 secs. for stack/rotate all station pairs (CI.ALP, CI.AVM)\n",
      "Stacking Pairs. Memory:  1450 MB:  60%|██████    | 6/10 [00:03<00:01,  2.57it/s]2023-09-10 15:11:48,936 4314219904 WARNING S2_stacking.validate_pairs(): continue! not enough cross components for cross-correlation (CI.ADO, CI.AVM) in 2019-02-01T00:00:00+0000 - 2019-02-01T12:00:00+0000\n",
      "2023-09-10 15:11:48,941 4314219904 WARNING S2_stacking.validate_pairs(): continue! not enough cross components for cross-correlation (CI.ADO, CI.AVM) in 2019-02-01T12:00:00+0000 - 2019-02-02T00:00:00+0000\n",
      "2023-09-10 15:11:48,942 4314219904 INFO utils.log_raw(): TIMING: 0.0258 secs. for loading CCF data\n",
      "2023-09-10 15:11:48,942 4314219904 INFO utils.log_raw(): TIMING: 0.0009 secs. for stack/rotate all station pairs (CI.ADO, CI.AVM)\n",
      "Stacking Pairs. Memory:  1450 MB:  70%|███████   | 7/10 [00:03<00:01,  2.57it/s]2023-09-10 15:11:48,946 4336059776 INFO utils.log_raw(): TIMING: 0.0203 secs. for stack/rotate all station pairs (CI.AVM, CI.AVM)\n",
      "Stacking Pairs. Memory:  1450 MB:  80%|████████  | 8/10 [00:03<00:00,  2.57it/s]2023-09-10 15:11:48,948 4376003968 WARNING S2_stacking.validate_pairs(): continue! not enough cross components for auto-correlation (CI.ADO, CI.ADO) in 2019-02-01T00:00:00+0000 - 2019-02-01T12:00:00+0000\n",
      "2023-09-10 15:11:48,953 4376003968 WARNING S2_stacking.validate_pairs(): continue! not enough cross components for auto-correlation (CI.ADO, CI.ADO) in 2019-02-01T12:00:00+0000 - 2019-02-02T00:00:00+0000\n",
      "2023-09-10 15:11:48,953 4376003968 INFO utils.log_raw(): TIMING: 0.0149 secs. for loading CCF data\n",
      "Stacking Pairs. Memory:  1450 MB:  90%|█████████ | 9/10 [00:03<00:00,  2.57it/s]2023-09-10 15:11:48,968 4334634368 WARNING S2_stacking.validate_pairs(): continue! not enough cross components for cross-correlation (CI.ARV, CI.AVM) in 2019-02-01T00:00:00+0000 - 2019-02-01T12:00:00+0000\n",
      "2023-09-10 15:11:48,975 4334634368 WARNING S2_stacking.validate_pairs(): continue! not enough cross components for cross-correlation (CI.ARV, CI.AVM) in 2019-02-01T12:00:00+0000 - 2019-02-02T00:00:00+0000\n",
      "2023-09-10 15:11:48,975 4334634368 INFO utils.log_raw(): TIMING: 0.0120 secs. for loading CCF data\n",
      "2023-09-10 15:11:48,976 4334634368 INFO utils.log_raw(): TIMING: 0.0009 secs. for stack/rotate all station pairs (CI.ARV, CI.AVM)\n",
      "Stacking Pairs. Memory:  1450 MB: 100%|██████████| 10/10 [00:03<00:00,  3.14it/s]\n",
      "2023-09-10 15:11:48,978 4302980480 INFO utils.log_raw(): TIMING: 3.5251 secs. for step 2 in total\n"
     ]
    }
   ],
   "source": [
    "# open a new cc store in read-only mode since we will be doing parallel access for stacking\n",
    "cc_store = ASDFCCStore(cc_data_path, mode=\"r\")\n",
    "stack_store = ASDFStackStore(stack_data_path)\n",
    "stack(cc_store, stack_store, config)"
   ]
  },
  {
   "cell_type": "markdown",
   "metadata": {
    "id": "Of_MzZWFQ_Yn"
   },
   "source": [
    "Plot the stacks"
   ]
  },
  {
   "cell_type": "code",
   "execution_count": 12,
   "metadata": {
    "id": "D3YC3JX5lSKu"
   },
   "outputs": [
    {
     "name": "stdout",
     "output_type": "stream",
     "text": [
      "['2019_02_01_00_00_00T2019_02_01_12_00_00.h5', '2019_02_01_12_00_00T2019_02_02_00_00_00.h5']\n",
      "['CI.ALP', 'CI.ADO', 'CI.ARV', 'CI.AVM']\n"
     ]
    }
   ],
   "source": [
    "print(os.listdir(cc_data_path))\n",
    "print(os.listdir(stack_data_path))"
   ]
  },
  {
   "cell_type": "code",
   "execution_count": 13,
   "metadata": {
    "id": "QKSeQpk7WKlW"
   },
   "outputs": [
    {
     "name": "stderr",
     "output_type": "stream",
     "text": [
      "2023-09-10 15:11:49,073 4302980480 WARNING asdfstore.read(): Not data available for CI.ADO_CI.ADO/Allstack_linear/ZZ\n",
      "2023-09-10 15:11:49,076 4302980480 ERROR plotting_modules.plot_all_moveout(): No data available for plotting Allstack_linear/ZZ\n"
     ]
    }
   ],
   "source": [
    "plotting_modules.plot_all_moveout(stack_store, 'Allstack_linear', 0.1, 0.2, 'ZZ', 1)"
   ]
  }
 ],
 "metadata": {
  "@webio": {
   "lastCommId": null,
   "lastKernelId": null
  },
  "colab": {
   "provenance": []
  },
  "kernelspec": {
   "display_name": "Python 3",
   "language": "python",
   "name": "python3"
  },
  "language_info": {
   "codemirror_mode": {
    "name": "ipython",
    "version": 3
   },
   "file_extension": ".py",
   "mimetype": "text/x-python",
   "name": "python",
   "nbconvert_exporter": "python",
   "pygments_lexer": "ipython3",
   "version": "3.10.12"
  }
 },
 "nbformat": 4,
 "nbformat_minor": 1
}
