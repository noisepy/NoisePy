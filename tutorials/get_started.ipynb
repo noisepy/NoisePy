{
 "cells": [
  {
   "cell_type": "markdown",
   "metadata": {
    "id": "PIA2IaqUOeOA"
   },
   "source": [
    "# Welcome to the NoisePy Colab Tutorial!\n",
    "\n",
    "This tutorial will walk you through the basic steps of using NoisePy to compute ambient noise cross correlation functions.\n"
   ]
  },
  {
   "cell_type": "markdown",
   "metadata": {
    "id": "FaKuajVCOo2r"
   },
   "source": [
    "First, we install the noisepy-seis package"
   ]
  },
  {
   "cell_type": "code",
   "execution_count": null,
   "metadata": {
    "id": "rR860zaZPZGH"
   },
   "outputs": [],
   "source": [
    "! pip install noisepy-seis --upgrade\n",
    "# !pip uninstall noisepy-seis\n",
    "# !conda install -n noisepy ipykernel --update-deps --force-reinstall\n",
    "# !cd ..\n",
    "# !pip install -e \".[dev]\"\n",
    "# !cd Jupyter_notebook"
   ]
  },
  {
   "cell_type": "markdown",
   "metadata": {
    "id": "_QvfrDdZOv12"
   },
   "source": [
    "__Warning__: NoisePy uses ```obspy``` as a core Python module to manipulate seismic data. Restart the runtime now for proper installation of ```obspy``` on Colab."
   ]
  },
  {
   "cell_type": "markdown",
   "metadata": {
    "id": "WtDb2_y3Oreg"
   },
   "source": [
    "Then we import the basic modules"
   ]
  },
  {
   "cell_type": "code",
   "execution_count": null,
   "metadata": {
    "id": "vceZgD83PnNc"
   },
   "outputs": [],
   "source": [
    "from noisepy.seis import download, cross_correlate, stack, plotting_modules\n",
    "from noisepy.seis.asdfstore import ASDFRawDataStore, ASDFCCStore\n",
    "from noisepy.seis.datatypes import ConfigParameters\n",
    "import os\n",
    "import glob\n",
    "\n",
    "path = \"/content/data\" # for use in Colab\n",
    "# path = \"../../data\" # for use locally\n",
    "# print(path)\n",
    "\n",
    "os.makedirs(path,exist_ok=True)\n",
    "raw_data_path = os.path.join(path, \"RAW_DATA\")\n",
    "cc_data_path = os.path.join(path, \"CCF\")\n",
    "stack_data_path = os.path.join(path, \"STACK\")\n",
    "config = ConfigParameters() # default config parameters which can be customized\n",
    "config.inc_hours = 12\n",
    "config.start_date = \"2019_02_01_00_00_00\"\n",
    "config.end_date = \"2019_02_02_00_00_00\""
   ]
  },
  {
   "cell_type": "markdown",
   "metadata": {
    "id": "c5JaBXKpO_Oi"
   },
   "source": [
    "## Step 0: download data\n",
    "\n",
    "Use the function ```download``` with the following arguments: \n",
    "* ```path``` of where to put the data\n",
    "* ``` channel list```: list of the seismic channels to download, and example is shown below\n",
    "* ```station list```: list of the seismic stations (we need to change this to net.sta.loc.chan) it can be \"\\*\" (not \"all\") \n",
    "* ```start time```: we need to change this to a datetime object\n",
    "* ```end time```: we need to change this to a datetime object, or format it with a standard UTCDatetime\n",
    "* ``inc_hour``: is the number of hours as increments, this interger is used to split the original data (usually in 1-day long time series for broadband seismometers) into shorter time chunk. It helps manage memory for large arrays.\n",
    "\n",
    "\n",
    "Some raw parameters are still hardcoded in the download function that calles S0A_download_ASDF_MPI.py\n",
    "I broadened the lat-long search, this could be a parameter in the config.\n"
   ]
  },
  {
   "cell_type": "code",
   "execution_count": null,
   "metadata": {
    "id": "fwJNnRURPxfW"
   },
   "outputs": [],
   "source": [
    "download(raw_data_path, [\"BHE\",\"BHN\",\"BHZ\"],[\"A*\"], config)"
   ]
  },
  {
   "cell_type": "markdown",
   "metadata": {},
   "source": [
    "List the files that were downloaded, just to make sure !"
   ]
  },
  {
   "cell_type": "code",
   "execution_count": null,
   "metadata": {
    "id": "klpx413Ty8zK"
   },
   "outputs": [],
   "source": [
    "print(os.listdir(raw_data_path))"
   ]
  },
  {
   "cell_type": "markdown",
   "metadata": {},
   "source": [
    "Plot the raw data, make sure it's noise!"
   ]
  },
  {
   "cell_type": "code",
   "execution_count": null,
   "metadata": {
    "id": "To29cLijWzdQ"
   },
   "outputs": [],
   "source": [
    "file = os.path.join(raw_data_path, \"2019_02_01_00_00_00T2019_02_01_12_00_00.h5\")\n",
    "plotting_modules.plot_waveform(file,'CI','ADO',0.01,0.4) # this function takes for input: filename, network, station, freqmin, freqmax for a bandpass filter"
   ]
  },
  {
   "cell_type": "markdown",
   "metadata": {
    "id": "Wwv1QCQhP_0Y"
   },
   "source": [
    "## Step 1: Cross-correlation\n",
    "\n",
    "\n",
    "In this step, we will perform the first cross-correlation function with several configuration. The default values are typical for regional seismic networks:\n",
    "\n",
    "Window length\n",
    "* cc_len = 1800  #s, 30-min windows\n",
    "* step = 450 #s, overlapping window\n",
    "\n",
    "\n",
    "Data Processing choices:\n",
    "* **Temporal normalization**: essential processing choice: Noisepy uses 3 types of normalization with the parameter ``time_norm``, there are entered as strings: 'no','rma', 'one_bit'. RMA will run a smoothing over the absolute amplitude to normalize the time series, with the argument ``smooth_N`` (in points).\n",
    "\n",
    "\n",
    "* **Spectral normalization**: essentail processing choise. NoisePy uses 2 types of normalization there as well entered as strings: 'rma' or not. one-bit whitening is missing.\n"
   ]
  },
  {
   "cell_type": "code",
   "execution_count": null,
   "metadata": {
    "id": "jq2DKIS9Rl2H"
   },
   "outputs": [],
   "source": [
    "config.freq_norm = \"rma\"\n",
    "raw_store = ASDFRawDataStore(raw_data_path) # Store for reading raw data\n",
    "cc_store = ASDFCCStore(cc_data_path) # Store for writing CC data\n",
    "\n",
    "# print the configuration parameters. Some are chosen by default but we cab modify them\n",
    "print(config)"
   ]
  },
  {
   "cell_type": "markdown",
   "metadata": {},
   "source": [
    "Perform the cross correlation"
   ]
  },
  {
   "cell_type": "code",
   "execution_count": null,
   "metadata": {},
   "outputs": [],
   "source": [
    "cross_correlate(raw_store, config, cc_store)"
   ]
  },
  {
   "attachments": {},
   "cell_type": "markdown",
   "metadata": {},
   "source": [
    "Plot a single set of the cross correlation"
   ]
  },
  {
   "cell_type": "code",
   "execution_count": null,
   "metadata": {
    "id": "pWcrfWO8W1tH"
   },
   "outputs": [],
   "source": [
    "file = os.path.join(cc_data_path, '2019_02_01_00_00_00T2019_02_01_12_00_00.h5')\n",
    "plotting_modules.plot_substack_cc(file,0.1,1,200,False)"
   ]
  },
  {
   "cell_type": "markdown",
   "metadata": {
    "id": "GMeH9BslQSSJ"
   },
   "source": [
    "## Step 3: Stack the cross correlation\n",
    "\n",
    "Provide a pathto where the data is."
   ]
  },
  {
   "cell_type": "code",
   "execution_count": null,
   "metadata": {
    "id": "cd32ntmAVx-z"
   },
   "outputs": [],
   "source": [
    "stations = raw_store.get_station_list()\n",
    "print(stations)\n",
    "stack(stations, cc_data_path, stack_data_path, \"linear\")"
   ]
  },
  {
   "cell_type": "markdown",
   "metadata": {
    "id": "Of_MzZWFQ_Yn"
   },
   "source": [
    "Plot the stacks"
   ]
  },
  {
   "cell_type": "code",
   "execution_count": null,
   "metadata": {
    "id": "D3YC3JX5lSKu"
   },
   "outputs": [],
   "source": [
    "print(os.listdir(cc_data_path))\n",
    "print(os.listdir(stack_data_path))"
   ]
  },
  {
   "cell_type": "code",
   "execution_count": null,
   "metadata": {
    "id": "QKSeQpk7WKlW"
   },
   "outputs": [],
   "source": [
    "files = glob.glob(os.path.join(stack_data_path, '**/*.h5'))\n",
    "print(files)\n",
    "plotting_modules.plot_all_moveout(files, 'Allstack_linear', 0.1, 0.2, 'ZZ', 1)"
   ]
  },
  {
   "cell_type": "code",
   "execution_count": null,
   "metadata": {},
   "outputs": [],
   "source": []
  }
 ],
 "metadata": {
  "@webio": {
   "lastCommId": null,
   "lastKernelId": null
  },
  "colab": {
   "provenance": []
  },
  "kernelspec": {
   "display_name": "Python 3",
   "language": "python",
   "name": "python3"
  },
  "language_info": {
   "codemirror_mode": {
    "name": "ipython",
    "version": 3
   },
   "file_extension": ".py",
   "mimetype": "text/x-python",
   "name": "python",
   "nbconvert_exporter": "python",
   "pygments_lexer": "ipython3",
   "version": "3.9.13"
  }
 },
 "nbformat": 4,
 "nbformat_minor": 1
}
