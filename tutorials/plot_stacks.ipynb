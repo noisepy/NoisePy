{
 "cells": [
  {
   "attachments": {},
   "cell_type": "markdown",
   "metadata": {
    "id": "PIA2IaqUOeOA"
   },
   "source": [
    "# NoisePy Plotting Stacks"
   ]
  },
  {
   "cell_type": "code",
   "execution_count": null,
   "metadata": {
    "id": "vceZgD83PnNc"
   },
   "outputs": [],
   "source": [
    "%load_ext autoreload\n",
    "%autoreload 2\n",
    "from noisepy.seis import __version__       # noisepy core functions\n",
    "from noisepy.seis.plotting_modules import plot_all_moveout\n",
    "from noisepy.seis.numpystore import NumpyStackStore\n",
    "import random\n",
    "print(f\"Using NoisePy version {__version__}\")\n",
    "\n",
    "\n",
    "stack_data_path = \"s3://scoped-noise/scedc_CI_2022_stack/\"\n",
    "\n",
    "S3_STORAGE_OPTIONS = {\"s3\": {\"anon\": False}}\n",
    "stack_store = NumpyStackStore(stack_data_path, storage_options=S3_STORAGE_OPTIONS)"
   ]
  },
  {
   "cell_type": "code",
   "execution_count": null,
   "metadata": {},
   "outputs": [],
   "source": [
    "pairs = stack_store.get_station_pairs()\n",
    "print(f\"Found {len(pairs)} station pairs\")\n",
    "# Get the first timespan available for the first pair\n",
    "ts = stack_store.get_timespans(*pairs[0])[0]\n",
    "print(f\"Timespan: {ts}\")"
   ]
  },
  {
   "cell_type": "code",
   "execution_count": null,
   "metadata": {},
   "outputs": [],
   "source": [
    "# load 10% of the data to plot\n",
    "sample = random.sample(pairs, int(len(pairs)*.1))\n",
    "print(len(sample))"
   ]
  },
  {
   "cell_type": "code",
   "execution_count": null,
   "metadata": {},
   "outputs": [],
   "source": [
    "sta_stacks = stack_store.read_bulk(ts, sample)"
   ]
  },
  {
   "cell_type": "code",
   "execution_count": null,
   "metadata": {},
   "outputs": [],
   "source": [
    "plot_all_moveout(sta_stacks, 'Allstack_linear', 0.1, 0.2, 'ZZ', 1)"
   ]
  }
 ],
 "metadata": {
  "@webio": {
   "lastCommId": null,
   "lastKernelId": null
  },
  "colab": {
   "provenance": []
  },
  "gpuClass": "standard",
  "kernelspec": {
   "display_name": "Python 3",
   "language": "python",
   "name": "python3"
  },
  "language_info": {
   "codemirror_mode": {
    "name": "ipython",
    "version": 3
   },
   "file_extension": ".py",
   "mimetype": "text/x-python",
   "name": "python",
   "nbconvert_exporter": "python",
   "pygments_lexer": "ipython3",
   "version": "3.10.13"
  }
 },
 "nbformat": 4,
 "nbformat_minor": 0
}
