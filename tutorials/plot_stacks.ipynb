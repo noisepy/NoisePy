{
  "cells": [
    {
      "attachments": {},
      "cell_type": "markdown",
      "metadata": {
        "id": "PIA2IaqUOeOA"
      },
      "source": [
        "# NoisePy Plotting Stacks"
      ]
    },
    {
      "cell_type": "code",
      "execution_count": null,
      "metadata": {
        "id": "vceZgD83PnNc"
      },
      "outputs": [],
      "source": [
        "%load_ext autoreload\n",
        "%autoreload 2\n",
        "from noisepy.seis import __version__       # noisepy core functions\n",
        "from noisepy.seis.plotting_modules import plot_all_moveout\n",
        "from noisepy.seis.numpystore import NumpyStackStore\n",
        "from noisepy.seis.datatypes import Stack, Station\n",
        "print(f\"Using NoisePy version {__version__}\")\n",
        "\n",
        "\n",
        "stack_data_path = \"s3://scoped-noise/scedc_CI_stack_v2/\"\n",
        "S3_STORAGE_OPTIONS = {\"s3\": {\"anon\": False}}\n",
        "stack_store = NumpyStackStore(stack_data_path, storage_options=S3_STORAGE_OPTIONS)"
      ]
    },
    {
      "cell_type": "code",
      "execution_count": null,
      "metadata": {},
      "outputs": [],
      "source": [
        "plot_all_moveout(stack_store, 'Allstack_linear', 0.1, 0.2, 'ZZ', 1)"
      ]
    }
  ],
  "metadata": {
    "@webio": {
      "lastCommId": null,
      "lastKernelId": null
    },
    "colab": {
      "provenance": []
    },
    "gpuClass": "standard",
    "kernelspec": {
      "display_name": "Python 3",
      "language": "python",
      "name": "python3"
    },
    "language_info": {
      "codemirror_mode": {
        "name": "ipython",
        "version": 3
      },
      "file_extension": ".py",
      "mimetype": "text/x-python",
      "name": "python",
      "nbconvert_exporter": "python",
      "pygments_lexer": "ipython3",
      "version": "3.10.13"
    }
  },
  "nbformat": 4,
  "nbformat_minor": 0
}
