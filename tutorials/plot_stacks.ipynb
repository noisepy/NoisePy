{
  "cells": [
    {
      "attachments": {},
      "cell_type": "markdown",
      "metadata": {
        "id": "PIA2IaqUOeOA"
      },
      "source": [
        "# NoisePy Plotting Stacks"
      ]
    },
    {
      "cell_type": "code",
      "execution_count": 9,
      "metadata": {
        "id": "vceZgD83PnNc"
      },
      "outputs": [
        {
          "name": "stderr",
          "output_type": "stream",
          "text": [
            "2023-10-06 12:25:14,349 8336924160 INFO numpystore.__init__(): store creating at s3://scoped-noise/scedc_CI_stack_v2/, mode=a, storage_options={'s3': {'anon': False}}\n",
            "2023-10-06 12:25:14,350 8336924160 INFO numpystore.__init__(): Numpy store created at s3://scoped-noise/scedc_CI_stack_v2/\n"
          ]
        },
        {
          "name": "stdout",
          "output_type": "stream",
          "text": [
            "The autoreload extension is already loaded. To reload it, use:\n",
            "  %reload_ext autoreload\n",
            "Using NoisePy version 0.9.77.dev12\n"
          ]
        }
      ],
      "source": [
        "%load_ext autoreload\n",
        "%autoreload 2\n",
        "from noisepy.seis import __version__       # noisepy core functions\n",
        "from noisepy.seis.plotting_modules import plot_all_moveout\n",
        "from noisepy.seis.numpystore import NumpyStackStore\n",
        "print(f\"Using NoisePy version {__version__}\")\n",
        "\n",
        "\n",
        "stack_data_path = \"s3://scoped-noise/scedc_CI_stack_v2/\"\n",
        "# stack_data_path = \"s3://carlosgjs-noisepy/test_new/STACK/\"\n",
        "S3_STORAGE_OPTIONS = {\"s3\": {\"anon\": False}}\n",
        "stack_store = NumpyStackStore(stack_data_path, storage_options=S3_STORAGE_OPTIONS)"
      ]
    },
    {
      "cell_type": "code",
      "execution_count": 10,
      "metadata": {
        "id": "QKSeQpk7WKlW"
      },
      "outputs": [
        {
          "name": "stderr",
          "output_type": "stream",
          "text": [
            "2023-10-06 12:25:17,998 8336924160 INFO plotting_modules.plot_all_moveout(): Plotting 2009 sampled pairs\n"
          ]
        },
        {
          "name": "stdout",
          "output_type": "stream",
          "text": [
            "Allstack_linear Allstack_linear\n"
          ]
        },
        {
          "data": {
            "application/vnd.jupyter.widget-view+json": {
              "model_id": "d29f869fe4214dd7bac5f00f0eb2dcc5",
              "version_major": 2,
              "version_minor": 0
            },
            "text/plain": [
              "  0%|          | 0/2009 [00:00<?, ?it/s]"
            ]
          },
          "metadata": {},
          "output_type": "display_data"
        },
        {
          "name": "stderr",
          "output_type": "stream",
          "text": [
            "2023-10-06 12:25:20,916 12042219520 WARNING plotting_modules.load(): No data available for CI.MTG_CI.RRC/Allstack_linear/ZZ\n",
            "2023-10-06 12:25:54,116 12042219520 WARNING plotting_modules.load(): No data available for CI.ERR_CI.RRC/Allstack_linear/ZZ\n",
            "2023-10-06 12:26:32,173 12042219520 WARNING plotting_modules.load(): No data available for CI.GSC_CI.RRC/Allstack_linear/ZZ\n",
            "2023-10-06 12:26:57,393 12042219520 WARNING plotting_modules.load(): No data available for CI.RRC_CI.WLS2/Allstack_linear/ZZ\n",
            "2023-10-06 12:27:20,680 12042219520 WARNING plotting_modules.load(): No data available for CI.DTP_CI.RRC/Allstack_linear/ZZ\n",
            "2023-10-06 12:28:12,544 12042219520 WARNING plotting_modules.load(): No data available for CI.RRC_CI.STG/Allstack_linear/ZZ\n"
          ]
        }
      ],
      "source": [
        "plot_all_moveout(stack_store, 'Allstack_linear', 0.1, 0.2, 'ZZ', 1, sample_pairs=0.05)"
      ]
    },
    {
      "cell_type": "code",
      "execution_count": null,
      "metadata": {},
      "outputs": [],
      "source": []
    }
  ],
  "metadata": {
    "@webio": {
      "lastCommId": null,
      "lastKernelId": null
    },
    "colab": {
      "provenance": []
    },
    "gpuClass": "standard",
    "kernelspec": {
      "display_name": "Python 3",
      "language": "python",
      "name": "python3"
    },
    "language_info": {
      "codemirror_mode": {
        "name": "ipython",
        "version": 3
      },
      "file_extension": ".py",
      "mimetype": "text/x-python",
      "name": "python",
      "nbconvert_exporter": "python",
      "pygments_lexer": "ipython3",
      "version": "3.10.13"
    }
  },
  "nbformat": 4,
  "nbformat_minor": 0
}
