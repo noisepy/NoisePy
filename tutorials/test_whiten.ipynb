{
  "cells": [
    {
      "attachments": {},
      "cell_type": "markdown",
      "metadata": {
        "id": "PIA2IaqUOeOA"
      },
      "source": [
        "# Welcome to the NoisePy SCEDC Tutorial!\n",
        "\n",
        "Noisepy is a python software package to process ambient seismic noise cross correlations. \n",
        "\n",
        "**Publication about this software**:\n",
        "Chengxin Jiang, Marine A. Denolle; NoisePy: A New High‐Performance Python Tool for Ambient‐Noise Seismology. Seismological Research Letters 2020; 91 (3): 1853–1866. doi: https://doi.org/10.1785/0220190364\n",
        "\n",
        "\n",
        "\n",
        "This tutorial will walk you through the basic steps of using NoisePy to compute ambient noise cross correlation functions using single instance workflow.\n",
        "\n",
        "The data is stored on AWS S3 as the SCEDC Data Set: https://scedc.caltech.edu/data/getstarted-pds.html\n",
        "\n"
      ]
    },
    {
      "cell_type": "markdown",
      "metadata": {},
      "source": [
        "First, we install the noisepy-seis package"
      ]
    },
    {
      "cell_type": "code",
      "execution_count": null,
      "metadata": {},
      "outputs": [],
      "source": [
        "# Uncomment and run this line if the environment doesn't have noisepy already installed:\n",
        "# ! pip install noisepy-seis "
      ]
    },
    {
      "cell_type": "markdown",
      "metadata": {},
      "source": [
        "__Warning__: NoisePy uses ```obspy``` as a core Python module to manipulate seismic data. Restart the runtime now for proper installation of ```obspy``` on Colab."
      ]
    },
    {
      "attachments": {},
      "cell_type": "markdown",
      "metadata": {
        "id": "FaKuajVCOo2r"
      },
      "source": [
        "This tutorial should be ran after installing the noisepy package. "
      ]
    },
    {
      "cell_type": "markdown",
      "metadata": {
        "id": "WtDb2_y3Oreg"
      },
      "source": [
        "## Import necessary modules\n",
        "\n",
        "Then we import the basic modules"
      ]
    },
    {
      "cell_type": "code",
      "execution_count": 12,
      "metadata": {
        "id": "vceZgD83PnNc"
      },
      "outputs": [
        {
          "name": "stdout",
          "output_type": "stream",
          "text": [
            "Using NoisePy version 0.9.72.dev12\n"
          ]
        }
      ],
      "source": [
        "from noisepy.seis import cross_correlate, stack, plotting_modules, __version__       # noisepy core functions\n",
        "from noisepy.seis.asdfstore import ASDFCCStore, ASDFStackStore          # Object to store ASDF data within noisepy\n",
        "from noisepy.seis.scedc_s3store import SCEDCS3DataStore, channel_filter # Object to query SCEDC data from on S3\n",
        "from noisepy.seis.datatypes import ConfigParameters                     # Main configuration object\n",
        "from noisepy.seis.channelcatalog import XMLStationChannelCatalog        # Required stationXML handling object\n",
        "import os\n",
        "from datetime import datetime\n",
        "from datetimerange import DateTimeRange\n",
        "from noisepy.seis.noise_module import whiten, whiten_1D, whiten_1D\n",
        "\n",
        "print(f\"Using NoisePy version {__version__}\")\n",
        "\n",
        "path = \"./scedc_data\" \n",
        "\n",
        "os.makedirs(path, exist_ok=True)\n",
        "cc_data_path = os.path.join(path, \"CCF\")\n",
        "stack_data_path = os.path.join(path, \"STACK\")"
      ]
    },
    {
      "cell_type": "markdown",
      "metadata": {
        "id": "pntYzIYGNTn8"
      },
      "source": [
        "We will work with a single day worth of data on SCEDC. The continuous data is organized with a single day and channel per miniseed (https://scedc.caltech.edu/data/cloud.html). For this example, you can choose any year since 2002. We will just cross correlate a single day."
      ]
    },
    {
      "cell_type": "code",
      "execution_count": 13,
      "metadata": {
        "id": "yojR0Z3ALm6K"
      },
      "outputs": [
        {
          "name": "stdout",
          "output_type": "stream",
          "text": [
            "2002-01-02T00:00:00 - 2002-01-04T00:00:00\n"
          ]
        }
      ],
      "source": [
        "# SCEDC S3 bucket common URL characters for that day.\n",
        "S3_DATA = \"s3://scedc-pds/continuous_waveforms/\"\n",
        "# timeframe for analysis\n",
        "start = datetime(2002, 1, 2)\n",
        "end = datetime(2002, 1, 4)\n",
        "range = DateTimeRange(start, end)\n",
        "print(range)"
      ]
    },
    {
      "cell_type": "markdown",
      "metadata": {
        "id": "E1CC-BljNzus"
      },
      "source": [
        "The station information, including the instrumental response, is stored as stationXML in the following bucket"
      ]
    },
    {
      "cell_type": "code",
      "execution_count": 14,
      "metadata": {
        "id": "mhfgrMPALsYS"
      },
      "outputs": [],
      "source": [
        "S3_STATION_XML = \"s3://scedc-pds/FDSNstationXML/CI/\"            # S3 storage of stationXML\n"
      ]
    },
    {
      "cell_type": "markdown",
      "metadata": {
        "id": "ssaL5fa5IhI7"
      },
      "source": [
        "## Ambient Noise Project Configuration\n",
        "\n",
        "We store the metadata information about the ambient noise cross correlation workflow in a ConfigParameters() object. We first initialize it, then we tune the parameters for this cross correlation."
      ]
    },
    {
      "cell_type": "code",
      "execution_count": 15,
      "metadata": {
        "id": "dIjBD7riIfdJ"
      },
      "outputs": [],
      "source": [
        "# Initialize ambient noise workflow configuration\n",
        "config = ConfigParameters() # default config parameters which can be customized"
      ]
    },
    {
      "cell_type": "markdown",
      "metadata": {
        "id": "Tsp7RfC8IwE-"
      },
      "source": [
        "Customize the job parameters below:"
      ]
    },
    {
      "cell_type": "code",
      "execution_count": 16,
      "metadata": {
        "id": "ByEiHRjmIAPB"
      },
      "outputs": [],
      "source": [
        "\n",
        "config.samp_freq= 20  # (int) Sampling rate in Hz of desired processing (it can be different than the data sampling rate)\n",
        "config.cc_len= 3600.0  # (float) basic unit of data length for fft (sec)\n",
        "    # criteria for data selection\n",
        "config.ncomp = 3  # 1 or 3 component data (needed to decide whether do rotation)\n",
        "\n",
        "\n",
        "config.acorr_only = False  # only perform auto-correlation or not\n",
        "config.xcorr_only = True  # only perform cross-correlation or not\n",
        "\n",
        "# config.inc_hours = 24 # if the data is first \n",
        "\n",
        " # pre-processing parameters\n",
        "config.step= 1800.0  # (float) overlapping between each cc_len (sec)\n",
        "config.stationxml= False  # station.XML file used to remove instrument response for SAC/miniseed data\n",
        "config.rm_resp= \"inv\"  # select 'no' to not remove response and use 'inv' if you use the stationXML,'spectrum',\n",
        "config.freqmin = 0.05\n",
        "config.freqmax = 10.0\n",
        "config.max_over_std  = 10  # threshold to remove window of bad signals: set it to 10*9 if prefer not to remove them\n",
        "\n",
        "# TEMPORAL and SPECTRAL NORMALISATION\n",
        "config.freq_norm= \"rma\"  # choose between \"rma\" for a soft whitenning or \"no\" for no whitening. Pure whitening is not implemented correctly at this point.\n",
        "config.smoothspect_N = 10  # moving window length to smooth spectrum amplitude (points)\n",
        "    # here, choose smoothspect_N for the case of a strict whitening (e.g., phase_only)\n",
        "\n",
        "config.time_norm = \"no\"  # 'no' for no normalization, or 'rma', 'one_bit' for normalization in time domain,\n",
        "    # TODO: change time_norm option from \"no\" to \"None\"\n",
        "config.smooth_N= 10  # moving window length for time domain normalization if selected (points)\n",
        "\n",
        "config.cc_method= \"xcorr\"  # 'xcorr' for pure cross correlation OR 'deconv' for deconvolution;\n",
        "    # FOR \"COHERENCY\" PLEASE set freq_norm to \"rma\", time_norm to \"no\" and cc_method to \"xcorr\"\n",
        "\n",
        "# OUTPUTS:\n",
        "config.substack = True  # True = smaller stacks within the time chunk. False: it will stack over inc_hours\n",
        "config.substack_len = config.cc_len  # how long to stack over (for monitoring purpose): need to be multiples of cc_len\n",
        "    # if substack=True, substack_len=2*cc_len, then you pre-stack every 2 correlation windows.\n",
        "    # for instance: substack=True, substack_len=cc_len means that you keep ALL of the correlations\n",
        "\n",
        "config.maxlag= 200  # lags of cross-correlation to save (sec)\n",
        "config.substack = True"
      ]
    },
    {
      "cell_type": "code",
      "execution_count": 17,
      "metadata": {},
      "outputs": [
        {
          "data": {
            "text/plain": [
              "0"
            ]
          },
          "execution_count": 17,
          "metadata": {},
          "output_type": "execute_result"
        }
      ],
      "source": [
        "# For this tutorial make sure the previous run is empty\n",
        "os.system(f\"rm -rf {cc_data_path}\")\n"
      ]
    },
    {
      "cell_type": "markdown",
      "metadata": {
        "id": "Wwv1QCQhP_0Y"
      },
      "source": [
        "## Step 1: Cross-correlation\n",
        "\n"
      ]
    },
    {
      "cell_type": "code",
      "execution_count": 18,
      "metadata": {
        "id": "jq2DKIS9Rl2H"
      },
      "outputs": [
        {
          "name": "stderr",
          "output_type": "stream",
          "text": [
            "2024-07-04 15:31:52,584 INFO scedc_s3store._load_channels(): Loading 883 files from s3://scedc-pds/continuous_waveforms/2002/2002_002/\n",
            "2024-07-04 15:31:52,595 INFO scedc_s3store._load_channels(): Init: 1 timespans and 9 channels\n",
            "2024-07-04 15:31:53,342 INFO scedc_s3store._load_channels(): Loading 880 files from s3://scedc-pds/continuous_waveforms/2002/2002_003/\n",
            "2024-07-04 15:31:53,352 INFO scedc_s3store._load_channels(): Init: 2 timespans and 18 channels\n"
          ]
        },
        {
          "name": "stdout",
          "output_type": "stream",
          "text": [
            "client_url_key='SCEDC' start_date=datetime.datetime(2019, 1, 1, 0, 0) end_date=datetime.datetime(2019, 1, 2, 0, 0) samp_freq=20 single_freq=True cc_len=3600.0 lamin=31.0 lamax=36.0 lomin=-122.0 lomax=-115.0 down_list=False net_list=['CI'] stations=['*'] channels=['BHE', 'BHN', 'BHZ'] step=1800.0 freqmin=0.05 freqmax=10.0 freq_norm='rma' time_norm='no' cc_method='xcorr' smooth_N=10 smoothspect_N=10 substack=True substack_len=3600.0 maxlag=200 inc_hours=24 max_over_std=10 ncomp=3 stationxml=False rm_resp='inv' rm_resp_out='VEL' respdir=None acorr_only=False xcorr_only=True stack_method=<StackMethod.LINEAR: 'linear'> keep_substack=False rotation=True correction=False correction_csv=None storage_options=defaultdict(<class 'dict'>, {})\n"
          ]
        }
      ],
      "source": [
        "\n",
        "stations = \"SBC,RIO,DEV\".split(\",\") # filter to these stations\n",
        "catalog = XMLStationChannelCatalog(S3_STATION_XML)\n",
        "raw_store = SCEDCS3DataStore(S3_DATA, catalog, channel_filter(stations, \"BH\"), range) # Store for reading raw data from S3 bucket\n",
        "cc_store = ASDFCCStore(cc_data_path) # Store for writing CC data\n",
        "\n",
        "# print the configuration parameters. Some are chosen by default but we can modify them\n",
        "print(config)"
      ]
    },
    {
      "cell_type": "code",
      "execution_count": 21,
      "metadata": {},
      "outputs": [
        {
          "ename": "TypeError",
          "evalue": "SCEDCS3DataStore.read_data() takes 3 positional arguments but 4 were given",
          "output_type": "error",
          "traceback": [
            "\u001b[0;31m---------------------------------------------------------------------------\u001b[0m",
            "\u001b[0;31mTypeError\u001b[0m                                 Traceback (most recent call last)",
            "Cell \u001b[0;32mIn[21], line 2\u001b[0m\n\u001b[1;32m      1\u001b[0m \u001b[38;5;66;03m# get one time series from the raw_store\u001b[39;00m\n\u001b[0;32m----> 2\u001b[0m data \u001b[38;5;241m=\u001b[39m \u001b[43mraw_store\u001b[49m\u001b[38;5;241;43m.\u001b[39;49m\u001b[43mread_data\u001b[49m\u001b[43m(\u001b[49m\u001b[38;5;124;43m\"\u001b[39;49m\u001b[38;5;124;43mCI.SBC.00.BHZ\u001b[39;49m\u001b[38;5;124;43m\"\u001b[39;49m\u001b[43m,\u001b[49m\u001b[43m \u001b[49m\u001b[43mstart\u001b[49m\u001b[43m,\u001b[49m\u001b[43m \u001b[49m\u001b[43mend\u001b[49m\u001b[43m)\u001b[49m\n",
            "\u001b[0;31mTypeError\u001b[0m: SCEDCS3DataStore.read_data() takes 3 positional arguments but 4 were given"
          ]
        }
      ],
      "source": [
        "# get one time series from the raw_store\n",
        "\n",
        "span = raw_store.get_timespans()\n",
        "channels = raw_store.get_channels(span[0])"
      ]
    },
    {
      "cell_type": "markdown",
      "metadata": {
        "id": "5qsPGkNp9Msx"
      },
      "source": [
        "Perform the cross correlation\n",
        "Here, removing the instrumental response is slow. It could also be the interpolation"
      ]
    },
    {
      "cell_type": "code",
      "execution_count": null,
      "metadata": {
        "id": "49MnDXYp9Msx"
      },
      "outputs": [],
      "source": [
        "cross_correlate(raw_store, config, cc_store)"
      ]
    },
    {
      "cell_type": "code",
      "execution_count": 4,
      "metadata": {},
      "outputs": [],
      "source": [
        "import matplotlib.pyplot as plt\n",
        "import numpy as np\n",
        "import scipy\n",
        "from scipy.fftpack import next_fast_len\n",
        "\n",
        "from noisepy.seis.noise_module import moving_ave, whiten\n",
        "\n",
        "\n",
        "def whiten_original(data, fft_para):\n",
        "    \"\"\"\n",
        "    This function takes 1-dimensional timeseries array, transforms to frequency domain using fft,\n",
        "    whitens the amplitude of the spectrum in frequency domain between *freqmin* and *freqmax*\n",
        "    and returns the whitened fft.\n",
        "    PARAMETERS:\n",
        "    ----------------------\n",
        "    data: numpy.ndarray contains the 1D time series to whiten\n",
        "    fft_para: dict containing all fft_cc parameters such as\n",
        "        dt: The sampling space of the `data`\n",
        "        freqmin: The lower frequency bound\n",
        "        freqmax: The upper frequency bound\n",
        "        smooth_N: integer, it defines the half window length to smooth\n",
        "        freq_norm: whitening method between 'one-bit' and 'RMA'\n",
        "    RETURNS:\n",
        "    ----------------------\n",
        "    FFTRawSign: numpy.ndarray contains the FFT of the whitened input trace between the frequency bounds\n",
        "    \"\"\"\n",
        "\n",
        "    # load parameters\n",
        "    delta = fft_para[\"dt\"]\n",
        "    freqmin = fft_para[\"freqmin\"]\n",
        "    freqmax = fft_para[\"freqmax\"]\n",
        "    smooth_N = fft_para[\"smooth_N\"]\n",
        "    freq_norm = fft_para[\"freq_norm\"]\n",
        "\n",
        "    # Speed up FFT by padding to optimal size for FFTPACK\n",
        "    if data.ndim == 1:\n",
        "        axis = 0\n",
        "    elif data.ndim == 2:\n",
        "        axis = 1\n",
        "\n",
        "    Nfft = int(next_fast_len(int(data.shape[axis])))\n",
        "\n",
        "    Napod = 100\n",
        "    Nfft = int(Nfft)\n",
        "    freqVec = scipy.fftpack.fftfreq(Nfft, d=delta)[: Nfft // 2]\n",
        "    J = np.where((freqVec >= freqmin) & (freqVec <= freqmax))[0]\n",
        "    low = J[0] - Napod\n",
        "    if low <= 0:\n",
        "        low = 1\n",
        "\n",
        "    left = J[0]\n",
        "    right = J[-1]\n",
        "    high = J[-1] + Napod\n",
        "    if high > Nfft / 2:\n",
        "        high = int(Nfft // 2)\n",
        "\n",
        "    FFTRawSign = scipy.fftpack.fft(data, Nfft, axis=axis)\n",
        "    # Left tapering:\n",
        "    if axis == 1:\n",
        "        FFTRawSign[:, 0:low] *= 0\n",
        "        FFTRawSign[:, low:left] = np.cos(np.linspace(np.pi / 2.0, np.pi, left - low)) ** 2 * np.exp(\n",
        "            1j * np.angle(FFTRawSign[:, low:left])\n",
        "        )\n",
        "        # Pass band:\n",
        "        if freq_norm == \"phase_only\":\n",
        "            FFTRawSign[:, left:right] = np.exp(1j * np.angle(FFTRawSign[:, left:right]))\n",
        "        elif freq_norm == \"rma\":\n",
        "            for ii in range(data.shape[0]):\n",
        "                tave = moving_ave(np.abs(FFTRawSign[ii, left:right]), smooth_N)\n",
        "                FFTRawSign[ii, left:right] = FFTRawSign[ii, left:right] / tave\n",
        "        # Right tapering:\n",
        "        FFTRawSign[:, right:high] = np.cos(np.linspace(0.0, np.pi / 2.0, high - right)) ** 2 * np.exp(\n",
        "            1j * np.angle(FFTRawSign[:, right:high])\n",
        "        )\n",
        "        FFTRawSign[:, high : Nfft // 2] *= 0\n",
        "\n",
        "        # Hermitian symmetry (because the input is real)\n",
        "        FFTRawSign[:, -(Nfft // 2) + 1 :] = np.flip(np.conj(FFTRawSign[:, 1 : (Nfft // 2)]), axis=axis)\n",
        "    else:\n",
        "        FFTRawSign[0:low] *= 0\n",
        "        FFTRawSign[low:left] = np.cos(np.linspace(np.pi / 2.0, np.pi, left - low)) ** 2 * np.exp(\n",
        "            1j * np.angle(FFTRawSign[low:left])\n",
        "        )\n",
        "        # Pass band:\n",
        "        if freq_norm == \"phase_only\":\n",
        "            FFTRawSign[left:right] = np.exp(1j * np.angle(FFTRawSign[left:right]))\n",
        "        elif freq_norm == \"rma\":\n",
        "            tave = moving_ave(np.abs(FFTRawSign[left:right]), smooth_N)\n",
        "            FFTRawSign[left:right] = FFTRawSign[left:right] / tave\n",
        "        # Right tapering:\n",
        "        FFTRawSign[right:high] = np.cos(np.linspace(0.0, np.pi / 2.0, high - right)) ** 2 * np.exp(\n",
        "            1j * np.angle(FFTRawSign[right:high])\n",
        "        )\n",
        "        FFTRawSign[high : Nfft // 2] *= 0\n",
        "\n",
        "        # Hermitian symmetry (because the input is real)\n",
        "        FFTRawSign[-(Nfft // 2) + 1 :] = FFTRawSign[1 : (Nfft // 2)].conjugate()[::-1]\n",
        "\n",
        "    return FFTRawSign\n",
        "\n",
        "\n",
        "# test case:\n",
        "# the non-smoothed version of whitening needs to return the same as the original version.\n",
        "# it is not expected that the smoothed version returns the same, so currently no test for that\n",
        "# (would be good to add one based on some expected outcome)\n",
        "\n",
        "fft_para = {\n",
        "    \"dt\": 1.0,\n",
        "    \"freqmin\": 0.01,\n",
        "    \"freqmax\": 0.2,\n",
        "    \"smooth_N\": 1,\n",
        "    \"freq_norm\": \"phase_only\",\n",
        "}\n",
        "\n",
        "\n",
        "def whiten1d():\n",
        "    # 1 D case\n",
        "    data = np.random.random(1000)\n",
        "    white_original = whiten_original(data, fft_para)\n",
        "    white_new = whiten(data, fft_para)\n",
        "\n",
        "    # A strict test does not work because the\n",
        "    assert np.sqrt(np.sum((white_original[0:500] - white_new[0:500]) ** 2) / 500.0) < 0.01 * white_new.max()\n",
        "    print(\"1D ok\")\n",
        "    return white_original, white_new\n",
        "\n",
        "\n",
        "def whiten2d():\n",
        "    # 2 D case\n",
        "    data = np.random.random((5, 1000))\n",
        "    white_original = whiten_original(data, fft_para)\n",
        "    white_new = whiten(data, fft_para)\n",
        "\n",
        "    for i in range(5):\n",
        "        assert (\n",
        "            np.sqrt(np.sum((white_original[i, 0:500] - white_new[i, 0:500]) ** 2) / 500.0)\n",
        "            < 0.01 * white_new[i, :].max()\n",
        "        )\n",
        "    print(\"2D ok\")\n",
        "    return white_original, white_new\n",
        "\n",
        "\n",
        "def plot_1d(white_original, white_new):\n",
        "    plt.plot(white_original[0:501].real)\n",
        "    plt.plot(white_new.real)\n",
        "    plt.show()\n",
        "    plt.plot(white_original[100:500].real - white_new[100:500].real)\n",
        "    plt.show()\n",
        "    plt.plot(white_original[100:500].imag - white_new[100:500].imag)\n",
        "    plt.show()\n",
        "\n",
        "\n",
        "def plot_2d(white_original, white_new):\n",
        "    for i in range(5):\n",
        "        plt.plot(white_original[i, :].real)\n",
        "        plt.plot(white_new[i, :].real)\n",
        "    plt.show()\n",
        "    for i in range(5):\n",
        "        plt.plot(white_original[i, 100:500].real - white_new[i, 100:500].real)\n",
        "    plt.show()\n",
        "    for i in range(5):\n",
        "        plt.plot(white_original[i, 100:500].imag - white_new[i, 100:500].imag)\n",
        "    plt.show()\n",
        "\n",
        "\n",
        "# Use wrappers since test functions are not supposed to return values\n",
        "def test_whiten1d():\n",
        "    _, _ = whiten1d()\n",
        "\n",
        "\n",
        "def test_whiten2d():\n",
        "    _, _ = whiten2d()\n",
        "\n",
        "\n"
      ]
    },
    {
      "cell_type": "code",
      "execution_count": null,
      "metadata": {},
      "outputs": [],
      "source": [
        "\n",
        "data = np.random.random(1000)\n",
        "white_original = whiten_original(data, fft_para)\n",
        "white_new = whiten(data, fft_para)"
      ]
    },
    {
      "cell_type": "code",
      "execution_count": 7,
      "metadata": {},
      "outputs": [
        {
          "name": "stdout",
          "output_type": "stream",
          "text": [
            "1D ok\n"
          ]
        },
        {
          "data": {
            "text/plain": [
              "[<matplotlib.lines.Line2D at 0x31b7d2770>]"
            ]
          },
          "execution_count": 7,
          "metadata": {},
          "output_type": "execute_result"
        },
        {
          "data": {
            "image/png": "[encoded data removed]",
            "text/plain": [
              "<Figure size 640x480 with 1 Axes>"
            ]
          },
          "metadata": {},
          "output_type": "display_data"
        }
      ],
      "source": [
        "\n",
        "white_original, white_new = whiten1d()\n",
        "\n",
        "plt.plot(white_original.real)\n",
        "plt.plot(white_new.real)\n"
      ]
    },
    {
      "cell_type": "code",
      "execution_count": 10,
      "metadata": {},
      "outputs": [
        {
          "data": {
            "text/plain": [
              "[<matplotlib.lines.Line2D at 0x31b943790>]"
            ]
          },
          "execution_count": 10,
          "metadata": {},
          "output_type": "execute_result"
        },
        {
          "data": {
            "image/png": "[encoded data removed]",
            "text/plain": [
              "<Figure size 640x480 with 1 Axes>"
            ]
          },
          "metadata": {},
          "output_type": "display_data"
        }
      ],
      "source": [
        "plt.plot(white_original[100:500].real,white_new[100:500].real)"
      ]
    },
    {
      "cell_type": "code",
      "execution_count": null,
      "metadata": {},
      "outputs": [],
      "source": [
        "\n",
        "# white_original, white_new = whiten2d()\n",
        "# plot_2d(white_original, white_new)\n"
      ]
    },
    {
      "cell_type": "code",
      "execution_count": null,
      "metadata": {},
      "outputs": [],
      "source": [
        "def noise_processing(fft_para: ConfigParameters, dataS):\n",
        "    \"\"\"\n",
        "    this function performs time domain and frequency domain normalization if needed. in real case, we prefer use include\n",
        "    the normalization in the cross-correaltion steps by selecting coherency or decon\n",
        "    (Prieto et al, 2008, 2009; Denolle et al, 2013)\n",
        "    PARMAETERS:\n",
        "    ------------------------\n",
        "    fft_para: ConfigParameters class containing all useful variables used for fft and cc\n",
        "    dataS: 2D matrix of all segmented noise data\n",
        "    # OUTPUT VARIABLES:\n",
        "    source_white: 2D matrix of data spectra\n",
        "    \"\"\"\n",
        "    # ------to normalize in time or not------\n",
        "    if fft_para.time_norm != TimeNorm.NO:\n",
        "        if fft_para.time_norm == TimeNorm.ONE_BIT:  # sign normalization\n",
        "            white = np.sign(dataS)\n",
        "        elif fft_para.time_norm == TimeNorm.RMA:  # running mean: normalization over smoothed absolute average\n",
        "            white = np.zeros(shape=dataS.shape, dtype=dataS.dtype)\n",
        "            for kkk in range(dataS.shape[0]):\n",
        "                white[kkk, :] = dataS[kkk, :] / moving_ave(np.abs(dataS[kkk, :]), fft_para.smooth_N)\n",
        "\n",
        "    else:  # don't normalize\n",
        "        white = dataS\n",
        "\n",
        "    # -----to whiten or not------\n",
        "    if fft_para.freq_norm != FreqNorm.NO:\n",
        "        source_white = whiten(white, fft_para)  # whiten and return FFT\n",
        "    else:\n",
        "        Nfft = int(next_fast_len(int(dataS.shape[1])))\n",
        "        source_white = scipy.fftpack.fft(white, Nfft, axis=1)  # return FFT\n",
        "\n",
        "    return source_white"
      ]
    },
    {
      "cell_type": "markdown",
      "metadata": {
        "id": "jQ-ey7uX9Msx"
      },
      "source": [
        "Plot a single set of the cross correlation"
      ]
    },
    {
      "cell_type": "code",
      "execution_count": null,
      "metadata": {
        "id": "pWcrfWO8W1tH"
      },
      "outputs": [],
      "source": [
        "timespans = cc_store.get_timespans()\n",
        "plotting_modules.plot_substack_cc(cc_store, timespans[0], 0.1, 1, 200, False)"
      ]
    },
    {
      "cell_type": "markdown",
      "metadata": {
        "id": "GMeH9BslQSSJ"
      },
      "source": [
        "## Step 3: Stack the cross correlation\n",
        "\n",
        "Provide a path to where the data is."
      ]
    },
    {
      "cell_type": "code",
      "execution_count": null,
      "metadata": {
        "id": "cd32ntmAVx-z"
      },
      "outputs": [],
      "source": [
        "# open a new cc store in read-only mode since we will be doing parallel access for stacking\n",
        "cc_store = ASDFCCStore(cc_data_path, mode=\"r\")\n",
        "stack_store = ASDFStackStore(stack_data_path)\n",
        "stack(cc_store, stack_store, config)"
      ]
    },
    {
      "cell_type": "markdown",
      "metadata": {
        "id": "Of_MzZWFQ_Yn"
      },
      "source": [
        "Plot the stacks"
      ]
    },
    {
      "cell_type": "code",
      "execution_count": null,
      "metadata": {
        "id": "D3YC3JX5lSKu"
      },
      "outputs": [],
      "source": [
        "print(os.listdir(cc_data_path))\n",
        "print(os.listdir(stack_data_path))"
      ]
    },
    {
      "cell_type": "code",
      "execution_count": null,
      "metadata": {
        "id": "QKSeQpk7WKlW"
      },
      "outputs": [],
      "source": [
        "plotting_modules.plot_all_moveout(stack_store, 'Allstack_linear', 0.1, 0.2, 'ZZ', 1)"
      ]
    }
  ],
  "metadata": {
    "@webio": {
      "lastCommId": null,
      "lastKernelId": null
    },
    "colab": {
      "provenance": []
    },
    "gpuClass": "standard",
    "kernelspec": {
      "display_name": "Python 3",
      "language": "python",
      "name": "python3"
    },
    "language_info": {
      "codemirror_mode": {
        "name": "ipython",
        "version": 3
      },
      "file_extension": ".py",
      "mimetype": "text/x-python",
      "name": "python",
      "nbconvert_exporter": "python",
      "pygments_lexer": "ipython3",
      "version": "3.10.12"
    }
  },
  "nbformat": 4,
  "nbformat_minor": 0
}
