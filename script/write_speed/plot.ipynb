{
 "cells": [
  {
   "cell_type": "code",
   "execution_count": null,
   "metadata": {},
   "outputs": [],
   "source": [
    "# plot a series of write speed data from text files on S3\n",
    "%load_ext autoreload\n",
    "%autoreload 2   \n",
    "from write import s3_path, writer_types\n",
    "import pandas as pd \n",
    "from noisepy.seis.utils import get_filesystem\n",
    "import matplotlib.pyplot as plt\n",
    "writes = 5000\n",
    "fs = get_filesystem(s3_path, storage_options={\"client_kwargs\": {\"region_name\": \"us-west-2\"}})\n",
    "\n",
    "def read_write_speed(df, writer_type: str) -> pd.DataFrame:\n",
    "    path = f\"{s3_path}{writes}/{writer_type}/times.txt\"\n",
    "    with fs.open(path, \"r\") as f:\n",
    "        temp = pd.read_csv(f, header=None, names=[\"time\"])    \n",
    "        df[writer_type] = temp[\"time\"]"
   ]
  },
  {
   "cell_type": "code",
   "execution_count": null,
   "metadata": {},
   "outputs": [],
   "source": [
    "df = pd.DataFrame()\n",
    "for w in writer_types:\n",
    "    read_write_speed(df, w.__name__)    \n",
    "plt.figure(figsize=(10, 6))\n",
    "plt.yscale('log')\n",
    "for w in reversed(writer_types):\n",
    "    plt.plot(df[w.__name__], label=w.__name__)\n",
    "plt.legend(loc='upper right')\n",
    "plt.title(f'Write Time (secs)')\n",
    "plt.xticks(rotation=45)\n",
    "plt.grid(True)\n",
    "plt.show()\n"
   ]
  },
  {
   "cell_type": "code",
   "execution_count": null,
   "metadata": {},
   "outputs": [],
   "source": [
    "\n",
    "# Data from the log files\n",
    "head= [\"Writer\", \"Mean\", \"Std\", \"Min\", \"Max\", \"Total\"]\n",
    "data = [[\"TileDBWriter\", 13.088, 88.04347204699665, 2.6451938152313232, 3273.6684687137604, 3275.7281470298767],\n",
    "[\"ZarrSingleArrayWriter\", 8.533, 3.7834072094860067, 1.6261281967163086, 27.117829084396362, 2135.860640525818],\n",
    "[\"ZarrMultiArrayWriter\", 1.034, 0.08894374031923517, 0.7130992412567139, 1.7014696598052979, 258.7989716529846],\n",
    "[\"NumpyWriter\", 0.294, 0.05973566457597793, 0.119953, 0.8013498783111572, 73.5780930519104],\n",
    "\"TileDBOneWriter\", 0.755, 0.09461736400099405,0.5088777542114258,1.75008225440979,188.89991879463196]\n",
    "]\n",
    "\n",
    "df_sum = pd.DataFrame(data, columns=head)\n",
    "md = df_sum.to_markdown()\n",
    "md"
   ]
  },
  {
   "cell_type": "code",
   "execution_count": null,
   "metadata": {},
   "outputs": [],
   "source": []
  }
 ],
 "metadata": {
  "kernelspec": {
   "display_name": ".env",
   "language": "python",
   "name": "python3"
  },
  "language_info": {
   "codemirror_mode": {
    "name": "ipython",
    "version": 3
   },
   "file_extension": ".py",
   "mimetype": "text/x-python",
   "name": "python",
   "nbconvert_exporter": "python",
   "pygments_lexer": "ipython3",
   "version": "3.10.13"
  }
 },
 "nbformat": 4,
 "nbformat_minor": 2
}
