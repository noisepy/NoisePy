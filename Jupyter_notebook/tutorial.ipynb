{
  "cells": [
    {
      "cell_type": "markdown",
      "metadata": {
        "id": "PIA2IaqUOeOA"
      },
      "source": [
        "# Welcome to the NoisePy Colab Tutorial!\n",
        "\n",
        "This tutorial will walk you through the basic steps of using NoisePy to compute ambient noise cross correlation functions.\n"
      ]
    },
    {
      "cell_type": "markdown",
      "metadata": {
        "id": "FaKuajVCOo2r"
      },
      "source": [
        "First, we install the noisepy-seis package"
      ]
    },
    {
      "cell_type": "code",
      "execution_count": null,
      "metadata": {
        "colab": {
          "base_uri": "https://localhost:8080/",
          "height": 1000
        },
        "id": "rR860zaZPZGH",
        "outputId": "beed533c-e81e-429a-ce2f-d36dc154b248"
      },
      "outputs": [],
      "source": [
        "!pip install noisepy-seis"
      ]
    },
    {
      "cell_type": "markdown",
      "metadata": {
        "id": "_QvfrDdZOv12"
      },
      "source": [
        "__Warning__: NoisePy uses ```obspy``` as a core Python module to manipulate seismic data. Restart the runtime now for proper installation of ```obspy``` on Colab."
      ]
    },
    {
      "cell_type": "markdown",
      "metadata": {
        "id": "WtDb2_y3Oreg"
      },
      "source": [
        "Then we import the basic modules"
      ]
    },
    {
      "cell_type": "code",
      "execution_count": null,
      "metadata": {
        "id": "vceZgD83PnNc"
      },
      "outputs": [],
      "source": [
        "from noisepy.seis import download, cross_correlate, stack, plotting_modules\n",
        "import os\n",
        "import glob\n",
        "\n",
        "path = \"/content/data\""
      ]
    },
    {
      "cell_type": "markdown",
      "metadata": {
        "id": "c5JaBXKpO_Oi"
      },
      "source": [
        "## Step 0: download data\n",
        "\n",
        "Use the function ```download``` with the following arguments: \n",
        "* ```path``` of where to put the data\n",
        "* ``` channel list```: list of the seismic channels to download, and example is shown below\n",
        "* ```station list```: list of the seismic stations (we need to change this to net.sta.loc.chan) \n",
        "* ```start time```: we need to change this to a datetime object\n",
        "* ```end time```: we need to change this to a datetime object, or format it with a standard UTCDatetime"
      ]
    },
    {
      "cell_type": "code",
      "execution_count": null,
      "metadata": {
        "colab": {
          "base_uri": "https://localhost:8080/",
          "height": 901
        },
        "id": "fwJNnRURPxfW",
        "outputId": "3ff5bc1e-54b4-4810-8bbd-c316e8e437f2"
      },
      "outputs": [],
      "source": [
        "download(path, [\"BHE\",\"BHN\",\"BHZ\"], [\"ARV\", \"BAK\"], [\"2019_02_01_00_00_00\"], [\"2019_02_01_01_00_00\"], 1)"
      ]
    },
    {
      "cell_type": "markdown",
      "metadata": {
        "id": "qknkeipDP8uF"
      },
      "source": [
        "Plot the raw data, make sure it's noise!"
      ]
    },
    {
      "cell_type": "code",
      "execution_count": null,
      "metadata": {
        "colab": {
          "base_uri": "https://localhost:8080/",
          "height": 607
        },
        "id": "To29cLijWzdQ",
        "outputId": "f3ebea3c-516c-46c1-b08e-d473fa645e22"
      },
      "outputs": [],
      "source": [
        "file = os.path.join(path, \"RAW_DATA/2019_02_01_00_00_00T2019_02_01_01_00_00.h5\")\n",
        "plotting_modules.plot_waveform(file,'CI','BAK',0.01,0.4)"
      ]
    },
    {
      "cell_type": "markdown",
      "metadata": {
        "id": "Wwv1QCQhP_0Y"
      },
      "source": [
        "## Step 1: Cross-correlation\n",
        "\n"
      ]
    },
    {
      "cell_type": "code",
      "execution_count": null,
      "metadata": {
        "id": "jq2DKIS9Rl2H"
      },
      "outputs": [],
      "source": [
        "cross_correlate(path, \"rma\")"
      ]
    },
    {
      "cell_type": "markdown",
      "metadata": {
        "id": "UbXJ1fk7QQjY"
      },
      "source": [
        "Plot the cross correlation"
      ]
    },
    {
      "cell_type": "code",
      "execution_count": null,
      "metadata": {
        "id": "pWcrfWO8W1tH"
      },
      "outputs": [],
      "source": [
        "file = os.path.join(path, 'CCF/2019_02_01_00_00_00T2019_02_01_01_00_00.h5')\n",
        "plotting_modules.plot_substack_cc(file,0.1,0.2,200,True, os.path.join(path, \"/Figures\"))"
      ]
    },
    {
      "cell_type": "code",
      "execution_count": null,
      "metadata": {
        "colab": {
          "base_uri": "https://localhost:8080/",
          "height": 607
        },
        "id": "RqyfZTVWV1Du",
        "outputId": "efcaa718-02d4-4524-e631-e026802b419d"
      },
      "outputs": [],
      "source": []
    },
    {
      "attachments": {},
      "cell_type": "markdown",
      "metadata": {
        "id": "GMeH9BslQSSJ"
      },
      "source": [
        "## Step 2: Stack the cross correlation\n",
        "\n",
        "Provide a pathto where the data is."
      ]
    },
    {
      "cell_type": "code",
      "execution_count": null,
      "metadata": {
        "id": "cd32ntmAVx-z"
      },
      "outputs": [],
      "source": [
        "stack(path, \"linear\")"
      ]
    },
    {
      "cell_type": "markdown",
      "metadata": {
        "id": "Of_MzZWFQ_Yn"
      },
      "source": [
        "Plot the stacks"
      ]
    },
    {
      "cell_type": "code",
      "execution_count": null,
      "metadata": {
        "id": "QKSeQpk7WKlW"
      },
      "outputs": [],
      "source": [
        "files = glob.glob(os.path.join(path, 'STACK/*/*.h5'))\n",
        "plotting_modules.plot_all_moveout(files, 'Allstack_linear', 0.1, 0.2, 'ZZ', 1)\n"
      ]
    },
    {
      "cell_type": "code",
      "execution_count": null,
      "metadata": {
        "id": "IXemb5DHWOqb"
      },
      "outputs": [],
      "source": []
    }
  ],
  "metadata": {
    "colab": {
      "provenance": []
    },
    "kernelspec": {
      "display_name": "Python 3",
      "name": "python3"
    },
    "language_info": {
      "codemirror_mode": {
        "name": "ipython",
        "version": 3
      },
      "file_extension": ".py",
      "mimetype": "text/x-python",
      "name": "python",
      "nbconvert_exporter": "python",
      "pygments_lexer": "ipython3",
      "version": "3.9.13"
    }
  },
  "nbformat": 4,
  "nbformat_minor": 0
}
